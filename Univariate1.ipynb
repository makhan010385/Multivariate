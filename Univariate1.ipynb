{
  "nbformat": 4,
  "nbformat_minor": 0,
  "metadata": {
    "colab": {
      "provenance": []
    },
    "kernelspec": {
      "name": "python3",
      "display_name": "Python 3"
    },
    "language_info": {
      "name": "python"
    }
  },
  "cells": [
    {
      "cell_type": "code",
      "execution_count": null,
      "metadata": {
        "id": "5_yCLAVEcBFR"
      },
      "outputs": [],
      "source": []
    },
    {
      "cell_type": "markdown",
      "source": [
        "###What is Univariate"
      ],
      "metadata": {
        "id": "vMGlWlUIgWn1"
      }
    },
    {
      "cell_type": "markdown",
      "source": [
        "**While ‘uni’ means one**, variate indicates a variable. Therefore, univariate analysis is a form of analysis that only involves a single variable.  In a practical setting, a univariate analysis means the analysis of a single variable (or column) in a dataset (data table)."
      ],
      "metadata": {
        "id": "rLEQGnNgfYNT"
      }
    },
    {
      "cell_type": "markdown",
      "source": [
        "The primary purpose of univariate analysis is to describe data. Using different techniques, these descriptions are found. These techniques can be categorized into the following groups:\n",
        "\n",
        "1. Graphical\n",
        "2. Tables\n",
        "3. Descriptive statistics\n",
        "4. Inferential statistics (i.e., use of frequency distributions)"
      ],
      "metadata": {
        "id": "E3Xoh152gJgr"
      }
    },
    {
      "cell_type": "markdown",
      "source": [
        "#Graphical analysis\n",
        "Various types of graphs can be used to understand data. The standard type of graphs include-\n",
        "\n",
        "Histograms: A histogram displays the frequency of each value or group of values (bins) in numerical data. This helps in understanding how the values are distributed.\n",
        "\n",
        "Boxplot: A boxplot provides several important information such as minimum, maximum, median, 1st, and 3rd quartiles. It is beneficial in identifying outliers in the data.\n",
        "\n",
        "Density Curve: The density curve helps in understanding the shape of the data’s distribution. It helps answer questions such as if the data is bimodal, normally distributed, skewed, etc. \n",
        "\n",
        "Bar Chart: Bar Charts, mainly frequency bar charts, is a univariate chart used to find the frequency of the different categories of categorical data.\n",
        "\n",
        "Pie Chart: Frequency Pie charts convey similar information to bar charts. The difference is that they have a circular formation with each slice indicating the share of each category in the data.\n"
      ],
      "metadata": {
        "id": "n0vGqFaUgj3b"
      }
    },
    {
      "cell_type": "markdown",
      "source": [
        "#Univariate tables\n",
        "Tables help in univariate analysis and are typically used with categorical data or numerical data with limited cardinality. Different types of tables include:\n",
        "\n",
        "Frequency Tables: Each unique value and its respective frequency in the data is shown through a table. Thus, it summarizes the frequency the way a histogram, frequency bar, or pie chart does but in a tabular manner.\n",
        "\n",
        "\n",
        "Grouped Tables: Rather than finding the count of each unique value, the values are binned or grouped, and the frequency of each group is reflected in the table. It is typically used for numerical data with high cardinality.\n",
        "\n",
        "\n",
        "Percentage (Proportion) Tables: Rather than showing the frequency of the unique values (or groups), such a table shows their proportion in the data (in percentage).\n",
        "\n",
        "\n",
        "Cumulative Proportion Tables: It is similar to the proportion table, with the difference being that the proportion is shown cumulatively. It is typically used with binned data having a distinct order (or with categorical ordinal data).\n"
      ],
      "metadata": {
        "id": "jwow4JXdg11N"
      }
    },
    {
      "cell_type": "markdown",
      "source": [
        "##Descriptive Statistics\n",
        "As the name suggests, descriptive statistics are used to describe data. The statistics used here are commonly referred to as summary statistics.\n",
        "\n",
        "For instance, if you have to describe a cube, you have to ‘measure’ it. By measuring its length, breadth, and height, you can describe it. Similarly, these descriptive or univariate statistics have specific measures that help us in describing the data. These measures are-\n",
        "\n",
        "Measure of Central Tendency: Statistics such as mean, median, and mode are considered here. They help in summarizing all the data through a single central value.\n",
        "\n",
        "Measure of Variability: Analysts also need to understand how the data varies from the central point. To understand this, specific univariate statistics can be calculated, such as range, interquartile range, variance, standard deviation, etc.\n",
        "\n",
        "Measure of Shape: The shape of the data distribution can explain a great deal about the data as the shape can help in identifying the type of distribution followed by the data. Each of these distributions has specific properties that can be used to your advantage. By analyzing the shapes, you will know if the data is symmetrical, non-symmetrical, left or right-skewed, is suffering from positive or negative kurtosis, among other things."
      ],
      "metadata": {
        "id": "zAgfcgmClQsV"
      }
    },
    {
      "cell_type": "markdown",
      "source": [],
      "metadata": {
        "id": "2AQnzXoapQqt"
      }
    },
    {
      "cell_type": "code",
      "source": [
        "import pandas as pd\n",
        "#create DataFrame\n",
        "df = pd.DataFrame({'hours': [1, 1, 1, 2, 2, 2, 3, 3, 3, 3,\n",
        "                            3, 4, 4, 5, 5, 6, 6, 6, 7, 8]})\n",
        "#view first five rows of DataFrame\n",
        "df.head()"
      ],
      "metadata": {
        "id": "bC4bEXiLfWAH"
      },
      "execution_count": null,
      "outputs": []
    },
    {
      "cell_type": "markdown",
      "source": [],
      "metadata": {
        "id": "X7hmpT5vfS5d"
      }
    },
    {
      "cell_type": "code",
      "source": [
        "import matplotlib.pyplot as plt\n",
        "plt.scatter(df.index,df['hours'])\n",
        "plt.show()"
      ],
      "metadata": {
        "colab": {
          "base_uri": "https://localhost:8080/",
          "height": 265
        },
        "id": "O6aSUWaneDDV",
        "outputId": "01247cd0-8f29-4e53-dbeb-a4e887ed8627"
      },
      "execution_count": 3,
      "outputs": [
        {
          "output_type": "display_data",
          "data": {
            "text/plain": [
              "<Figure size 432x288 with 1 Axes>"
            ],
            "image/png": "[encoded data removed]"
          },
          "metadata": {
            "needs_background": "light"
          }
        }
      ]
    }
  ]
}