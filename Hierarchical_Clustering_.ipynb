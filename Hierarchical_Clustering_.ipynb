{
  "nbformat": 4,
  "nbformat_minor": 0,
  "metadata": {
    "colab": {
      "provenance": []
    },
    "kernelspec": {
      "name": "python3",
      "display_name": "Python 3"
    },
    "language_info": {
      "name": "python"
    }
  },
  "cells": [
    {
      "cell_type": "markdown",
      "source": [
        "There are several Machine Learning algorithms, one such important algorithm of machine learning is Clustering.\n",
        "\n",
        " \n",
        "\n",
        "**Clustering** is an unsupervised learning method in machine learning. It means that it is a machine learning algorithm that can draw inferences from a given dataset on its own, without any kind of human intervention. \n",
        "\n",
        " "
      ],
      "metadata": {
        "id": "0QmVQl1BRpoa"
      }
    },
    {
      "cell_type": "markdown",
      "source": [
        "#Types of clustering method\n",
        " \n",
        "\n",
        "There are five types of clustering methods in machine learning, these are as follows:\n",
        "\n",
        "\n",
        "1.Partitioning Clustering\n",
        "\n",
        "2.Density-Based Clustering\n",
        "\n",
        "3.Distribution Model-Based Clustering\n",
        "\n",
        "4.Hierarchical Clustering\n",
        "\n",
        "5.Fuzzy Clustering"
      ],
      "metadata": {
        "id": "rTTphJsxRt9x"
      }
    },
    {
      "cell_type": "markdown",
      "source": [
        "#About Hierarchical Clustering\n",
        " \n",
        "\n",
        "Hierarchical clustering, also known as hierarchical cluster analysis or HCA, is another unsupervised machine learning approach for grouping unlabeled datasets into clusters.\n",
        "\n",
        " \n",
        "\n",
        "The hierarchy of clusters is developed in the form of a tree in this technique, and this tree-shaped structure is known as the dendrogram.\n",
        "\n",
        " \n",
        "\n",
        "Simply speaking, Separating data into groups based on some measure of similarity, finding a technique to quantify how they're alike and different, and limiting down the data is what hierarchical clustering is all about.\n",
        "\n",
        " "
      ],
      "metadata": {
        "id": "bVHeCCwOR881"
      }
    },
    {
      "cell_type": "markdown",
      "source": [
        "#Hierarchical clustering method functions in two approaches-\n",
        "\n",
        "1.Agglomerative\n",
        "\n",
        "2.Divisive"
      ],
      "metadata": {
        "id": "PG0a9lgHSFUD"
      }
    },
    {
      "cell_type": "markdown",
      "source": [
        "#Approaches of Hierarchical Clustering"
      ],
      "metadata": {
        "id": "ObZsu80NSOez"
      }
    },
    {
      "cell_type": "markdown",
      "source": [
        "1.Agglomerative clustering: \n",
        " \n",
        "Agglomerative Clustering is a bottom-up strategy in which each data point is originally a cluster of its own, and as one travels up the hierarchy, more pairs of clusters are combined. In it, two nearest clusters are taken and joined to form one single cluster.\n",
        "\n",
        "2.Divisive clustering: \n",
        " \n",
        "\n",
        "The divisive clustering algorithm is a top-down clustering strategy in which all points in the dataset are initially assigned to one cluster and then divided iteratively as one progresses down the hierarchy. \n",
        "\n",
        " \n",
        "\n",
        "It partitions data points that are clustered together into one cluster based on the slightest difference. This process continues till the desired number of clusters is obtained."
      ],
      "metadata": {
        "id": "cf9q8o-WSTPq"
      }
    },
    {
      "cell_type": "markdown",
      "source": [
        "#How hierarchical clustering works\n",
        "Hierarchical clustering starts by treating each observation as a separate cluster. Then, it repeatedly executes the following two steps:\n",
        "\n",
        "(1) identify the two clusters that are closest together, \n",
        " \n",
        " \n",
        "and (2) merge the two most similar clusters. This iterative process continues until all the clusters are merged together. This is illustrated in the diagrams below"
      ],
      "metadata": {
        "id": "qbyM-RhoSmuv"
      }
    },
    {
      "cell_type": "markdown",
      "source": [
        "![Hierarchical-clustering-3-1.webp](data:image/webp;base64,UklGRrBLAABXRUJQVlA4IKRLAABQjwGdASotAg4EPm00lkgkIyKhIvL7CIANiWVu/FNYo8l9wrvuAD4tQLP4mGS78k/63+h8CWT/C39j/QfuN7XHIviB6a8Df1j9mPu4trcueWP7Z+6/9b/K/mZ80P8n+1fuI/p/+x/6/5//QB/Vf6Z/vP8b63f7ne5T/Ff9j1C/0//a/uX7zv+z/cf3Y/4f/k/lV8hH9Z/1H/37DH94/YN/c3//+vZ+3/wuf2b/x/uH7Y3//9gD//+25/AOp36X/3P+zdx/+J/tX7aej/499N/lv7R+7Xrm/4nhE6p/7voZ/JPuF+y/tvtP/cf+P/dPFX4q/3H969gX8k/m/+k/Nv0M/8Ltutz/2n+u9QX2Y+qf7f/Ff5T9kvgq+O/6X+X/uHsV9i/95/f/yY+wH+k/13/hf4XzyPCu9P/aL4A/51/hP/P/iPzA+mb+v/9/+q/3fqA/Rv9H/7/9j8BX89/tn/b/w/ak9Ikmoj3u6MV0YroxXRiujFdGK6MVoSayxQfHTfklKOnpi6ZxRWOLmgij8DG58LU3Ly2Wd34BvcdlI2hVIeX31Ki2/FIe0H0yGgiV0wmpfz2E6oGWhCIafWs7WD12qs7hm1ICEAtV93Qog+TBZGooeBc6cAl0fky2eSkhoPzEELpOiPnh91l5M0hO06qY5JtJ2WCS26T8z16v6Ncy2gVdAO9+YeG8hA/0629CsqIQc546C37MqKL5mc4KQk6UGk/+l4Fjo/+IYuvKCqizpM/fzpmwjB9Ra4qjF0ruQeBFXLfJF0Lanpdo2zD1jhufI/gWaePSvvB/pX/jfXuve7oF/DFVKbV2fu2odMr3fiUrqwt2O4IdwQ7dxvtxjPm+GVPenh+FQnPY3gAAfzEO/V2ftREoNCPNqXq03p4r9TNNnM0gqqGYD8M+Lzqjo28zUBzrOhzwtnUUnjTpFzuj3SVX5DBVcJ21+01ww7SRou96aWqih6puu+CO5VFfCaL5jXwmi+Y1ldtiNbZpxzR4P0IGCNs9CBgjhBLHZUw7hutWeuwRtnoki2oIJZItqCCWMljX3JBb7A32BvsCIzBEcpL5SXykvkqWaDsqsk/GaTBEru7V0h4axXRigRO9A5k4jHvXyQWQFwhsK88cploUo8z+XKNRNWUXc2fMgrhROi3Y/DhxLwE56tLRQquY+I5+HsDfYCWfBUOrn+0NqDAZGgooSrxTovEE+cakxX7dF1AG+wN9gb66cRmgt9gb7A32BtcEXUAb7A32BsNbJxl1Fij0bziyr7VgEhnQo6P1ZReIKJDuAdwWkzQKCfN+7ou4rSNqe/ijvbwuIsGRgMcGb267XePrlvsBknMcvupd+LoAbibZlymIBkCXHzp8/6JDz5ejd0LuuriWw9a3yO038c5Ggg7ZD0RGBwF9cRZcKi9l09YmbGhdChQ358siUl8pL1Um0vTNTSb93RiujE8aFBcXiyl466MV0YroxShuyZayHokPRIegfMmvpl0AAcivs0M6TXwmi+Y18JovmC0ke36bwO4ry4Udf1Qc0msrpuhzukBl8s7iRcO1F8A0Tdx26eiZrxop+eoIJZItp2ehBLagglki2hz0i7A0Tdx8Ads7EZhP+JeCCCWMdIGLmz5jwmvTGVWvlndIDGno5KhcpNSX0hnSa+E0QwyvhNF8xrTIt9FW1Hd6ovEFEhR1dD+iQ9Eh6JD0D8EPQG9zuWEIXlN4Idury11s5LHK9rIP2VH2/+LvlEKrXhg3oeiQfa1L5iCy4OJd+SIseoZuVjjZS+LKvU5C5j7DY1mW+wGsKCy0gnj3ZA57chj9j73OvKyZfPKa/bT8YxkSkvYrt+xdmsF9ahSP/spVW8QUSFHVz/xnLDAAOgTb7A32BvkfBtTb7IHLfYG4yCILBI/jEXkHN4dR3eqLxBRIeAaJOKHpEMZBoUg14dbXMvb1rC3xRDJ9B/OUtC/esrgb7AXj26YeBuYWw7nGLqqwubNNTS8ddGXyc65aadw3AY7rVZxd7k4gLTQm8FWSTLWQ8/clMSGKqhGl6orXsH5XFdtPj7J5nu6T793QULi1BaLxQCnsW+wN9gb3wK1vOrY6Eti9rwZayKeovEFEWCchD4IdwQ7gh289k8z3dJ9+7oxXBmppN+7oxXRiui/vDuk6zASVOzdpECXCrl9+DvR3FEiPLHU7kLjfLO6QGL8oavRGQVHLHI46ov6oOaTXwWRi/DKOv6oOaTWhkLS5WIrtoUWmvhNF8vIBWGC4JGmM9t0r4TRfMDh5U/KdpC1yvooZfLO6QCryzukBl8sns2EjRkvlJfKS+UfgEsmM31ReIKJD0SFHWWkEx6KqYaEAs8KJ8t9dwgnxUKU5D0aBIQX645BK1ml3gh26/Nnk0MhQ8SCdEOoF5x//w7qOS9Xovpicc6MV0G8/4mkAHZZKiA86Xe9sznv/+8v4T12gjHengYraWtrIegBkJuGKE3O6dQ9e8XL81uNSPiOqT9ZD0SHgGggCXKod/Gx6ZNSb3dGK3Yij1rwmOBDrLS2Q+Qt4gokHGwSm1WVpVOpTPoSXykvlJeytgwJUKKanvk1ZSqnWmFgNdY3KKif86R8ZArdgvXBhk2iuV0YrceWdU1AOLQs0K5ZgI6JqylVMMZ3qLLK+myXycwTFV1gwETS2gm7mEXU713qizF5jJ1mLIMDy0yu8bn4FjYTXCO9tmie+UtSXyjr61x5zOWk3VZq0QTkIfBDuCHcCugETYlocGLd1PfJqylVbxBRIUdXQ/okPRL0h6JCjrLS2Q+Qt4gokKOrof0SHol6Q9IhqFKPavKuYFOL5jXwmi+Y18JovmNberTp5OosjFutSGdJr4TNbinmhnSa+E0XccYIi2r1fpsZ0mvhMurccmUe0FjGD8KPmoOaTW1oJWEStSWMaOWNQQiO6QGXyy/RNQQIIJZItqBXxDtD1CQSd1e28TIPVF4cpJSeFBjgKdtur23iZDp+00t9me9aGI1ONJZIJfKQ4xJzIDB8MtVmcWsh6DYHHEsEz61hO+33F83w8dk92T4pFdF8BRDPNG1PPyIayAuEDc9X/mdl/sYUf5xfB7urSg59nhiugmHlt8//0xgY60cTwcSwgjriSyN6Ofmt3UDdVF4gnyh0k766WbUcN9NTPGHV8F1bqHnnlF7cw/QkvkvnMvbKz42DTYd4uGdPStWUXiCiGnFr9LNWjJQgj8Ub1oKdF4gaxTyqOkS7TRIF8wl9dEJ6i8QUSHaeA4NwRMUFyv/FceG/sxnvM5dePqi7pDnWqNcup9fRihheFqEBpfKSqMH0zZTXVSyyugBw7iSp44lKGt8+CVTXVreqLubMU+dsP/FxiiGFrhPJ8F/V0YraaVBbrW97J9Awee3sQodnuQRsXdP2d3RiugjEzSHo/vtCJLy70KS1F4HeW2aCW1YdZI0QUSHokPsB2c+FZVV3qi8QUopXFIjNFDlvsDfYG+t9kzJwlZReIKJD0RYBqNR0XGR++1KQGXyzukBl8s7pAZe8Un4cgUjlhR6B8JovmNZpyvJxvU18JovmNaI4YefRBRIdld7mWG3ESKGXyzukBl8s7pAZfLO48T758PEFEhJNVrkqF18s7pAZe2kIjBfkgglki2jGGiYbbmIFYtph5xqpglPBvP+Fb1T3wZ64W3PMa+E0XzCDp0sQD2+iQ9Eh6JDwDRCeovEFEh6JCkOdB1dlTRn/1T2DdwGxGZy8JyUFKu9UV789kzKMhjsHFBxLAel//8t1M0VWzn72dN0Rky66yZ3RENIOV+pHxcC58kEyzze9DXVP0lds3evrn0pych0nIgDFhOP0WeHzBPcYQG9+jp/MxMAtpwhvOhKM2QEaRN+Ly4qGRKS+Ul7NdBokxLxZSiPe7oIdIzuEweD8k+gNcZTrKsZKK1pzuS7B/G7BL5SXyQRt3VojvbayHn40sa/A4YE59KmV+Kt+v9e0CN9f56qCUj1dJzxvykD931KKlZdI0dsmq+4UR3ttZDtYHBPHGjVF3Mx58+SHKNbvKxvLPYV6+Dl9YqLxQreqAboadW450JWrKLLVysNFQQUo2Msgza6S1FgkLMKiny3w1pQ+HrEl/Bw/42v9wPodJ1anEYiOVD0SD6ZWOQJEhx5AFD/k0wYbFwdGiE9ReIKIijZp+aucdoPshLlqfAiW4j53BDuCHcEL9rrQ8QUSHokPQQIyraju9UXiCiQo6yRogokPRIeiLDy27AJzw5pNfCaL5jXwmi+Y18DBuUYmUumoOaTXxrEEEskW1BBE5QWPWwAD+9/oAAlL/ETdt7vN2zmpFh4flnXivBEpyprhV+KJgcHpMOcriDjCvxWqnZa+gcilEEPX75wdFbKCTC+3lqWGt9Tk+FvQGQtFn4HiNX5c/fcpbXBlWIqcORiKaE4nY5kYRj4Ob2oF13G0yLC59pWoPl4PPAw9WB24hex8hd6tqyBRTdqNqmxnSUpdVdZ/b+HzgaS3GRf360F6pk+E3jdH7bav2vZWOZlvpRlXjmmmLbYOX/8cw1wu2bsnNj6+3IYffurdQ4y2IK0fv227lTKmG/iuxw0mjKM+dWrAMJOIwATtUIrCsOJAUXOlwWmS91hFM386TqHiQdZwXkZiPjmQuynf3feEJu3F9dl6dqYVA8rxsf3crtpo4NUsuQguSh8hOKsRr/ZNjcPcPdjAWtaDWvtITWb8yNAkMuAE9qZwF1Cmzb6ANz/AePzoB4R/8HT+SstzljHPHoVwW2fan79LTDx5I9Kjx2q7cipwb8j4YocS0gOQ8LzWoQ5kd2uf5cuajXHsV+V0jULxx8kwXv8Ke6PXUUXrWftNmDoVpS+XdLqPtsU/wE6JPHq5aL6EgtdC7bqUR/c/AXku1ZVf9moUEa0JBUC3NMYWU/7ExG2riIPJONReP0yiQDI7vcnMYj58P3fqtfjoMS7L+r/YZZKHIVswalbU3XsvhW/zk73p5Mi0lwiSABlHhcVmDd1FN9MDD/PRdf/heMoWJISUFCVzEC2cTOcUmO/mmngY65kf4GSolXaXme7WIhPpVe+X5FuwfXUsh1SZdDfYXoGa7a6fcr8+QQ7wp2DsIHpwnVQ4YaAeQmYG6EOPMnfALINitkkAlp7Bbe4XhjC13X1d/NY7AZFB/O2v+exd+ok8RizvVgv1aL6e0K56gSdiEc8guqG1Apc8//X9vmbMHxCfJ0ArUb+Q3CJmGHFvVpGsR6tvwHyQeZDGArUG/r6xakXuhEmwLOxt3qgNrMdMJxprDSZNBer1GfTK1s5pFTEx+wfgwSMJ5TkoPvi8Q9/u8AKJVJNzxJEsMF9fWkPXs2Hz2jfznOi5CaqeA5LB9+Cc/0l9LV93PFvkt80CVwC79gP94k+kSGM6PbeWpVbGdcyyoNRJXMg5aByJz02psdcfmkRJ7HnJUjo28yJhl5DkEr3t61TSYnomTq4+url90Rqwyk+hcD0Gjujc5QdifAyCGBnkRxI+ej+dVJFD1hQqFOMTOi6sTPeEXdcu13l3KLT27B9cKpo11c5U0EyhD6GejVkmISnC/hHvDVfuoJEpIYxea7v2Ip/TkpnuyW/l9D2b9s/AJzfrlq7MKhZmiYe53JFuqTyUtWSxmVc88aKzv1Iz66Ry5PK8plr5MjmyFlb107r/mdm5k6DBrBkuTPKAHPRTfumi8Q68cnk/MfnswOd8B31jYMQAssciApIw7S/g5bNGmG+NM2CvB7/1ttopB04LLsxjFcx22NiF2AMOCJtqbPGZ9yp8iIvHAxgyUJLmbVBs5irdbEaV1fKPihYPT2vFSZmtyS3fTI4vOKoUUHRDxQ8QZlicI/6FXwF8v90q5DE9Hs65KM+dNlWdyjG/HH69a60wvFcg3ms4wkJ0pYTRYQwbuW5FjB5USPZs3SBjyDZd8JlH3HYXb/EqTcsfKi798r56iZGaV/X+6nCGzsj/Z0vHdxpzP/EbpjABd4g4f6ktnyhkT6gdmLW0xGQrsqBUCsFelXtMBuc7OI/BYAP1pfs4V/OQfYgG8EK8IrfJveDWbOzlrj82k//wVZmdzkQgTc3GumP8l+ldt5s/b9iak1UReWn0NNTl2rFxxqUnt2DgJYtCxO3PADlX10l5iNAqxqhf81C+QZHWbB158ft8pQhsv0vmnwZNzpIAM6o4F+QYvCumDz+7BXhZLXmmDujSTpYMmfn0vVjTgKcLORUrRUlYK4CXKZwvhSVFhfrNcUYLeaedsxYURlIInH6FyWgE5Y++0nLvXx/tsHL/V/fJg3YPxFxaGkA2Lw8//NfYdfgacalocwnDP+ru+Bm0vLRcZXTfRVYF3pS7lGilvVORS8m4F9e9+AAe4gspCa5YjD1AiWRM5i1yyEgCcScHGXrO2BeDtdF75nHZi58zhxhN8MC6dKt5QOupoCE4YD6CzAjMuhCZ1J/yMWj4aHT2/lpGfsaN0cR6jTfiIGdEvFE+V/oUBYIZzEK3abQR1GEl68/yuhKNxEX2aJNXux7Qf2OW2pCEPL9eqW9lP+bsapFNDwErmgJAp87BLX8uCQyGPvlnQf65BUvMqvBt4l3+nIbFoMsoVj/2/VJZxmWPCDlLJ/HXJUgczsbx2Lq2GSfWuIcHlbWzdGUQxMa/9L3Gtk3Ua3HrqX4W3enNIIg1doqKatRcZnWVSraBp1Lb4Hx14eSmRJcgANQNKFAcqJBBuswp690FGaXmdTRIjkhXDf1fvVvON/q4/5jaMfMzy2B85Jq0r7uvoB9cIaJUDTpO/iEP9B+7RGu3fTidXYItO7uQp3BAPAa7HTcLEdPhuBPIXSmcXz969799aJoNvgm5Dke09axozKaXDJfdDZ0RvFoZ+//dj8RcIRAvGDo0xjyNuRlvoYff8emSLFPP3dL/2e7dI6nwNvqjX6392brjWi24kSQOOoQv88LFq6GBX3Q6S1e5X9ynmAZxcIlMXH32BKX275po06+ySBiO1pE+hM2Tans2MQ2pPif4yFNXjD4SCOlEqxFGRYDJBO3scZKR+fRUv5WB2J75AM9zD4Du6wWCfa70AeGF1ryhculnh4lt56VnEBchoCfagIBXyxghw2P4GB2eTqx1rKumBXtgxtZ+/sB4h3B/45UVuYdRa4Xow1FRdSwyhPMl5RBKWrfHqPFO6OU0+O+qjiJ0LrBFR/lqw/qCMsoDrfyHlKyig3FKbgWviCUu76v9bD2syDOMbi2mEUG7xZdxhOyrb4o8+8orsm1iWjWAOO6qa+4svM2w5CwzYDWJ7jx9zoiHBWefIZVL0kVV7zhKmrGOlFs8ArRUqPueKe5dZu5LTkR9pFNBPfvQ4hLZdQgcr4D6qyNsdhwLStCBGKCyLs6yEuU2kDOBWm9bT3UCYUG5mj7RhB4JS03/mFv7/mQyY1qnATCKffTYAvMtC9WDHAMyyNygDLuZtkOQxqt+SmPdStHYF1Z4Wq9W9rOuUj08Y+XC70HluwuFwKiwPKM/nYkxNHhPz+XkrkLRn6Y1h2CLUUlPy34Sx3WbYb3goebhHbY+gfisoqhfT4Z5dy5tjgWBGRoHseljmSD72e3upwV6YrO7UbtaNH/XIcV2cVHuAN0oRsJIyRzyq9UtkzRNDl0jbEA5Jn5K4O7KEro8bitd/UtbikrYVnBPTJWInnC/xKyK/bAk6gJZffpPHZzzH1s86VGutF1ax5mHdilj2PjlRdcNchw65NRqF4zfDGkECbN4Ef5fySOP/jMw1l6yfM37H/jc38jh4pF0j6Jeb/iYoG/7V3/L8yxj4n/hURsPt5kkbfw7VWLKkj3U3/983OjDtyPwjBFS62dsx9D0Syyodv7bSL6TFqAhm9vwEo7HcxO1so8o/apIgR8odXQylZU9m7na7aK3q5aCaEuELED7WHMM+n342xNwbuv8SFuHT91ZvYBmQ7+3dRtsZAUlVeb8ucuRhvlreIADr6RiludxDFmh6N6PIe32dtl7U3LJD1keSQ0GPNCSEdaj2HVWbehDuF1PdsQX4ruAtGJyKFMsH3CW6fBCqDfPwIigQfhuACRdsUmCm9/QkDBZXDPrE73PIb43oh0Lay6u/CKDEO7jc3gcMZl3qufwQWVYiTOTcKTMgnzkWAa00Q51jltoJJSzD/RFipr+Cz1xKmW7wwKdJPaiDzWENq+nByyqZUAvBNtWP4D9IHMIhtEdKmATvXEYFZ2jGm2dBYJ287Rd1AzCqEQgDqMRT8j8fWX5tnoT5iT0yZc2GtGcxvD8NQU2HFesRC3FU0S+EMLSoQwhjlcDxAJ5j2muPCq0Ctsr2n3Kmrlly6WcADw++sg4VkqcdLzTw5EMDWhloqLqkOE/kUrIg/8Cc1R6ofjliNkX0ye2EKBcefV1G/E8veAMs13l/clM3CYIooiajr5mJW67Q6T4MRTCQE8CRRgJIwJZTXBs238EX6wBbcqWanhZGs28rB7IAvgNvS1c4CUUJ2WcmHnpBRt786FL2lvy2hbRaYJYHir4RYeNmZCy9USXDuZHBPBlKpYNHSqiVc6/FSUw2jZkgpbgnqH7TxWCXLaGmnE7zW435GVlyRXXUTi/yQTwZ5C6vZETCrIdPWOlXbceo3fm7unN+oJNYmlsAFkVDoEUtQZZ6b/p73GIXdB8A/x1OIvJGvEJNsM0NtB407xqpMCiR1kjIYAJ80gNULkPB4cAC5H52M3F8cR+6J+dcc6hjnPasghP44dML7RYM0eCuEJRL2HjLOrqAVaGF3JXVp9rmYt+FtXyIjAUVdCbjYosTMPpzvLLWLrxnJlPSEnfIL7Dx/WT2SL23NJXYSFk8Vg17BfaWN7gjGiq8cI5yyP4sujqIGz+A8djY3/OX05Wg+9FZz0KGWapLArZANoLhKqiy447vOLpExVfmWqlwFw/pwtmQJP4iPx7QaRJYdKLW3k0yOe7nZ92OYnO8KYiXzxu1RP51HwXkFXlXKPZk3E9jbwU1GX/IHhBQpKS7BWE504srHCFaGXwfeXOG+AU5WUG07C3+YUzsUJIYZ74ycSXs2JtctHlJBRjJU8r2CEMQqbboBX9o9BP6QDE3Ia7j3yay1O60pakKWVfEmrljOZpIJkj1WFlZces43xxohUqiKkoCd7XGkyURbfqM6FflfjaVWYUsgRCo4eTozlt+4ZmESPD2rNsUCTX6zT8wOZ+31lt3Mtv1vnQgP5AKa73HEWSVegSudZOCcuuXS6KMlCxiR3r3clQC+8PcegBRmYZNbWsfid0A8+tjTTWQ+HnghlIsc5/arfkyZr3FioMmOSy48ofvG1hozY+yEU96X/3Vrkewdu4CF5cEPvnICUuY9ogFzHSZYOT5gQx7sBzxSBkj+EZPKr9waZeQfr3ztOQBjXMzhFccYVbeomtMjYRz3GJGIqrxuVp0ZVOZ/nfhmmKU1IM9V/vw3s5xMoqyUrQ5TZL8hpK3TxSlRMNl4OCXZqxI9QGys3F2NVGyFoSl2ZfgmzQ9yhFcE0AKd/a+4Po/gOLSwLcg+mE5U7OfuZvKdWiE/yMgXJ1UnK2FNy5vsptNZXmzy964TdPW6fIV6uaVqTkWxNNiIgqznEmJ24DI/RDIf8tsaqzps3lKqj51z/wbTLlHfp2h0rT0jscLNDlFr4K5jCxocdyvfKnm3waNwZRAbNiq+AH1s9OcXEVnMKiUYeV+TDp6h6xkXIC/rN+un1aAlhVeOa7berc9tmTr8CN1daN7+R6E9opxsJbMKYkA4k6DO729ScaSiGvmw2CcuS5GDtkAHrUO7gHGC8SK2c6D7sIJqavpzwFkqOVltMgXhjwETx6negegYsjTi8PxdBVZ4PLYHOLr2NSz2hUZmIh+E/N0j7tXOpRmDvW1UV78uohY2y2nsByBo5eCPdaElLZSPT5dmk8wWEVd1y9D0yUEfzih6GhBnuC6Sl4JXniAs3jpmrBrG/EGwH2wyRo2EVb5PUxGu/xLzBsZZ0XSCQUVyVVBchg7j8lFXjVNtCWFO/iYtG2agkIZJ62N8KjnMkGnhlrAChBk5nDChmOaUL25ePxa1Q99ifXveW+AQ7Atd6tnvsqwZGbabJIShF7T9RjxN0scKEMrC/Afofm+ifG9gmQ2w3i5NJnypPZ0eBV+9vt1sOEhIVkWj98GCKlplMAAR3fNA4x0rAAAAAAAUQRabis8D6bh4/+FYmCiZQ8Q2HI4V0gjzG/bjoiOg5ielJ4LU4obp1jjY9VlY8mczgN5c0/gpTz8p72W+qZKXc/e9MGndO3nIiL9dzqgexu3va6sLqYDLBR8DIjQzxIie3LqUJ2qzqrO+xYd/eqAhtIOKc7BpRx7pdKy3tK9T6wgC9OvDvo8RccvrUNutrEFjjasUBrUXPKB4JIEPI+DHDBxjT90SQtsZrSI3KEY4AdLUdgWzmObzRJ+IM/ec7Yrm6SaPtxpUGaM8yXS8o3q/CwKFM43BREzBj522Nj4zTPTR/rgPkrXl/B9LkoGG20lE06YSfx0/2rkMhiaEDsTun6nqm/7xizM/fgf9XuyxSauXttei5f7Bog22U/oDYcYOPGpL0aEmAhOvgJVr7siViW+ltCmiNJ03Ha46awgME0f/YuVTnElgrJfhrU34VowweIrwE9X+j0rhAYBww2LffOf5cySExAICv4omDzhBkkj8FAEBGRvItp9Jbjcg3vlSj1zAh4qKesq+31ncW19VFMjqM0Z5kAE/qXmX/uOMhh+WWpsmutvuERmWPCeEqy+h5L2MsvFj2ABOXwjR2ifGhtAjGd3LYostJClvE+t/3ao/aYEJPGzGG2sPDELDZb1zjadWORbHos3jOJkhj150VCTqECCSYxVTpcjEq4WoK256sLJJZ4Ndke4Zt+2DQbzAaGM5Z8GbM1DOcMF5fe5sMutObQwXoWpe80XH8f+ELNvQUeAT9P4ALYPuNbFVqy3cYhi3aeFbmt6IKQRDtnIjdAldVyF9Q1mN4pgUlLezOEpeM+Us3DbDGAIP53VJSTEUSszS1gGxzjlaogc4Sgd8HRiHGaxej7QsQ+exjUDi3ycDP44gpuF1grp7Y3lX9Tvvkm1ga+MZG7MPXf/MPYKMMUcjxPbq3khHMcduNdi/OoJyZAKrtFUR8dAqy0KG/RK8umH5pEFp1/QQqG4TKTzluCtDE5cVkspVe31mqlxL/BTxgS6aF5+krXvT+OexLJ5cHKxk953TUL8KKU0eLSmtzakUvZ2pwTdsFW2TMClEiWo13k7lIRfGegyWV/tTV7T91Uo5yZHd/xoA+Bzoq2WNQyc+pQiXaQNnzpUkbtgAo1O2lGarRAAgJhIaQABSb+yU8WxAkNPLk5Rf1Cw8zcgXrMmUAAAPgVeVndkadSs/1iNZVO+D0Ye8vr3qdbXVx0Kl6AwID6cPeeDe1AIoFRwtH0iHkc7fvT9yPDR31Yc18Td55mciG6l3zBrOXWC/k/Ymp8ilGm+VFNRFTeqvsW3cECIcPxzckrUe1MRdS/zWzBe0BWpjJ/e04t7uoY0yC53EvlIgcO1y3Jc9eqcTBOTHZ6NaOBt7xvwryQ/pPRLtPfJjJlga2dnAqQWXqoqQljLbRNFmiIR7SVXSSdccxfoAEtFyxKAL7Amlo3rE2wa7Ol0HLyj3ofd/PYR3Yd65NlQem3VF12jGj4ahSZR+0NrlqpL6Pg9W71Q0drlm/BgQk4c43nmtRYJ21xn4lEQGQd3yG6o2LE3ealNoGbBjQsL6yiQps0fLxrD3bGCgDLZ/o9EoIcQ4mzcQ2PulpBi3C5AE0A50tu/yIqqxQlZnczzulVkG2sRLCYM7EFl4BdBDjYJamM+bjAnfW1m2VE9th/iBiaDSQccOTTEe87ht52WhrN/1xGZ6OeEkDe7n+Fi6AAPKUihOGIkSvx0DDu4bRsyRXwEwH/t+5QDnzEcKHrexWMJYW9wAAC8zL1slc0nZPFXpx3CuUYzRGHonj5d04PY0+Ab22TP4XGrhn8Th4R9S1fFB/Pr4g95fZFoXo8JAL5TgsXUKWWYjHqGH/zB2cCFG+AdOvbnphgWpCRbygB9POf+5JLtJ673tzdg0K/Jr/ycF87n3ogIqajKPccjdLDx4d6/x5SQOCfPyreAdMzV5CbL8qU7Y3PXqCqklnJwyq3F1zAzcBL2cDNKSjAVY51wSPhu5g2jvT3nhyZ0a9KFRcSQ45OlLi1eTHlQklHO8p0t4dB4gfB0hY3aQMTDv4Q03sF7SKgVPq5Tz6Y+57BbpOQIKu1gGO08bh2FUdMJPzhcGFoR6dMW3bqmB/L2KyyGZS2TqSYH451Czty3ZM+AUzndAnSKEhBpUGNRWpxf/x3KGefrofJmBmBhdLhOBkxtcgmO7IupDDciksbL9yfvArfe1bUJmv2owuCcml66OxCJuovgtRHCn4e892Xo5u56c882mNLMMvVE2Hd6O6N3IHRyS6ZosfAOAL1SvR1NJFYyr+1gaWBr9yryZbY7veZ66UYyC3SkkrZxDvM1kgXaqv3LkOZ7Jwq2rU+R2B3PiocfBSCmqH45DpRUbyxrqUgmFds8UzCSXVsAux8t1RCEqP/1ZDVMm3esHl1gLZ7sbVr5TefpaoBX+LHgKj1Ym1gOpmSAfhDFps9e3C1Il52NPBfLYN+7xfYDtmgewwS+ucukVrugwl5gg1k1miFQxVNYb4RT3VBZLHfJyrFR56MRE4jqMfSNj53gQip6Obel+TqTi32PgkIatXvb2fcEWN7+Uw7EWH1lyu0B2S9UXy2JIZnsq3jAfYc10Vrd2K2FxAJHoR0EebLxGkBBdC5SAfg3Q22DkOuGlKxoU1lwqODpwBbgSPDyXuUFwEFH76GOdIWSaRoRlkusmLeQhHQbQkGkbG7dCWYPs3/t3PRrWDmZREkX2jFB8RABqOS+ejeqj4g9OfrQ8HEWmAhTE4zWDmzNcy+DKW581tcMWeoEBucI2IMnXsuIz3tQIwsJkH1kKdcSKP+M+Uocse4H1rOsSbipRIoJJ/fIQHWJ5ejLIauq7lb5yrhwaK6FkO8ilhtkT66YUgWJ4MuQTXYvDSE3b1LxWcnQWeqMAAGtqgvLQXtSIU0sDqcFIXE04Zrwm+CpUheDtmG6qktoBTUAAwOwN1Gh/6p5Rc5QDqIQUaHgpelZETffRltuW7X5SxuFFLR9Xk1vQe0qpPAhYzk/lmYg16nZ+chSiRYCcIMO+DpbxsLZraSVuQ4HtpPhXdeG8hZkNY1uuzRovdkoM1+mhfUp0UkgwKgAjdeN5+ZZ44CFgWTcnkpQADDoq7HiqcZyv5geKkQu7ftETad7TJ89dCKLnte4qoBwSPv9Jhlhq1Ouw01smi4XgfhgEGxXttnq92jBk3i5dRCoZUM1FygDdmdLolbl8VUyF1EYgAWdtHuudEVodGzaRhvnO6pKOC0PjpLa7db30UEVG0mQVKuFYMvsb9bmn+1EtrT/S7SKLauRe0/e46zZl+yxpu86ckVQFaesrXMCd081m8bh0YytJxWXh9V3aKYgNhLGs6Z3BVSeAr0ymzaIUuU7MTSBhmac9HkzvGDjDvMFHAFk6+AWwweCmaidhQXxT+SXnM0a1ilLU2IWvG1J2M7QYe2+0FfY5YeDGQ1iEqt+dKzrxeRqnIkNI/1r67TtXRXclQJv9v5gKd+ULZTXo7/JOq42vvSrPuzlxR+z1/x88P5temBgAjc/SSig+xWMCOpX0J91mNSxxEIaI0fIJhfejUdwe6U1Bnh53wEfVnVpYZRS+UcBZsLat3nBKiCfXtn6jGf5Fgj4VQNDd591i9O02UfZxR77makvmv8Ecb/I1PffryFDjTlQBE2tj7Tq6CKoZLmFAbZu3emNkfeRCwkfdgClgKhq6y1CFpF/uw+gK6vDaL6FVO2WnaOWphllv4MEyzsCTXuCymuyuzhnHDg2+Y5ZSuV19yTgRXG38IRmPiWSDKheE/7rJJzPgdfOAC6GsenRr8zy+6yaxj4Pjl3niZ1Vh8UH0us+Y2ypfwT96k7lAaRembPs+of19PuXIsS7zio6ePnzaV5jY8+tLJ+Mp8u7uYhLbC/GGdNkH0hF8O6x8WQaoZTAJNcMh3IntOFKgbTivfrd4vnd8q8lssE0Gp58H/ta952fnGPgmhg6CDM9XDC0U2yPUFwHIkI+oQtGZc7VIF071YUjssDPskrjM8UPrM8yqtUC0ACYtI+7XHViCx2cyDCQ6AlI+Jn59OFYS0dIc5wB5j9iJdAdEW6u1Lihq+61I6MEPaLCgAS1vZX8NUuuAAgujjjXHcc/9HLuUDzr7WqFCisjOKm9MX/k1r8k/iO/laJZkx0fd9weMc9EBm6eY48AQjKKlK+9rJQRJsY6DnkP0vOgAAEPgAAEtfCdLbTQjMP1DwbeSeUULQ6mu9pCv7LygoAG5WXCPz2RQjv+XYZJ9eH9Hr/5hz/zqy0N3rPr9p9SztuSUTrtrGJWfjJ9NpuNFJ7b0JzPbI9/iOPLNN6qpIIitTU2YKxnink55MCSO3115shq3g7HqSfcIEieUH2EtIy6rbEbpDcGDmxBQ3ViTRNs6OlLA/YXoU0TxAybdqpTRMjhnc5+zV4+MGmATwvO2dyRzQ1ZSwkE2n9PRN0FeA046SP+HqDdIb+5M+F4ULm+7KgE1smvDDUVSgxtEB8FX+tMI/CHQn8eYUzjGi6zyHpw9JN3+6GdNJGH6cT8g38HbG02PHGukA5/eJso5AZ7ATXXxh585JFQSL5k7OEkHMTlQIooSiMlsm2ukHeh6X/syjtUxLnhWALfb5CH6/6mIGLGftYOSNmXolyHBIXwZPV1K59alWZnSsZnwJXQmP76VOrGLDfpM431M2zA3PWQ0vPGWh2SbJd0Fiywerh7Xyq7Ch/eysJGwpV4OgzZQEks+1lrq+Ha4qWbS5Ut5BOR7apCGvUKpb50bGVgQ+rfZcPRllTYAAGmC1piM2tQmHBKRzDiyqzAgyZmDqK86YmHWLcF80PeiZ2El3b4Q1PwH9yjJ2XbtRrHicr3Ou0bcoBpHn9gx0WUxhXD9z2HmYbCzTF9AVFYysESy5QJel+XRFGYu7AVOGF1s5cPWA8r/fZ7VaITeTlt0+JWdv0zyc7rRsp0GHRzbLOQB6/ae4SKntcv10cPoiRr01KQKNprZyWkSwZJJ0QSOHIwvqJknGPpSHBDEYj/xlL+GCMSlKUxADvFvLbMirLoiYt0o82NH67nL1KHveKmBW5yDAfkPp5K+7AAr7Y6OZoyCnFjcAUicWn0Fb6rQeuM3jKiUBeGCav2oToAY+lcmnKu8NO/HkHQSeFSLMyfDKFbK8SbX9Xb6alZ40nohLx46PtKikNcO8mL+1ru5JFcdpj30STvQ1jv5yFYAuq6pHs2DKjD0aofpJdKqpJvZ4esrvNRHFfmzjItV81NZM9HgQ8015UuSUTwCcFx3b5ZGxtBqHuXAXTlXQbtUd5z+Lt7/OqgH3QbSQtYx8AjBYFu3Da+ro6q7unKHVIkkkVmYURD/9E5FDqwjF3hHYE11mUxhEfkxjnBKJyMZMv7T9TBucq8Tp2GtdlhcHdMSJpmJQY8dpXpFL7vo5Bt1K4L4Rwioue+cS/y0x0y/WU7Mx0rfBMkBStqtWShBVho3yEV8kb6565DCJEeU8KHfOQuBvIEDxf26LDww08NSsAfJpn4d/WqWWPRaHn7i771hwlj1qFPK/ZfNplwu3NJNDvzCSoXuF2oRJn3SHnBZXGHhz2SeeqMzqf4KsfNVACBOtnS0apDdLLqkei0xkrEGGQON7DhzV9My93KuE9rnVcRAwpp/kL0Q5360dBCxbN/1hTf/wH+P7GrhuhW20oP/TJvVrL3m0ZGAUOCuQZAFZBymhursKVnAuqUzadmq1SCe6IhuNb99GCUm5p07CCZJ9NAeEFPWf9WqkhQBTyR65h+yhCllc2Csmcvyh96R0320JQPDa8rnPxT0donug+vBBiaIfcQJgmOgzRRgv94PY9enZaircLXNxXymKIqtBAlkmgkIlJLwvpOsll0M+IgVIFUHeZjxxUPQ7Y47p5MCzOBIFLS5fvru2F4hB+zRSe/IIfueFbuf8oCeQgPNLDPtd+iHj8xQ6CE8ivfiazvbWQDeczQpgnlsIcuQHdwQ6bjE7XTOb5ZCXPStVLyV8UMc8us0JCIGt6Iz7TQQ5ShjXCL7G2u2fSqM2Skaq3gB8JQNhX7GfW3XfxNWH/VxNwINXcU4NidvbF7jHGnyJvWIrBu53hq/jQg1SaoXQj3CxjAMPh5U79RsUW8XtEhRAHAnlIZYB70RWqVBjQZjySmu7JXE/Lj2Jk9fGWCxs37G9IrQYRV6rQNMNtz9kDJcVSfB19+X5kR+disP2oZJz/O669dBC3r3pPUgfToACWfy/sQCjQegA83QVNMRfTpFB3FnHNas/B1c/qzYqFHeW1cYqSiX3KrOKt7zg968j9ltI9nrQxHDERxeR4XDki1QYK3aDSb3aZcClacCgjf5pPtoTLA71itc9CVtIV5v6RLaty+COZF9+hTnfSbTXYLAXLhdTijSAeScwuK9qnhfoH5Qk/vr0t8ccJXG/8wq/d8DyvtiSVA+s0Am0NhrXEWx87eLsrYvZgiZplf9CeWvGyvUhh182lxKnEZSrK9RfvE1T+H/mMkxjJIXORrTYyVQlwJivxhems0LzgGsKpANldbZDTQo/5gFa0zLutRlVFSzz2CDCV5T1ehiYD4svNMnBSW0jDCmXPpjModpfgma/+mCdqVe984BevADLm+faUB18BsUjRvHHnqNDDTpyjbcesBRp57xd0a0+Elb2gh43PAQ4Dmuvazzj0zew6kwO7NGirnKhEr1Zq0BlolcWqQ1AEQIpZGRqoeIDB/QhzVQ9yW8wVUudid2bp76wOX3NIlIrQYnaCPY8AfYjabHKbY7AoBtTbFrobV2U+k8JaFWfPZ/ku4pd6uF0BEkWAyKzkw0CIYDpK8TSz2H03pTen4tv0L1hMqAyo1XQFZ/hJNZcBvlmElXI7WN9up+tgEJUTWSv3/D3pnxEggQJkY37RaBXYbDjWL6hpcfjNktjYsg64G/GRjdwbLN8X5U7xjy5XE5IPqlyP3TDxeXdGtgM9sRl8+ufx+JgEn2BgE0eQ9iYV3l0wmnANKlPsWh4l2Zie1PNPO//+qg78TXq0LgHzpSy7tU/aGWM9sI7AP5bg+ljnVhljSnlBoNvn31tur7C5hPYKlQLAIM1B3gCxPSVtcyqPBYfnjWgD6JpnEVlrzDudENOHfR+VTAQpzsQc8Ygu3jcnaGy1rJMFmi606jJKINd2CEPzdWO/nFwVwjIAQeujoNBs5l9y+xgdCitx4/ydx6sE8HkITMy/LgZ+CdYcB39gP1mLKl5U4zbrhwKzNoNvgBpeaK6gQ81PLSOTXPlQzosGf7qewB6k085xXg0VC38sXweNU2j66hwWRq3enH6DIplS8L9wuLGO5L8g02PHxntp4Bp/ZjzYZ0LlV/YQMnG/7e8rlscHMKlww4eeRzyWnawAPwIXZtaSb2DWQIs+3ECI8njJEaGzp/VlWuYyVM4zyycv3LXseLGSKbbimQBVob9SUgpDl7dD/phxXwVlvCgBHVqErpBMgYW5JfvedL1MLMOzihANVLrgAAAAAABPNQD46nTmRmIhUYujAeo6h4SyubC7V+TvOvwu7VpOuvm9x0InEQA0oUTyzX4EPGNP3M/G4S86pck4GHzJT9fOsTP+YhtG4xI5I+2vP37/kH2N4rZQLHek+xR/wxAtWI0zdkrUM6vHxENzsCkN2AfGmsoNqa7Q5ZI1PmFzmFNGR7s+PapBmtHjeZGVFPF4XXfHQc4DuZtw6X1o7GBlc4kAH8FlnE5w+WPsFWd1ClAwElsm1JJbDtiBZBmTfJ5xtkVLBInzlY8bItuV0y/q234DDa5mv4bqvKNvswzLyOoSH3fevNko6v+cXbk2eyF6xw+jMqWyn0u9q0PGs4QmCVQ6cHy223pXaMmetMv9s2d3fTV+1MUnDTZvz5lbowAuu4DBGWD9bBqSRCjwcZArJSOpIbc3NRTUVaVsB9XdpcTHrn84+79moOXrrwpHwDj4uDNnfZ9A3hukYUoCCGCJr8F6GnxZ4oFuw3oN4VUTOxgoTQbJEX5R7pWhTP0Q3ERbGE/dS2MnRyUgjxfgSD1jtxrcVH7ykMOJUF74Mo4cZoD32OlkFEYW/xBwTd0ATQqfwOIw6ufEy7bKbKkqjFVo/KuqDQcgIfi6Aoqw5a9u18tAanJuKK7YQWzWaZwyT+KYoqWyPDHHjukPRwA4Rd0SUVjK14LInFxqRJtnH5YCLA94UdURP0j1kRCWBjznfuaibjlX9pby6pNFjaho7qSbe9hmkziQ7xwjll2/K/EYl0ecHRgEC7XEzaprkdRx6MhM7bObqEJyT5/9iLYoV230bwDyBb1cLacQ+V2TXtfXinw4fcXWM0CJBJGbFCOqr6ON96ume2Prc34kyO9sy/QdOO3z5hTjlGcPmkBkjND4bE3RHzJa2VxKerby9x+pnSacrIXDoqS6kYGFWXcYtpp3TF3D0hRHlu1Ozc1q7NEhrcFS4kYxldLLveLAxQo60W+IzFQRcAEKAxN5F5Rp60Vuo6lsmqQzkMEdFjA1iCf1/f2TTBkxFfK4V4I054ZCRxLWz92FqAHU9BcUPsWN+Va7sxnmk++tiTnW5ldPa9gf6ARhaIq/6IgLuexPXP+jeXBT+igi473y3rqMFTat0sfgKySEYmYbToVOqyhyPDQ/sL8Eeo3MyNcN0Taf7tmR9wpRgfyw4hCvUP0Uz2BSl7XXbyimSi8bvfX42USSZSBC5NnGRar5dD5kio9FK1y6pSpZdroJdPHQHroHyIP64ly0/CNgABYILFXfmwDk7rh/iHd6s9rn/IAYWAmDlRN6o0TA557KuzYCctT8a9aNs4SSk2RFi5z+MADRjrtUe09qrEpuqj3ni3QshjMDEU/r+4iDqcrYVtRX2Sg7A75YYIfP6DamjTUhE5PwRjIGGNtasEz+4DgvDGEUtZFQivCSdvCP1X4wSdGLOa4/vBuFFfVh4XGkN7qeDULuy9e//Wamk5djA7+pk6PasKYgb8y7MV/zCxfYfDQqURaFLp5STwHBz2NJAyRbdW1VZyLqfJuW14girnQ0WwbOrh2aCrDluvi/3SQJyxcKJJvmZAWKY8kAhRnqAukXyOeLdGZA2lQ5QTscc1eU9PrBGBoap7X+ymhJwnsxNmfgMTkCx55QAeeIiQs9tdv8vvaJnhA0zZr9eYChvUI89B3cMFmPlz+t9+8G+GlOsLnDSWPXf8crRA+RypycElJx4bUq9DH3YP7sS4G6YlOXB9Zdflpr57+EM6dmxBcBgMy3B+yHciLp8HYDQl5uvgNJ4GYu8tR7nCUFQH+/ir7ATkTQt0+ztkzNuFkBlF+bgUznAQAxNBUSUDwoFRqK/KRUB+nfwXApA2kdDwp6qxdd3PZx8imhcfInJ/oAxvnKFLWr46krxap+DPuSiy4yE4cET8ay2SSSGjsmSxnZqEeF0R9jAvjC7xvmejWTE3dRdfP5OWFaREUpOpVsJhgyBAAtT2n4PPdzqT9Dgg7EjztNRLV0ASOpCQ3dFEXu8kfG1kYdctsJSubh8UOUfk9b+QPKlb7rXCzuFJdTi6zPY6OfyAePKW62BlWZAecEUF6vI7YQU7eayN1AK3Ec0jkbiKJs4Uz3Vb/4XwNqu8gSwBtqgj1QxuEVseDp2zcOAOwLYvinjgvQDd5u1RBnG0Mi/ScaCuLsitBTUFZ6WS7Tt7k9SIcakplKqRz4a5JfMJ3FFQhU4eUfuByrnSxpMrZV+73UhV207PCnA0CfIgcZ8a0fxv6nYRb1eop5e1PF6PHXJxmqklSsRXDe1Tls5bbnU7wBuiEqum/79w0TOSwJzyFA7P9G0YCcUNtRfFmOFnUhBZaCOZAxNo6hAAvC5dmz5bzTJJytKbfjF2Bc7cNFZA6JkFCmx+tgzWYByCewBN14CXYc+S99eOmel7Lx0TXmhGB9L01bTNqpxuLIIJXHXPUDr8zO80GKaC1+jZPuoVM7up4TNUaUqnVlr1UHjY/sRtIkHxC3z6RruX/Acr/KKssl/eOnnReWwNWkLKlJm/DiA/v3zgIcJkUqBD0/yL4SUHZAh+qWXjbngjvYpAlfZskKA7sk4o8swg5IFNehmJ8/E5Wfl2ThPkeImsCsPQ9xOIt5QLESlHZT8ha7N/z8AR7jZiwKjfR+QMhjsZ9CWaB7kp8dxEBNNdFq8j6oqsfC9gHqMFuy5sJl143cnYq7xyUjxIQ9LzJTv2OMgywcmXY6gwajfgjYCXlcXX3R64yL3xka2x/DlZiWaQVDkSLQFmJPmrPu1A+xM8sUYl2xibAB8MdlOMe9ppKH29J+S57qEUYAd6oHi70B+0eMlDgAE5qZGbxfx9e/89Zr+Sg5nP8dg2/hRoWj9tJIOr/G0+TfxOQxq8yray3jxipsAAe78+RIAqnAaK+x+fu82UnoTuthe9AtjNEEuWxXwVT1q8lQkA1ZosWzw3+quUuv9c8spZ4a6O1qkaEXEE7mMc0mOklLiDkcSSjXC0SLa+lhvY5IsiuZPOkw+TzM29dJOeCg6u+KX9+UPBUqjn36TaYxkK1V1fIoqX73vKaSbFbehefDM33tNGvFjnUxBwKMDRYOu0hyXVLYylZqKQ42WvWxb9XYxDTyBHa1RZamT89ulHiE8lSaoJHx24umomuhzUdoYAIFHINJ45kYaNBYLi64n2hTeBCUHPK3DIf9L4eGNKN+IhabiWsHdeKlJHFkk3Vslr2KlEFE893hpewUmOCmK1kafVp7QDNWMFuEIfh7auax4wAVj3L4ZoW7my6ywmgOoKyfWPBE+7jH0jXODkqExzKGjPI+apZnNSIODZbZDvfXMqY28Za/KIECv4TGJ4UfQz3oxORyBGCj4rNq7d9leURpRqDEtGh2iNigXG/HNkosCLFWTf+I8Zx3C9xrswXMRnDgV6i2hoScv/EX/AehAVPk/5Vj+KnxjhvrGHUlBT/8VPV+fZ70+EDGanuZMRu6a/vUEQ0/F+hfvJ5RMWO7fJMnL7Jj5YOFdyDFOFCgkvKJWf5m899PMfIwqTsPIgi1nFScgFrvJSwQ9IP+EvpDm+t0M7svbhZJ3UZJm/fffL8HrGwNmppi97zFimpHPjAFGtSCF36YBiMGAJB+1D+QbWZ9MiW+1gpMDkO/NfYU6F9H7NWW+mVoN6vcRMmXK93qRz1FaeE53eXJtii45Yi3nRCSWZYaDgbb23JAqHu6OhpFgZb9mRG+F0iE39vlwXnaIezQrUaTFumkGyV1aXmInq04wg0PTA3uYo/Mk1F/HKbKL8SP+hxWly+D/3Bs7xEe6/+6HtbKKqaLwbtRgtGW+kyRFocW7F+WHckDY2j0V0Voh8apSDobRaFqKGo1BVoceVXUYXPYDARn4BmQY3IC/UAGKcBQSwHitG2t7Fxj82+pPnsLYF8GLFjs8qZ2yHW+e1T4TarEOCowCn07vwNqz2ivQjGI3WKOWKhT71LepFqNLwfJL2sNf+e9lygCKmNRP+eLDHrOzPtOmCJd2G7ehkBSA345G3M2wRzoI7JiQNLLCxVP30lLdOfxsuUaEm/sHTPRa6laMAjHmQaBQE1Uus4sbv6c+pgVdrZTLHwelliPsBdo2W+B+uF8qMSCLh8om8Yk7OvgPTSeBllSR/Q8GL5QrlO/gAHBh/2xityp0rnKCcIteOquYkoXR+rqeNG8oJaB9MzDDctAAuYKOQdBQFierbecUYcQ6Ec9Fu71J7aWAB9DtOK38i/eGGuVhW73LaARWo0NvqEuyPSU6V+577VyTy1Qq/Q0ZSURzfRj87QeGKlmmVeCXBO86Svl6IeJ29gm+kh+VvS7HJ6JAjeCyW9kBw6VQhs4UsHADb+yakxhPSX8W6cs6OHmJFhEdyEzA949C8dk1jUCZi1DRs/q/7cwfELZD9ZZ1mhRA1y/7fJUZUVgH9SsYgdey89FPunQPk/RShMNOTwTSal5oCxEc0r9AAA40Jk6XOa3aaaKZnUVcGdCchhSfYP1EdorTZFx6huZU2MnuG8jZAXvll32AV4RCCSSMLfJg888bYcrGOeM+qJiw/xK0X53k23h0ukTEWd/qxK4QbGRLhMESBaYB6XmHqAieT3FVlwYGmpFd/LutzdN1kFHq1eZ6wZS7CtlkFApmnWrJnRmRNzDh/k3DFnRxXWK93Cqv8u18A/MgynV1YJ+W+U/lRUCZ6Ur1J5i2pCL8iXoePmh14EDzsC06k0qwSyh6OeGZ7qqxnywdl6a04FrstptfBZMziW7P2ZeN4t5ypGasUetnKY1VCQRiXLHjqO+iuFW+0j7I0WOBDEavZLtWvBkhovPeuUAsOCj7pNmHsezA2JMcn3xi9CdgMzGF0G0ckFsIAxuji9AfIK6VCwCN0xZjbuSk/l917jVA/blsk3GMWF5Zy28nBsZtbrXNPAaYAtu7S1Ue5oUNHGCJuTqzLvOKm0c6+xHcC3AwqYR8JeJ9qUAqDTsr/jeuJcq0lFA2Jz0H2BmdtNmV84X09rfVpzaIbovaz1SiVLMf1lkvm0jQ0dQzYCbRAUVgUh/SruM+L69BfCYQQzmQyIFXdERncWMYly5ZD+d86F9NHG3TZTAdheRWM2AOxD/p37dR3lFqJ+Fpb1h+VxnblahI+uqvv/vuJIzBYkvQ/GUgMFh/y4L6BplNXMi32O9GmqJ+VTJfXcQCGIAcQLDeDfbS/zX7SvVlsgHnvSu7uj3kuKhSXs1lVYqQMIZZAP6xfH04cD2PYq3GMib8Fpsd399sDZ4wptGBko9WUBAH06uLuz3Jh456cTvFpP3xaw8lKSs4S4poLrtZrICxTbGsgN0JHHKxRbox6OblsYirpA67cRd8EAviB237tae+qSGdDRBCaCzOR7Zi72WP9YK41d7z/mnPqI/yW1Urjc144/VDCa3vFmegr9xe3x2UxkiLGZCEl8v8kKuofQKsJbZnxD/Ax82aG5utl1y+g245WZ6mI4067AZfssCGDnUGZf6nWdb/60oizyeNhayvaxfvIxj+/d4fkn6t+/Akjrl1gfY0tPkouoNxCU2VXsSZDfQc/1eeLU/v3OJiatMyDga3p5Wpg4xuf7zovM1gDkZkaMDehDr5k9uYk9VLBONSvaHIyut9/7AYibn82PLN9ZL+uP+nlFyLam0GW5c+XzeR07AJVJZpmxCgmMU92IFFonaUIqAYLgQM2l/0PT7GifIOvl51XawhiZ5+zP1kE77udOCXgipDzTXkdmvmOvV/rKGuwkVXACR4lk8Bwc9cBzaR8f7QxbsEzqv0u6ltlN+4BMVhnFKImqlkBOCwBVd3OltS6xVKj8GdV/tUin/Tlb8Bp0HM72nNUJ5TVJGGgrBTcou32YvOLrEe4g4Sjf6oPUNgEzrRfOw4WRxpmFM+WC3mBgrWTSo20uw3GGaOqor8fHxezVh+lvqlaul44NheCX4JJyYXn/4L6HdEwFUyLQ9aUgrdRXTXvumUqF36vFviEqd2RUisXSe30YjEkElUe3nUxzqMlIWGxqaFVsZw92lASYGOYcqPCGcnFzlpD9gFZ6KSJ2PdSbjkUoNqJjaVaCVlwEo56qeIU8joEDjt8yjOV3hHcXdgOhsIW+GtvjK2hCJSK+QxTvdDSzUHg1J4CUUfKwwamzKoAOVf9DymIya2O2UpMC5jLsaKLaGJnRcD8Kgv0C3HdT/e4VtESK4pAraz8aa9hD6NLa6fFaG+H1E+S/tm8o0AAeNsv3/yKIOF42D6KZMZUqxzoZY8IZ4LGVt7mwM+1XFFWSeyegKCcWrkZihHr1FM1Lu8A4WgQV5Xy7D4eBrPSyBYiD77hs9u3WZA/P1WQySg3m0u0lYryJSfI4Zi3BD6YW3oJek7KFM9t9Cpl2WAxS40TZ3AejmsZaT/oQ52ViCJhCAw7Ulhnz1QMye6XkS27vnOXUAs+58QHyROfxWrN8KLLLJXONgrBgsPYQBGdZj8iAPPL3MLMuGZ+MhZFNO+g0WLxNCOFD55r/rrzW/Wm+Ty8u793HUF9YWZtMJu5hVfwtYX1nrqudsrXnwPJJlJjV162AmPjDdd5Z9jKrr7V6Pg0SZFKigHF9GDiEBaByNMoFwcqKQZm76CeLcLVKXXJYtR//E2AvP8EiXIFj1H4uZFFo0zMGHSsypx2Ta/oZkPv7k/PXxfqQ9wER/ridlMbcV3caZTYlEJz/Q9R8El8pqarhMJywad7mQU8jTJXjHFfO5O9WqqL5sVE3TccoC7E0lv1hcpADqcNw/dJq4r+DdGhyM5gJZ4ceB6zNsOknh176zlaAol+DJVfI7ajLJZH3GQ0ye72o48+xb9C1CA1qMqCAtKER8T8z4aA9Sv8THyJDDxz/8AtvDIWttE1ds9yw2dgwxjsBbiMGxZDGH+Lqib7kA464suPfUpuY/CBDqhUmAHZKhvmAJJEPwp8ZNmJLVsZgHHXnD5VPoKMx53skl4DQk9s+eszwuXX0dQNHQHYNxwijxvEcpq+060j2mVQrOsX9HZvI+YxF47lji9NMy/3sWVlggB1xFLcgD8LaQYMW78HybXDI6q4V7utraUEHZVG8WpxUNRn3j5it0pDscfojeBEkzZxhONXJGhMy/q2lf/DS5aOpXlVHd7vMJh4LS9kgi7WCrMmKtYVKtKoReSbwFMpMXkA92cg9sDMKblloHo9LX1PAwaf1KZV8zR+dCdx+mIE+WxdM4Bxg2jPewo+o0FnUh8jrWzOLSHpf/f0GGuNZ6jeH2VbAR/AwsHW1bcyI52Rdw0EQNKj7OUT1poyhcr57OX0DvnhPT0hRZwJL0IPryb8IyG3AL7KgHFhTb5HQyr2VwoVlLkCigQQ8raZ6lU5LWBoNoZ/LnQR6l4KJ4EPCEsjZ/IQWWTm3QQ+b3MIjff1n2epfYQv3W6drajAVq/NpXPXTOGfCJc5KgPwGn4YW06u7xG+lFpLdLpFoDdim38/osJEHDDUmb6BPw8k/tp4QYe/topms1MwNUFv61lFMfKgmhJgt4a+oZtz8n87r2YkHkB3TWBW1g3y6WT82CYKS9+5UQTjEyN6bXhi53cJDqj15Gq/dvgWlPp2g5RoAoH46P6YkWAz4dOIhQO8TdGx07z24p43c8EySBcG6BanxS1fMI4Qc77lAeInIxsooFlPgDstyYFWKwb+nQZAov9wkDWAtbUew20vRt+qf6erfjeMKik5za/Wdi8dP/kUP9O6GxtbtZOWpQYCLPsLtXZOOeg0Pg9QlXCezdyAjZzSzdDi//a7WmiPKy8D5+6AtvgJkdqMJv1K5ezr2yg6rA+kg3y8wsTNLcKKf36w2pSJga075572q0bS3w4zLEvYi9Uqr3iSqioYInRtEpEz5SGdUIgbU6tngWGHQzwXHBpXr03Kj5cUnWdF4nj5Fh89Gvo4jiEApIZcka80jG/Psn2Fpy7aQJdCCxFcR9D97HlNyfURkKd9lghsHGBFrOgqj542PWHj+oQO4VoZm7+TEPALaQPGemd9PU7x+bcVhJX/JXUxLBjm4KM4uTJW5XO31znvX0GSav5YBmJJ475k2HxBubTC8X4SHDkw8NPXsPQOICNsP0jK86HS+w61cL3Si1WivLbfDfYw+8oWTxaxKlxWlarlc7rVrlWVhIzDH4DVHWspuv4RqBs5MQBhfwbfn9smaAYoAAHoAFwD6yBmVk0qV2b1w/ju4csJc4+Hol9mFyqwtWi9BcC8NREJR/FH386XD4rUQ+KjbWe2ve8Jjy1PMUehoU6b0YFxvPeTnrCi+Pp9YhmGlCV1V/TBzaaT/xD/BHo19mAAA==)"
      ],
      "metadata": {
        "id": "k2XV04Y3VdJO"
      }
    },
    {
      "cell_type": "markdown",
      "source": [
        "The main output of Hierarchical Clustering is a dendrogram, which shows the hierarchical relationship between the clusters:\n",
        "\n",
        "![Screen-Shot-2018-03-28-at-11.48.48-am.webp](data:image/webp;base64,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)"
      ],
      "metadata": {
        "id": "oDECsXpvVlMW"
      }
    },
    {
      "cell_type": "markdown",
      "source": [],
      "metadata": {
        "id": "BpxP5PZPVrue"
      }
    },
    {
      "cell_type": "markdown",
      "source": [
        " "
      ],
      "metadata": {
        "id": "oexiIQBxl_p4"
      }
    },
    {
      "cell_type": "code",
      "source": [
        "import numpy as np\n",
        "import matplotlib.pyplot as plt\n",
        "import pandas as pd"
      ],
      "metadata": {
        "id": "sA8deOfVSEYY"
      },
      "execution_count": 1,
      "outputs": []
    },
    {
      "cell_type": "code",
      "source": [
        "dataset = pd.read_csv('Mall_Customers.csv')\n",
        "X = dataset.iloc[:, [3, 4]].values"
      ],
      "metadata": {
        "id": "DFpAeVevmGtX"
      },
      "execution_count": null,
      "outputs": []
    },
    {
      "cell_type": "markdown",
      "source": [
        "#Training the Hierarchical Clustering model on the dataset"
      ],
      "metadata": {
        "id": "pgnKCGM2mJjW"
      }
    },
    {
      "cell_type": "code",
      "source": [
        "from sklearn.cluster import AgglomerativeClustering\n",
        "hc = AgglomerativeClustering(n_clusters = 5, affinity = 'euclidean', linkage = 'ward')\n",
        "y_hc = hc.fit_predict(X)"
      ],
      "metadata": {
        "colab": {
          "base_uri": "https://localhost:8080/",
          "height": 200
        },
        "id": "O7YSGxhRmPNe",
        "outputId": "020c01c3-0508-4808-9671-9934f0e7c9a7"
      },
      "execution_count": 2,
      "outputs": [
        {
          "output_type": "error",
          "ename": "NameError",
          "evalue": "ignored",
          "traceback": [
            "\u001b[0;31m---------------------------------------------------------------------------\u001b[0m",
            "\u001b[0;31mNameError\u001b[0m                                 Traceback (most recent call last)",
            "\u001b[0;32m<ipython-input-2-96bcb8a45aad>\u001b[0m in \u001b[0;36m<module>\u001b[0;34m\u001b[0m\n\u001b[1;32m      1\u001b[0m \u001b[0;32mfrom\u001b[0m \u001b[0msklearn\u001b[0m\u001b[0;34m.\u001b[0m\u001b[0mcluster\u001b[0m \u001b[0;32mimport\u001b[0m \u001b[0mAgglomerativeClustering\u001b[0m\u001b[0;34m\u001b[0m\u001b[0;34m\u001b[0m\u001b[0m\n\u001b[1;32m      2\u001b[0m \u001b[0mhc\u001b[0m \u001b[0;34m=\u001b[0m \u001b[0mAgglomerativeClustering\u001b[0m\u001b[0;34m(\u001b[0m\u001b[0mn_clusters\u001b[0m \u001b[0;34m=\u001b[0m \u001b[0;36m5\u001b[0m\u001b[0;34m,\u001b[0m \u001b[0maffinity\u001b[0m \u001b[0;34m=\u001b[0m \u001b[0;34m'euclidean'\u001b[0m\u001b[0;34m,\u001b[0m \u001b[0mlinkage\u001b[0m \u001b[0;34m=\u001b[0m \u001b[0;34m'ward'\u001b[0m\u001b[0;34m)\u001b[0m\u001b[0;34m\u001b[0m\u001b[0;34m\u001b[0m\u001b[0m\n\u001b[0;32m----> 3\u001b[0;31m \u001b[0my_hc\u001b[0m \u001b[0;34m=\u001b[0m \u001b[0mhc\u001b[0m\u001b[0;34m.\u001b[0m\u001b[0mfit_predict\u001b[0m\u001b[0;34m(\u001b[0m\u001b[0mX\u001b[0m\u001b[0;34m)\u001b[0m\u001b[0;34m\u001b[0m\u001b[0;34m\u001b[0m\u001b[0m\n\u001b[0m",
            "\u001b[0;31mNameError\u001b[0m: name 'X' is not defined"
          ]
        }
      ]
    },
    {
      "cell_type": "markdown",
      "source": [
        "#Visualising the clusters"
      ],
      "metadata": {
        "id": "MsJaL6hvmUAn"
      }
    },
    {
      "cell_type": "markdown",
      "source": [],
      "metadata": {
        "id": "8l6q4I54mOB_"
      }
    },
    {
      "cell_type": "code",
      "source": [
        "plt.scatter(X[y_hc == 0, 0], X[y_hc == 0, 1], s = 100, c = 'red', label = 'Cluster 1')\n",
        "plt.scatter(X[y_hc == 1, 0], X[y_hc == 1, 1], s = 100, c = 'blue', label = 'Cluster 2')\n",
        "plt.scatter(X[y_hc == 2, 0], X[y_hc == 2, 1], s = 100, c = 'green', label = 'Cluster 3')\n",
        "plt.scatter(X[y_hc == 3, 0], X[y_hc == 3, 1], s = 100, c = 'cyan', label = 'Cluster 4')\n",
        "plt.scatter(X[y_hc == 4, 0], X[y_hc == 4, 1], s = 100, c = 'magenta', label = 'Cluster 5')\n",
        "plt.title('Clusters of customers')\n",
        "plt.xlabel('Annual Income (k$)')\n",
        "plt.ylabel('Spending Score (1-100)')\n",
        "plt.legend()\n",
        "plt.show()"
      ],
      "metadata": {
        "id": "nqn8sgFrmXw3"
      },
      "execution_count": null,
      "outputs": []
    }
  ]
}