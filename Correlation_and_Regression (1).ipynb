{
  "nbformat": 4,
  "nbformat_minor": 0,
  "metadata": {
    "colab": {
      "provenance": [],
      "collapsed_sections": []
    },
    "kernelspec": {
      "name": "python3",
      "display_name": "Python 3"
    },
    "language_info": {
      "name": "python"
    }
  },
  "cells": [
    {
      "cell_type": "markdown",
      "source": [
        "#Correlation and Regression\n",
        "\n",
        "1. Analysis of Relationship, Positive and Negative Correlation, Perfect Correlation, \n",
        "\n",
        "\n",
        "2. Correlation Matrix, Scatter Plots, Simple Linear Regression,\n",
        "\n",
        "\n",
        "3. R Square, Adjusted R Square, Testing of Slope, Standard Error of Estimate, Overall Model Fitness, \n",
        "\n",
        "\n",
        "4. Assumptions of Linear Regression, Multiple Regression, Coefficients of Partial Determination, \n",
        "\n",
        "5. Durbin Watson Statistics, Variance Inflation Factor\n",
        "\n",
        "6. Statistical Inference and Hypothesis Testing Population and Sample, Null and Alternate Hypothesis, \n",
        "\n",
        "\n",
        "7. Level of Significance, Type I ,and Type II Errors, One Sample t Test,\n",
        "\n",
        "8.  Confidence Intervals, One Sample Proportion Test, Paired Sample t Test, Independent Samples t Test,\n",
        "\n",
        "9. Two Sample Proportion Tests, One Way Analysis of Variance and Chi Square Test.\n"
      ],
      "metadata": {
        "id": "bEM0MHrbCtH-"
      }
    },
    {
      "cell_type": "markdown",
      "source": [
        "# R Square, Adjusted R Square, Testing of Slope, Standard Error of Estimate, Overall Model Fitness, "
      ],
      "metadata": {
        "id": "AdYAnvZnDH77"
      }
    },
    {
      "cell_type": "code",
      "source": [
        "from google.colab import drive\n",
        "drive.mount('/content/drive')"
      ],
      "metadata": {
        "colab": {
          "base_uri": "https://localhost:8080/"
        },
        "id": "Y7wegQDPH_GM",
        "outputId": "0dc52ae8-995f-42ed-948f-639ed537ce69"
      },
      "execution_count": null,
      "outputs": [
        {
          "output_type": "stream",
          "name": "stdout",
          "text": [
            "Mounted at /content/drive\n"
          ]
        }
      ]
    },
    {
      "cell_type": "code",
      "source": [
        "import pandas as pd\n",
        "import matplotlib.pyplot as plt "
      ],
      "metadata": {
        "id": "eoD_Bxz7IrUX"
      },
      "execution_count": null,
      "outputs": []
    },
    {
      "cell_type": "code",
      "source": [
        "df = pd.read_csv(\"/content/drive/My Drive/Colab Notebooks/weight-height.csv\")"
      ],
      "metadata": {
        "id": "mb6EZayKIY_T"
      },
      "execution_count": null,
      "outputs": []
    },
    {
      "cell_type": "code",
      "source": [
        "df"
      ],
      "metadata": {
        "colab": {
          "base_uri": "https://localhost:8080/",
          "height": 424
        },
        "id": "o8r5XYP-Ivom",
        "outputId": "d0a5aeea-7518-4371-e77c-f27192699068"
      },
      "execution_count": null,
      "outputs": [
        {
          "output_type": "execute_result",
          "data": {
            "text/plain": [
              "      Gender     Height      Weight\n",
              "0       Male  73.847017  241.893563\n",
              "1       Male  68.781904  162.310473\n",
              "2       Male  74.110105  212.740856\n",
              "3       Male  71.730978  220.042470\n",
              "4       Male  69.881796  206.349801\n",
              "...      ...        ...         ...\n",
              "9995  Female  66.172652  136.777454\n",
              "9996  Female  67.067155  170.867906\n",
              "9997  Female  63.867992  128.475319\n",
              "9998  Female  69.034243  163.852461\n",
              "9999  Female  61.944246  113.649103\n",
              "\n",
              "[10000 rows x 3 columns]"
            ],
            "text/html": [
              "\n",
              "  <div id=\"df-0a37b390-9c3e-4212-99e5-588556c7cb44\">\n",
              "    <div class=\"colab-df-container\">\n",
              "      <div>\n",
              "<style scoped>\n",
              "    .dataframe tbody tr th:only-of-type {\n",
              "        vertical-align: middle;\n",
              "    }\n",
              "\n",
              "    .dataframe tbody tr th {\n",
              "        vertical-align: top;\n",
              "    }\n",
              "\n",
              "    .dataframe thead th {\n",
              "        text-align: right;\n",
              "    }\n",
              "</style>\n",
              "<table border=\"1\" class=\"dataframe\">\n",
              "  <thead>\n",
              "    <tr style=\"text-align: right;\">\n",
              "      <th></th>\n",
              "      <th>Gender</th>\n",
              "      <th>Height</th>\n",
              "      <th>Weight</th>\n",
              "    </tr>\n",
              "  </thead>\n",
              "  <tbody>\n",
              "    <tr>\n",
              "      <th>0</th>\n",
              "      <td>Male</td>\n",
              "      <td>73.847017</td>\n",
              "      <td>241.893563</td>\n",
              "    </tr>\n",
              "    <tr>\n",
              "      <th>1</th>\n",
              "      <td>Male</td>\n",
              "      <td>68.781904</td>\n",
              "      <td>162.310473</td>\n",
              "    </tr>\n",
              "    <tr>\n",
              "      <th>2</th>\n",
              "      <td>Male</td>\n",
              "      <td>74.110105</td>\n",
              "      <td>212.740856</td>\n",
              "    </tr>\n",
              "    <tr>\n",
              "      <th>3</th>\n",
              "      <td>Male</td>\n",
              "      <td>71.730978</td>\n",
              "      <td>220.042470</td>\n",
              "    </tr>\n",
              "    <tr>\n",
              "      <th>4</th>\n",
              "      <td>Male</td>\n",
              "      <td>69.881796</td>\n",
              "      <td>206.349801</td>\n",
              "    </tr>\n",
              "    <tr>\n",
              "      <th>...</th>\n",
              "      <td>...</td>\n",
              "      <td>...</td>\n",
              "      <td>...</td>\n",
              "    </tr>\n",
              "    <tr>\n",
              "      <th>9995</th>\n",
              "      <td>Female</td>\n",
              "      <td>66.172652</td>\n",
              "      <td>136.777454</td>\n",
              "    </tr>\n",
              "    <tr>\n",
              "      <th>9996</th>\n",
              "      <td>Female</td>\n",
              "      <td>67.067155</td>\n",
              "      <td>170.867906</td>\n",
              "    </tr>\n",
              "    <tr>\n",
              "      <th>9997</th>\n",
              "      <td>Female</td>\n",
              "      <td>63.867992</td>\n",
              "      <td>128.475319</td>\n",
              "    </tr>\n",
              "    <tr>\n",
              "      <th>9998</th>\n",
              "      <td>Female</td>\n",
              "      <td>69.034243</td>\n",
              "      <td>163.852461</td>\n",
              "    </tr>\n",
              "    <tr>\n",
              "      <th>9999</th>\n",
              "      <td>Female</td>\n",
              "      <td>61.944246</td>\n",
              "      <td>113.649103</td>\n",
              "    </tr>\n",
              "  </tbody>\n",
              "</table>\n",
              "<p>10000 rows × 3 columns</p>\n",
              "</div>\n",
              "      <button class=\"colab-df-convert\" onclick=\"convertToInteractive('df-0a37b390-9c3e-4212-99e5-588556c7cb44')\"\n",
              "              title=\"Convert this dataframe to an interactive table.\"\n",
              "              style=\"display:none;\">\n",
              "        \n",
              "  <svg xmlns=\"http://www.w3.org/2000/svg\" height=\"24px\"viewBox=\"0 0 24 24\"\n",
              "       width=\"24px\">\n",
              "    <path d=\"M0 0h24v24H0V0z\" fill=\"none\"/>\n",
              "    <path d=\"M18.56 5.44l.94 2.06.94-2.06 2.06-.94-2.06-.94-.94-2.06-.94 2.06-2.06.94zm-11 1L8.5 8.5l.94-2.06 2.06-.94-2.06-.94L8.5 2.5l-.94 2.06-2.06.94zm10 10l.94 2.06.94-2.06 2.06-.94-2.06-.94-.94-2.06-.94 2.06-2.06.94z\"/><path d=\"M17.41 7.96l-1.37-1.37c-.4-.4-.92-.59-1.43-.59-.52 0-1.04.2-1.43.59L10.3 9.45l-7.72 7.72c-.78.78-.78 2.05 0 2.83L4 21.41c.39.39.9.59 1.41.59.51 0 1.02-.2 1.41-.59l7.78-7.78 2.81-2.81c.8-.78.8-2.07 0-2.86zM5.41 20L4 18.59l7.72-7.72 1.47 1.35L5.41 20z\"/>\n",
              "  </svg>\n",
              "      </button>\n",
              "      \n",
              "  <style>\n",
              "    .colab-df-container {\n",
              "      display:flex;\n",
              "      flex-wrap:wrap;\n",
              "      gap: 12px;\n",
              "    }\n",
              "\n",
              "    .colab-df-convert {\n",
              "      background-color: #E8F0FE;\n",
              "      border: none;\n",
              "      border-radius: 50%;\n",
              "      cursor: pointer;\n",
              "      display: none;\n",
              "      fill: #1967D2;\n",
              "      height: 32px;\n",
              "      padding: 0 0 0 0;\n",
              "      width: 32px;\n",
              "    }\n",
              "\n",
              "    .colab-df-convert:hover {\n",
              "      background-color: #E2EBFA;\n",
              "      box-shadow: 0px 1px 2px rgba(60, 64, 67, 0.3), 0px 1px 3px 1px rgba(60, 64, 67, 0.15);\n",
              "      fill: #174EA6;\n",
              "    }\n",
              "\n",
              "    [theme=dark] .colab-df-convert {\n",
              "      background-color: #3B4455;\n",
              "      fill: #D2E3FC;\n",
              "    }\n",
              "\n",
              "    [theme=dark] .colab-df-convert:hover {\n",
              "      background-color: #434B5C;\n",
              "      box-shadow: 0px 1px 3px 1px rgba(0, 0, 0, 0.15);\n",
              "      filter: drop-shadow(0px 1px 2px rgba(0, 0, 0, 0.3));\n",
              "      fill: #FFFFFF;\n",
              "    }\n",
              "  </style>\n",
              "\n",
              "      <script>\n",
              "        const buttonEl =\n",
              "          document.querySelector('#df-0a37b390-9c3e-4212-99e5-588556c7cb44 button.colab-df-convert');\n",
              "        buttonEl.style.display =\n",
              "          google.colab.kernel.accessAllowed ? 'block' : 'none';\n",
              "\n",
              "        async function convertToInteractive(key) {\n",
              "          const element = document.querySelector('#df-0a37b390-9c3e-4212-99e5-588556c7cb44');\n",
              "          const dataTable =\n",
              "            await google.colab.kernel.invokeFunction('convertToInteractive',\n",
              "                                                     [key], {});\n",
              "          if (!dataTable) return;\n",
              "\n",
              "          const docLinkHtml = 'Like what you see? Visit the ' +\n",
              "            '<a target=\"_blank\" href=https://colab.research.google.com/notebooks/data_table.ipynb>data table notebook</a>'\n",
              "            + ' to learn more about interactive tables.';\n",
              "          element.innerHTML = '';\n",
              "          dataTable['output_type'] = 'display_data';\n",
              "          await google.colab.output.renderOutput(dataTable, element);\n",
              "          const docLink = document.createElement('div');\n",
              "          docLink.innerHTML = docLinkHtml;\n",
              "          element.appendChild(docLink);\n",
              "        }\n",
              "      </script>\n",
              "    </div>\n",
              "  </div>\n",
              "  "
            ]
          },
          "metadata": {},
          "execution_count": 6
        }
      ]
    },
    {
      "cell_type": "code",
      "source": [
        "df=df[df.Gender=='Female']\n",
        "x=df[['Weight']]\n",
        "y=df.Height"
      ],
      "metadata": {
        "id": "x0Wncc8JH9L-"
      },
      "execution_count": null,
      "outputs": []
    },
    {
      "cell_type": "markdown",
      "source": [
        "#1. Step Calculation of SSxx\n",
        "\n",
        "![SSX.png](data:image/png;base64,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)"
      ],
      "metadata": {
        "id": "qwoiNm1mJLh1"
      }
    },
    {
      "cell_type": "code",
      "source": [
        "xmean=df.Weight.mean()"
      ],
      "metadata": {
        "id": "RESTnmXeeV6C"
      },
      "execution_count": null,
      "outputs": []
    },
    {
      "cell_type": "code",
      "source": [
        "df['diffx']=xmean-x"
      ],
      "metadata": {
        "id": "LZnVuzZieY0Y"
      },
      "execution_count": null,
      "outputs": []
    },
    {
      "cell_type": "code",
      "source": [
        "df['diffx^2']=df.diffx**2"
      ],
      "metadata": {
        "id": "C-4vzpDEea0W"
      },
      "execution_count": null,
      "outputs": []
    },
    {
      "cell_type": "code",
      "source": [
        "SSxx= df['diffx^2'].sum()"
      ],
      "metadata": {
        "id": "MoyEJ7StedGl"
      },
      "execution_count": null,
      "outputs": []
    },
    {
      "cell_type": "code",
      "source": [
        "SSxx"
      ],
      "metadata": {
        "colab": {
          "base_uri": "https://localhost:8080/"
        },
        "id": "q528E9PoefG1",
        "outputId": "8036449d-6d15-4217-d87b-7357230a99a5"
      },
      "execution_count": null,
      "outputs": [
        {
          "output_type": "execute_result",
          "data": {
            "text/plain": [
              "1808909.5527405904"
            ]
          },
          "metadata": {},
          "execution_count": 13
        }
      ]
    },
    {
      "cell_type": "markdown",
      "source": [
        "![SSxy.png](data:image/png;base64,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)"
      ],
      "metadata": {
        "id": "f1bhrkPmc5kz"
      }
    },
    {
      "cell_type": "markdown",
      "source": [],
      "metadata": {
        "id": "XVOZyYAyexhp"
      }
    },
    {
      "cell_type": "code",
      "source": [
        "ymean=y.mean()"
      ],
      "metadata": {
        "id": "gqUlSBs-fd8o"
      },
      "execution_count": null,
      "outputs": []
    },
    {
      "cell_type": "code",
      "source": [
        "df['diffy']=ymean-y"
      ],
      "metadata": {
        "id": "uGCG8gn8fiEv"
      },
      "execution_count": null,
      "outputs": []
    },
    {
      "cell_type": "code",
      "source": [
        "SSxy =(df.diffx*df.diffy).sum()"
      ],
      "metadata": {
        "id": "pVEux1Elfkgg"
      },
      "execution_count": null,
      "outputs": []
    },
    {
      "cell_type": "code",
      "source": [
        "SSxy"
      ],
      "metadata": {
        "colab": {
          "base_uri": "https://localhost:8080/"
        },
        "id": "78tT-m94fs5B",
        "outputId": "507b0dba-28fc-4882-f838-3ba9dfbf3810"
      },
      "execution_count": null,
      "outputs": [
        {
          "output_type": "execute_result",
          "data": {
            "text/plain": [
              "217838.44441885184"
            ]
          },
          "metadata": {},
          "execution_count": 18
        }
      ]
    },
    {
      "cell_type": "markdown",
      "source": [
        "![Slope.png](data:image/png;base64,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)"
      ],
      "metadata": {
        "id": "u4Hf0Vbaf3Hb"
      }
    },
    {
      "cell_type": "code",
      "source": [
        "m=SSxy/SSxx"
      ],
      "metadata": {
        "id": "sWx-lWKCgGl4"
      },
      "execution_count": null,
      "outputs": []
    },
    {
      "cell_type": "code",
      "source": [
        "m"
      ],
      "metadata": {
        "colab": {
          "base_uri": "https://localhost:8080/"
        },
        "id": "E0IEh9ZEgHcw",
        "outputId": "74a2608e-50ab-41e9-c38e-429190d854a8"
      },
      "execution_count": null,
      "outputs": [
        {
          "output_type": "execute_result",
          "data": {
            "text/plain": [
              "0.12042528278366127"
            ]
          },
          "metadata": {},
          "execution_count": 20
        }
      ]
    },
    {
      "cell_type": "markdown",
      "source": [
        "![Intercept.png](data:image/png;base64,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)"
      ],
      "metadata": {
        "id": "zTGur8uMgS-g"
      }
    },
    {
      "cell_type": "code",
      "source": [
        "b=ymean-m*xmean"
      ],
      "metadata": {
        "id": "ga1qojx6gU3x"
      },
      "execution_count": null,
      "outputs": []
    },
    {
      "cell_type": "code",
      "source": [
        "b"
      ],
      "metadata": {
        "colab": {
          "base_uri": "https://localhost:8080/"
        },
        "id": "GwgQhp5YghQA",
        "outputId": "bb1ee083-94a2-4738-ca0a-48ed931c89ea"
      },
      "execution_count": null,
      "outputs": [
        {
          "output_type": "execute_result",
          "data": {
            "text/plain": [
              "47.34778348398618"
            ]
          },
          "metadata": {},
          "execution_count": 22
        }
      ]
    },
    {
      "cell_type": "markdown",
      "source": [
        "![Visulazation.png](data:image/png;base64,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)"
      ],
      "metadata": {
        "id": "m5bSFzmyguq5"
      }
    },
    {
      "cell_type": "code",
      "source": [
        "import matplotlib.pyplot as plt"
      ],
      "metadata": {
        "id": "2PYEDjqxgwlJ"
      },
      "execution_count": null,
      "outputs": []
    },
    {
      "cell_type": "code",
      "source": [
        "plt.scatter(x,y)\n",
        "plt.xlabel('Weight')\n",
        "plt.ylabel('Height')\n",
        "plt.plot(x,m*x+b,'r')"
      ],
      "metadata": {
        "colab": {
          "base_uri": "https://localhost:8080/",
          "height": 296
        },
        "id": "bVKulNURhYbp",
        "outputId": "f425d945-6bf0-4f5f-809a-656628acde73"
      },
      "execution_count": null,
      "outputs": [
        {
          "output_type": "execute_result",
          "data": {
            "text/plain": [
              "[<matplotlib.lines.Line2D at 0x7f3341bdb350>]"
            ]
          },
          "metadata": {},
          "execution_count": 24
        },
        {
          "output_type": "display_data",
          "data": {
            "text/plain": [
              "<Figure size 432x288 with 1 Axes>"
            ],
            "image/png": "[encoded data removed]"
          },
          "metadata": {
            "needs_background": "light"
          }
        }
      ]
    },
    {
      "cell_type": "markdown",
      "source": [
        "**Predict values with the model**"
      ],
      "metadata": {
        "id": "ulQw4QXuib2L"
      }
    },
    {
      "cell_type": "code",
      "source": [
        "def predicted_y(value):\n",
        "  predict =m*value+b\n",
        "  return predict"
      ],
      "metadata": {
        "id": "5AMvE3I2i3Yp"
      },
      "execution_count": null,
      "outputs": []
    },
    {
      "cell_type": "markdown",
      "source": [
        "![R square.png](data:image/png;base64,iVBORw0KGgoAAAANSUhEUgAAAnMAAAB0CAIAAABhSCPIAAAAAXNSR0IArs4c6QAAAARnQU1BAACxjwv8YQUAAAAJcEhZcwAAEnQAABJ0Ad5mH3gAADCnSURBVHhe7Z0HfBXF9sdvL+n3ppBCeiGF3gKhJcgDiaKC8ucJKPgsPAQV8VmQju+JAvp8TxRBpIoiCiKiFEHpJXRIbyQhpCc39d7csnv/Z3Y2l3SSGHy5eL5Zl7kzZ87Mrp/P/PbM7s4KWRMr4BHy/zbGzP/7RyO0dIjrwf+qG22l0elrpbvUsg3H03aXCIIgSFdBxP+LIAiCIEhn0IaYVdhyqAQlLVTiacXg7gHY74hZW+9Vp9CkO43aJOUtdMNyRs3N1OGg+Y2KW/kfgSAIgnQZ7qaswia59X6bzWYhyB8vA9zeAmSaBWa2RQMo5FMtIGyoK+Y260rTLt8LGvW/md7duTC4G2AIG3g0817IIQjhJ3fS/pjjQRAEQToJIctQZeVG7ybyQNSh0bh+12GeOgFhYIn6CEWcMjTxTGg28/dz1x52CnftfNu70dSSOufUmxQ2MrhH5w1BEATpDIRmptVxGsb0psM65NBKjYoAXgo4QBggZhU3NeIAy1Zb7jjQYAtt8rTU+XZhCfVb4q7daIRZwLKsSCS6UwuasKTru7pH5w1BEATpDDqorKdPni4sKtTr9UKhSCIWEz0gJcSVTCaTy+WOjo4hISEqtYraN0OjZlvtxR0srqg9/Vk/TWm2RQtN7TsAOOH8wK55T5Dbnm6kpqSdP3fOaDI6ODhERkZ6+3jfcd1iGwiCIEiXQ0jmbFun0ZjOmc+ePfvw4cO1tbXwU0SEVSQScsEWp66gtc4uzrGxsTOenuEX4MdVaxWoQ3thEZJmgVJLZ6Ahs5lMNIua3M2Frb5ls9RvrqPQU0dvNpPmLR0AaPqufahn8PVXO1+bP19v0Ht4eCx8e+GT0568Y9DQEkEQBOnKcHJIt2ZpIb+mRpt5MzMvPy+vIC/3dm7OrZysnKys7CzYZ+dkZdzMiLsQ99FHH61atUpbreXrUEAkqPbQhGUDaFuwhwAY9NIsYIwMCalpaX24iVPyvA/fvbpeQj7D3d1tBSgmVVu1aRtCEZHUhopa139ym5nVaXV8ZlNY7gGleui02vzC/DJNWXZ2Tnl5OeR0Rh8RBEGQP5r2v88KyiEUiMViUBSJSCKTyHx9/Ab0HzCg34BBAwf179ffw91DKpFKxNLyivKtW7dCaMtXBCxSQROwpxvoEIn9LMUEoVgglomJcjUFIlUIlMV8lAzRMknQfAl3RA08NQT6DYpIn6uyADrXkiKzLXvj7oPy3mADYFfnVigWyeUKkuK0nMurB/S94bkXcjPqgARCfomY5NTvIYIgCGIltF9ZORiGxJIgF7a2tlOmTNmyZeumzZs+//zzLZu3rF69uk+fPqAncplcW6vdvWc3XwesqX7y8NmA0WiEPegTKFBlRWV2VjZsmtJys8kskPDxK1Uscz2dKy0uzbudBz3hf9dBcrjDqtXWchk8/B3lpjoHv4jOEa2FKLO4sDg/L7+osKi6spoWWcSyMUJBVWXVzZs3iwqK6E8LZUUlebl5ZtJdkk+c1wGtm4wm+rJTSVFJeVk5PSKJBA6VAFctUqmUpCyVWuoAgiAI0vUQ3pG4hnLD08KYPnPGzK3btopFYkdHx7cXvP3a669BJsuwJI4UCFYsX7Fq1SpQKVbARg2NOn3mNKnDqQwJDGlDRMjqeRcJzpw+c+zYsYsXLxYXl7AsY2/nEBwY9PDDD48cOUppzwd/UANkadc3uw4cPFhQkC8RS5ycnEY/8ICPj8/JEyeKi4vFEsmcOS9G9Iz4fs/3e/f+ANrm7Ow8e/bskB4hXDOCyxcvf/PNN6VlpQqFYvLkycOHDRdLSYAIWv7tt99evXq1pKSEYVjogIODQ2iP0EcfeywycjCRRlbw7rvvpqSm2NjYhIaG/fWvU7Zt3Xbs+DGWNT/xxOPPPvss9C3+6vWDBw8mJCTcyr1lYljo24iRIx566CE/Pz+FkhwCY2QgHjUYDHv2fH/o0MHbt2/X1tYOHDgwJjqmsLDw+VnPg42L2mX1mtUzn5lJuosgCIJYHTR+JLDNbS3wzIxnREKQUYnKSbXy3ZUkizWDshr1RkhuWP+5k6MTOAfpHTliFCllzIyJBV0hG2iOCZSLhUxLK1u3bOsZ0Yt2yYJEIAn2D/7og/9oSjTEyGw26A3zXp7nrHbmLTgc7BzCQsOcVSRTKpYePnQYLJcuWUpLbW1sf9z3I+TU6mphv/Prb7q5dqNF69et19fqIfPypSvDoobZ29nT/PqMHDFy/4/7odvQ4SGDh8BRS0SS8LDwKZOnyKVyMAD/76x4R1ej+/67PSOGDlPKuIuAOty7uY8b++DlS5fhqKEhoCC/YNHCRV6eXuSZrzr8/QIGDRhE02qV86YvNlNjBEEQxOro4GwwB7kHKpFILFOXENhJZJLS4lIIH6urqyEP5GjIkEhSStoxm4ioEoEhegryypiMRhNUvH3r9ssvvxSfcAOU2MfbB8LcyMFDnOydTAJT2s20T9Z+cvnyZeJEINi+/cv/fvxf+oAPoFapQYcqqyuTkpOgReiCTCYDJ1BE94BWq6NRMsShsIeWDdzks0wqU9ooZXJZYUHhokULIbCuqq4CtQvwC4iJHt2vbz8nB3JxcOLkie3btxcWFYLzWn0tXD+YWFNaWhoEuHqjnnNIXjSKi4uDiPbk2dM6Q61CKgv0C1A5OkFIXVRUdOjwoXmvzEtOTgZjUOh9+/Zt3Ljxdt5tcAUirXZS+/n63czKvHDpAhgQh9DP+nPlCIIgiFXRcWUVQmWRSKvV/vTTT8uWLluyaMniRUtenTd/6rSpu77dBaoJNoH+gVOfnAoJ0FKIcEHGpDKpmDyhIxLDv1KJVEZuLp6PO19RWaGUK0F3J0yYsH//T4cOHVz53ko/b38oTbuZeu36NYhW01LT161bB4IEkg6x8tw5L0EwumvXrheef8HRwRF0DnQR/vjJZu75H/itVCroHLVSqaT5UilpFGSPKu6FuAs/H/iZpASCmJiYbdu3/fzzT2vXrh0yZAjNTE9PB4FkuDliOoNtNBnhWMLDIp6Y9MS8ea94d/fesWPHpStE/oMCgt57//2vvv7q2+++e+qpp+RyiGvN8fHxcJagNDEp8bvvdpeUlEDrEHm/9NJL335H/t58/U3SHw7oYd2MOYIgCGKF0NCVQCdmG21N4fLpbHCDG6VNCA8L//mnny21MjMyr1y+eu0qqOT1G9duwP78ubiC/AIo/OzTz/g6AsGYB8b8cviXvNt5+bn5P36/f8O6z9f+55Nfj/xm0Bs3b9pMJ5mBmU/P1JTxU8RJiUkTH5sE/RELxTKJDKpD5vKly6mljdLmwE8HqCXw9Vdfuzq7Qj7I+pbNWyAn7nwcHM7sWbNnvTDr7Omz1CwjPeP/Jk+hHiLCe0I+SHv/vv3h0gCiYdhDVH3uzDm9Tl9VWQUtDug3ACyhdfCTeytXV6NjTOzFuIs9I3pCPlR5fNITcLD7ftjn6e5JRfSvU/56O/c2ba6ooGjSxEmkMQjEndRfbNxE8xEEQRCro/0xK4gpp6fmuoeRRBC7NqeyEOGRCVjuwSWNRvPa/NeiR42KGho1YviIESNHDBs2LCYmeu3aTwy1huHDh0PYB2bg5MjRI6AxY8eOnT9/fmpqSkhwyLSpU2NGR0N0m5OTU15B5oHFIskDYx5wUnEqywqCAoOGREYq5AraHxqtwrGRUi4BISZNA6RP3CO7JMGwUGPAgIHrPlv3+huvT58+vUZbs2njpjdef+OZZ575+Wc+kIXDg2AaEtQn7CFEnj//1cihkTKFzM7OrriouLS0FIqg6ctXLr+94O0X58x57rln129YD7oL+VA9NzcXLheKCosgOoeAXi5TjBwx0tPTE0oB126uY8aMoWkAWuRTCIIgiLXR8dlgKmO2NraxsbHLli1buHDRwgUL58yeA8JpZ2sHRakpqUsWL8nIyIA0SA6IYkVVRY2uBvaQrqqu0uq0ZWWlYok4PCL81XmvBgcFgzeJWFpVUxWfEP/1rq9ff/P1mc/MXL5ieUpyCjipqiIqBQZSqcTNzQ3SFhTclC9oHi+noL7cK6EAZBEFrUMsFsN1AEnBAXDmIMRHjx5dsmTJ1KlTH33k0Weff3b1mtWnTp3SarX0coE8bMUttASSTMVYJpdFRUURJwKBwWAo05TB4UBab9Sfjzu/7cttW7dAPLz5842fFxUXQSQNRRUV5TU1NXDIej25OyuXy1zd3Oq/MmRvX+/5KcthIAiCINZGR5WV0xzQDFtb2+iYmMVLFr/zzxX/fPefa9asWb58ReTgSJFQDOHq5auXjx0/DuZm1hwO+hka3rtXn4iwiJ4RPfv06hPaIzQwMAgkECLeuXPnfvTRfxYvWfLYY48OiRwa4B9oq7QFD1m3boI+fbHpC22N1t7OHpo1m1kQJ73eAG5ZEwvxKAk+ifgRPYJSKoeW25ZEPutFgAauIgCN0kj7l19+mT179pc7vryVe8vWzm509Ognpzw5Z87cqKFD6dUDiXLBBwcn3qCyIkdHR+oHmhaL6t5AFQj69O4z8bGJkx6f9Nijjz0+8fHoUdHjHnxwzOgx0dHRjk6OZA0N7r1VOCGg6FTaKdAKn+LWzeDTCIIgiLXRQWWl6gXDP2NiDAYShFEUNoqY0dGRQyLlMhnNuRAXB3sHR8dZL7ywfv36DRvWb/h8w8aNGzdv2QLJSRMnQumVy1cOHTokEgn79eu7du3aLVu2vLdy5bRp07y9vEG0IMw9e/ZsZWWlp6enQqEgOicwJ8THQ/PkvR+JpEarLSoqBE3lZNRM9JJbfYJ2EmS3tLQMEoDJyGRlZ2t1ZNFBkEmxWKKt1u7fvz/nVg5onpOj09w5c9ZvWL/2k7VvvfXmgIEDqAfQfugbWXaKe7YItvqztRKJWKVWQbQNadg//vjjH3+8ljvSDRC2vvzKyxAKT39q+oQJE7y9vdXOaicnMokN8WtqairEu5wPQkJCAk1wVwJ3/CMIgiDWRQeVlUSHRMbIPUuQHMiBWBB0i8ZaPj4+dtzcJuhimYaomlgi6tWn1/CRw0F0o4ZFwb5f/74jRo3w8yfr9e/bt+/FF198+eWXly1dVlRU1CM0ZPKUyc89/zxEufQGp9FoAkH18fVRq9Xwk1T5cd+xY8cqKypLS0tPHD9+/tx5OuUL4kcNIDikX+CBoPbIkV+yMrOqq6rPnz9/9uyZGm0NRNvkIwJCIaQzMjIhwAUzbtGJ0UHBQaB/xUXFaWlpNHaEeBQAwROJyJqOsIEky6TcpYNZIJVJgwKDoG/wC7zBRUBmZgZYKhTKm5k3d+/e88GaNZ9++un583FwCCCuvr7kkCEc37Nnz8kTJ2uqakpLSn89+tsvvxwhDskhkCsXBEEQxErpoLLSoA3iRZAQqqYyuUwiFVNJgODS1tYGFAjUq6xMQ7IoYEkCy7oN4Ow93D0KCgvT0tOuXL2yZMmSL7d9+f2e7/fv/zEtNY0zEkREhNvY2ISHhw8ePJiq3aWLl957770V75DFntZ8sObsubPcY0qkRSqxoaFhEIZCQi6VHzx4cPGSxYsXL3nnnRXHyey0mbz8IxKzDCOVytQqFX1HKD+/ANTuwM8Ht27ZunrNmlMnT9HYEa4gTCaT0WggWiwiTUilErmSLBNB+98jNHTc2HGODmR++MiRIyuWr3j//fdWrFj+2muv7dix48q1K0mJSS4uzg72Dj1CegwbNgyaBksIUt9d+e7b5Ab1ogUL3rpy9TJtTiaT1Z8lRhAEQawMMn9K4V6naby1wBOPT6bV5TL5wrcX8bl1JCUk+XGRGeDl6VVdWc0XgEOG2xr6z8vNm/J/fwUhpG/O+HT38fH2oY9BARFhEXt2f28ymsDyp/0/+fsF0HwAYk2FXAF9sLe15+RKCGm6BlN+XsFDsQ+BDX1eCSyJsUzhonax3IL99JN1IMNf7fiKiiJgq7T19fF1c3GzUdpYzNQq9c6vdxr1RvoKDQAHxXX8DteuXJs5YyZoJzVQKmzAA01Do09Nfyr3Vi61PHfm3IPjHrQ4twCN0oSDncN/PvoPNUYQBEGsDvGyZcvogN48XEzWlF+PHi3IK3BydILwNCYmmoSSrFnIfS8VsLOzO3r0KMMwYODkpHr00UfozUXW8iFVy8Zh72Dft09fEoyaBbpanVar1el0YrHYxdlleNTwV+e/+uCD40BAwTIgICAkJLikpKS8vByUGGTV1dVt/PjxIT1CUlJSIPSUiCTTpk0LCAyws7cLCAi8lZ1TVV0FoiuVSj09PP8y9i8THpnAkMWfTC4uLhMmTOjZqydcBIC+VldX1+pqoQRwUqlGx8QMjozU1+qVSiUoa2RkZGhYKFntwSyAY/Hw8Hju+edo5yl0kWFnZ2eoUlNTYzDoFQqlt7dPgL//9OnTn3/++eCQYGoJ3QgMDAS3lRWVcC7gKNRq9ejo0RMnTszMzITrCTCIiY7p268vtUcQBEGsiw6uyF9UWJSbmysSkRddQKK8fbwZEwuiSVc7AtLT0kGooDpIKcih0kZJpJfKaguUaypyc2+Bumg0GpOJsbe3c3NzC/AP6O7d3eKWcivnVnJyckFBAUhmSEiIq5vr999/v3TpspqaaohZf9y/f/QDMWTaWSTIv50fnxCfnZUN7YaHh3t5dXdwsAdhrq6qhhzQVCeVExwCiFxWdhb4BFGHSwF3926+vr7cVHYZCC206OXlBYeZkpyi1+tB/2VSWVhEGO0MAbLg6MTCmqqavLy8nFs5mZk3GcYUHhbu4upC5sZtbKVy/uFhAHS9XFOemppKlnZiGVBWHx8fV1dX6ICQTDaL/Px8nV0arI2MIAiCWAsdVNbGgIxRyxbsifC0efUDiCDBHlyRZ6O4SixjJg8PtYRZsG7dusWLl1RXV8lAWX/8cdSokeAB9I6XZFbAsKyYfrq1IUaDEbQThJ/+ZE0s/4XXtkPPW8PeMUaG9N/yTi1DdJcIMEA6Rh7pAn2FKwOSjyAIgtxHtFNFWgLcgEC0pBF1mk0/StoShloDiA3IKrnbKuW+/i0kVUiORX44V4yJfDDH4pZrV2g0GqG6iTzHxL22Qh6xJZpKEBElg3/BwKg30orc53cYCBAhAIUmqJy3JKv03jD/oxF1B04M6kz4/lOgO/WvKqBnXN8kUknbrzYQBEEQa6GTlLV1uGUW4N9Gk7qNkClk3CoK3GoMdRIMUtegFqdEIFp3dIsDZFWrrQGt1NXqTFR0RVxzIiKKfBDMvQVEBRuAYBHSZO6VW5UJjMlUdUvqSd7QuYsKEpm0mIAfywaZNJ+UEzd3PN3FJYIgCGJ9dN5scCuiST23xRU3X9qBSC7uXNwvR36BiBWEcvr06f5+/qQ52Op3rNluQCbNb9p/yLcYd6xjjU6LpS3aNwRBEOR+pJOUtXUscnJXOqqsLUKbhj3nkjvWhv7b0zce6q2NVeqbWTy0pS6CIAhindwzZa2vIo0EplmoDa3VgUYbdb6Rh7Z04K6AE0sr4O33O0QQBEHuR+6lslKHIi5xVz/UhlZpb6Nmsiw+yzJwKEIhWRSiwS1PC9Q58HsOykKzTur3nx4RgiAI8iejyygrhVZpV6OWblsSUL1ZD2BAe9Iu/+2ifv9pWwiCIMifjKbP7XQe91TDmkKba73FP7I/CIIgyJ+SP+QJprZTP+ZrOx2rhSAIgiD3gHsZsyIIgiDIn4/7RVkxYEUQBEG6Bl1MWTsmkCirCIIgSJeh68WsKJMIgiCINYP3WREEQRCkM0FlRRAEQZDOBJUVQRAEQToTVFYEQRAE6UxQWREEQRCkM0FlRRAEQZDOBJUVQRAEQToTVFYEQRAE6UxQWREEQRCkM0FlRRAEsTbMdRvSJUFlRRAEsU7ashZs29UXpbrz6GLfZ0UQBEHuCgzXTQZnM2sWCoUN8i2juiVBS2n1Zi0BM/d3B+K1aXNIK6CyIgiCWBWgeyCiojsiyppYyBNLxPxvC2YBy7JUGIUiviLJh6r1NRjyODUFIL9xEYBC0E5QWREEQayHRlIHP1sepc2MWSjGQfx/ACorgiCINWFmBRpNWWFBYXpGekV5hY+vT1BgkJ2dXebNzB4hPZS2St6Ow2Qw3cq9lZyUrCnXODg4BAYGqlSq0tJST09PlVoFBixjNhj0ubm5EKoqFAqTEeJflkSvZrNIRGQZgmOo4uDoQB0ibQGVFUEQxJpIiE/4YuMXv/76Kyilp5dnTY22XKNxd3evqq767LPP/Pz9eDtWUFpW+vXXX+/evbuysqpHjxCj0VhWVmZrYyuWiOfOnfvAmAfAijExGo3m8w2fnzt3LiExUS6T+fj4qJ3VDMPUVNfczrtdXV09bdq0hQsXSqQS6hi5K/hsMIIgiNVQVlK248sdO7/Z2SO0x7/e/de6detWr141fMTwU6dOQagplcp4O4GgRluzbdu2f/7znwa9YfWqVf/+97/XrFnzUOxDV69dy87OVqnU1EwsFqvVzs8+92xQcFB2VpbSRjnzmZlvvfXWgrcWvP7GG489+pjJZIJIl9x8RdoMKiuCIIjVkJCQsH//fp1ON3IE+bO1tQ0NC33llVcGDRo0YOAABwd73k4gyM/P3717T0lJSdSwqNFjRndz7+br5ztr1qyxf/nLoIGD/C2hrVAgEgtBX4uLi02sydvbe+jQoeHh4X369Rk5asSMmTPGPzg+ODhYRJ6AQtoKniwEQRCrobyivLikhDExWVlZ+lo9hJJGg8nd3X3gwIG9e/XmngDm0ev1Bfn5IL2FhYVlpWUQ0UItGxsbEE7QYDu7OxosMAuys3NSUlJkUpmfr5+Li4tYIq6qrCotKbVR2jw94+mgoGB8EqpdiJctW8YnmwVPJoIgSJfBzJjPnTubmp5aXl5ua2MbFhamsFHAQO3g4BAQEGBnZyuT8xPCQoHw3Llz129cLyosFgoFAwYMUCgVQpHQ0cHR19fX0cGBYRiJhLt1KhTcuHHj4/9+rFKrJk2aFDU0ymgwbt++3WAwBgYF+vj42trZcC6RtoLKiiAI0rWhr9ZwD5m6uLqwDJuQkJCalgpRJkhjcHCw0kbp4eGhVqtlMhk/aJsFtnYgiHYX4i7k5OYkJyXrtDp/f38nlZPaWe3s4iwWi1mWpa/AGvXG3bt3Hzx80EZpGxoaWq4p3/HVV2fPnYXoNjgkmLw4i7QTVFYEQe4v6r/mcN+MYHAg9FiEAggiZTJpZkZmWnpacmKyVCoFOQRx5c04yAIRIqGvr59arcrMuJmTk3Pt+jW93hASEqJyUoGZUCi0rCxRWVG58YuNSUlJUKSQK8Dy6NEj7t3cJ06aBBrM6zrSHlBZEQS5v6hTIKsfviySxu0ZEyMSk9uoNjbK0B6hDo4O2VnZmZmZBQWFfn5+gQGBVClZE1l0ia61JJVKevTo4ezsXFZWevPmTTDu1q1bWFiYXC4nHusoKixauXJlVXXV1KlTly5dOm7cOBBmCHBHjBhOBNvaT+P/AlRWBEGsnIZBlclgSk1LFQMiiSUsu1fc63iunvMjvxzx8vKiL5WC4AUEBIBAJiQkZGSku7i4Dh8+XKFUQBGEqhcuXDSzrKPKkWVYmVzWA+JUlSolJTUlNVkqkYGlWs2/ckOJi4vbsH6DrZ3tzGeeiRkdbW9nD4cFbfn7+ZvNZqPRiG+ythd8NhhBEOsBhny6NYtZUFhQuHHjxmXLli9Y8PY33+ysrqrmi6yR+pcLRmbzps0QdwpYEpXCXu2sHjt2bP/+/U2MKSsrS6fT8aYCwf79P8ZduAAJkURkZgVyhXzE8BHDhw+DC4309HRNmYaa8WsICwSnT5/RG/Vubm7BwUHwEy5HBg0cOHToUKVSeeHChfgb8YyRoZZIG0FlRRDEegCxoXpDRcFMZIZh+HG/srLyu+92QxgXGtojPT3tvZXvnTxxkhbdOyAuBPW61yQlJZ6PO3/ixAkYs0Ev6cjt6Ohob+8gEUnqv8ZaU11z6tTpgwcP0J/0NRzQSDtbO5lM7uLiDELLlZCe08S5c2dhHxAQCEEq+S0UODg5QFgMQn7o0OEabY1Yeo9D//sOVFYEQawG0DCWMcPQb1mWVSgSikX8uG80GsFkzpw5ixYu+sdr/yivKL90+ZIlMrsnkGUW/ohFFC5evJifX7B58+Zfj/6qrdFCTlVF1amTp+Li4tw93IdFDQOVpZYZ6RkJ8fE//fTzwQMHITxlTAwE7qfPnPnt2DG5TPbAA2O8vLyoJdXL69euJyYmwjns1s3NxDAV5RWaUk1O9q3Tp858+O8PMzMzgoJIIIu0C1w3GEEQ6wGGqZYHJcbIFBYVenp5QrqosGjMA2NemPXC3Jfm0tLG1B/xft9AV1xUzK0RqL4nAyZ3yIveXrTvx30giiKRyM/PX61WFRYWXb16hWHYRx555OmnnvIP5MJNgWDnVzsXLlzYzb2bjY1Nr169nJycysvLL164WFlVFRsb+/TTT4eFhdJ+Xr1yNTk5Zc/u3bv37GHNTKB/4JAhQ2zt7BjGVFhYmJmZWVZWNmvWrDfffFOhIC/Ccu6RNoHKiiCIdQBKcPz48Zs3s2p1OrFEolQoJFKJXC4PDQ0dNWoUFVQAglSQgfNnz7/08kv//e/HQ4ZG0vzGwIhHBz0Y5To60BXkFxz77diBAwfGx46fOHGiZaK1c4G489Chw6CUapUqJycnLT0NxFImlTmpnPr06dOzZ09I8KYCwYnjJ0AUe/funZaWVllZCZEuyzJubm6hoWF9+/ZVO5Pv21BSklOys7JBRPUGPWBrawsKyoK1ianV1xoMBqlUGh0dHRwcDDJBH0tG2ggqK4Ig1kG5pjwjI2Px4sUHDx7s3r372LFj7e3tT508VVRcFBMT88or8/r170stKysqF7y1ICwsjASsTQcxy1hHEx2VjPS09C1bthz4+cD169cXLV40f/5r9g52fFknYumtUKCv1UskEqPRpNfXioQie8d6KxTWodPqwEYqk0LazJhBgxmWgRNF3rRpdCpYgYkx0U+js3A5QtbcJ1+Ok0jFtFFQByFohIArQi1oD3gZgiCIdeDk5NS7V28I3WCs9/b2fumll/71r3f/9uzfdLrabdu2HznyS62uljWxOm3thg0b3Lq5zX5xdvN6AJl0g/EP9s0GFfUBg+ZsHOwdokdFk2douVUaiPzc1VW7qN+ukDxwJBGDrBoVCrmjk2OzsgpAZ6QSKVQksbtYqHJWubi6NHqBlUckgKBfJofoVypXyGRyKaSJrALcnWxOa1s8fKQVUFkRBLEOyKp+iYkpKamQDgoK7tWrl42tsm/fvmS6UsDeunWLTFpKRDt3fg0GS5ctFUvEt3PzigqLuNrNw5gYIq7NQp6WIl8B53Wlibq4ubtFDYvq5t4N2jUajKIOB3ZUuiybBfBGHXKZIrFILBWTl1bv1gqZiaSuWLI3s1xOXS04IohlaRH13BgoYrkLBdqBuzWHNAWVFUEQ6wBUMycnOy8vz8nRCWSV3vmrqKiorq6CRPfu3aVS2eZNm1esWHH8+PEVy1dMmzpt7ty5BQUFXO3GkLdC656PbR4Rfe5XyIe2zQkMBHpKhVIkEhEpa0WBGglYnebxUOctVyfOm5XAZoGOcLGmpedEIuE/IrFcNznJBK0lEltfZZuF6xUv1UibQWVFEMRquH79epmm1N7evn///vAzIz3zu2+/y8zMHDli5NAhQ/Pz865dvRYS0gME49Chw4UFhf369Q0PD6d1G8GwzI3rNy5dvHTl8pXrV6+T7dr1G9duwAYJ8HP1ytWkxKRyTXkrosKyDMOyYjGRZ8sjK3eAHIgXQc8aqSb8tAy91IBGz0B9S8iGjepiu6D+LZUgwW1Ea+sSQvGdrYExAD/r5UDrYI/i2i7wCSYEQawDnbZ25swZu77d5evjO3PmM1ptzcmTJ2/dyh03buxzzz03cOBA+thOG0lLTYOINjExkWEY8okYDk55+JTRaPTy9FqydMlDDz/EZzYB5PDDDz98//33//73vy9auIh80O3eAZElp4tI1weVFUEQ6yAjPSM2NjY1LTVycKR3d+/Dhw/ranUzZsxYtGixr5+PyWAiy9vSIYtM9N5lSk5Tqtm2fXthYQGoKQx+UI8Lyrh/AbOANbOOjo4PP/xwr969uBoN4WxBWT/44IP331/14ouzFy9ebPk2Kg8dVIWC4qKSkpJisuYRke46+Sbtka+RsyxZ3TcwMLDZl3a0NVq93gDBMZm5tQzXnAcSTQK8wzqn9AeZ76U/CcSK7Mm9YAo0Cg7pX0vRKPilRVDd1c2VZiJtAZUVQZCuDQxNMBCZBQcPHgRlVSqU/3r3X+MfHL906dJvv/tu8uQnVr670j/QH3RLJBK1Y8gyCyBaBWEjc6ScipA/okjktiIIDm2XfwulKVypyWgCZV21atWcOXNAWZsNmo1648dr13711Q6dVsc3AgInFHGNmKtrqqEJX1+fdZ+uCw0P5evUI+923u7duysrK/nf0DI3aFNppDnglD9H9FzVo05N67SVM7J44GqQNPSKTwhBFOBf8r4Nf2a4mm+++ZZM3o4pgT85qKwIgnRtYGjiBqIVy1YsXb60m1s3kNi+/fpu+mLT/PnzFQrFO++8M3PmTKlU2q7xqqa6BoJgjUYDeszQiJBTGSIk4McsMDEMOA8LDXVxc+Hr1IfrldFg+vDDD1avXv3iiy++9dYCG1vuI6kN0ev0R44cOXb8GKkCCAXkMzygrJzC1dbWymQyDw+P6dOnNxsX1upq9+7dW11VzekxEX6C5REk/jcBMiwCaTHj/+rgTiWpCgbkqLkqQtB2/qKESi+XpAmuNljPmDEDF4toO6isCIJ0YSzDvEAQEz362PHfooZGffPNN929uyfEJ77+j38cOHTg4YcmrFy5smevCN6ubRTkFyxYsCA+Ph50DsSDD1KJloDQkEeCDQaDl5fXG6+/MTRqKI3eGsB1DFRz7dq17696f/bsF1+dN89JfWctpEaQyWoZ9y02qMhNNVvGXtIiiFa9I21MK0VIlwSvQRAEsQLybuffuHEdEsOihnl6koUMg4ODJjzyiIva5dSpkxDF6mv1nGFbcbB36BnRMyY6JnpU9MhRo2APyZjRo2NGx0RHR48aOWrE8BGDBg5ycXHhQr0mcHmgwRDagkpCAgJcrqB5eFkFoCL3Po9YIqbbXWSVwqvwHwhcaUBMS1/n/eNbt3IwZkUQpOvCMmxFRUVpSemXO75cvmK5UCB66aW5ixYtsrd3UCjlV69cnT9//m/Hfuvfrz8kHop9qJWosSnlmnIY/yBA5aY8udnWutgU8o1GA4yADvb2Lb3zaqg13LhxY9WqVbu+2/X4pMfffvvtiIiIe7J0MAzOzQ7FLeVT6JAOBnc1o6WgoQB9R4iLqllyH9csk8kgk7ycg7QZ8bJly/hks+DJRBDkfwI34jMMExcXd+TIkcuXL7t3c/f27i6TyWH8h4QtYGMLBlqtViwW19Ro+/br59yeD84olAqlEkJNBcghbDI5iEgdcpmSoGjl5mJ2VvYP+37IzMx0VjvbQE9MjCvg7Nr5w2ZLDoVkkrlWV0uWM+RsTEayDjANgiHBXTHw1SGmB0s4MvrzjqDSPUCuLrjrC26zRNUkv+lkONIqGLMiCNIlqRv6KzQVmnINaAbIJ8OS5RRACd26uUkkEpFIVFlRWVJaAvoKouDj49P4vZd2QcdAMv1Jnushrbc6ABr0hvz8fLKuoUgEMgYi1M2tm9LGhn9O6F4CoXxmRubZs2dvZt3UanV2dnbdvbw8PT2rqqoGDhzo6+8LBrBJpBKdTpeSknru7NmcnBzolUqlcnNzA8v8/IKJEx/TaMoPHPgZQlL4s1HagBwYjAY4sSALELLCyaypqYELmNjYWHzrpl2gsiII0iXhRiSTiXtLtTnIFCU3j/t7sQx99cfAe6+OHccs+O233z799NOkxKRevXtFRERUVVZduXqlsLDI0dHhs88+C48IJ5O6AqHJZNy794dNm74oKCgcMiQyKCgILgUuXbpUVlYG4rpt27ZDhw7NmzcvLCw8OCjISaVKSkw8c/YMFEVGRjo7O2vKNMdPnAAl3rBhfa9evVAO2gEoKw/b3IYgCPI/BWIvCFjJigpcwmQkCfLCSN0wBT+hFLYODll1fhpsbYa2bjSYIHglfbj3FBUUPfnXJ2US2ZTJU+JvxBv1xnJN+a6duyLCIgYPGlxeVs7bmc1pqWmx4x9SOarefOPNvNt50NXSktLPN2z09fF99m/PZmflzHph1qOPPHbi+InsrOyE+ERwC6IwOmb0sd+OFRYUpiSnzv777GdmPlNcWMx7RNoGPhuMIEiXRigS0gdoaUIsIQkhDF11YSW5OcjRwaCK+mm0tRl6S1IiFUNsDQlQ5ebn/zoJ8J97O/fkyZMKpWLQ4EERPSMkMomjk+PkKZPHjhs7dMhQR5UjbyoQJCYm3rh+3dbONiwszMPTA7qqdlY/MmHCkCFDBg0apNFA7Fq2bNmyESNH+Pj6QJh1O/e2XCbv07vPoIGD3Lq5hfQIHj58ROTgSFtbW94j0jZQWREEsXJAySzb/xpQr3YJc3uBeIhlWalUWllVeeb0mevXrvNLOQoE/fv3HzZ8GP8DIPdKzWKxuKqq+syZs7eyb0GeQW+wd7B/YPQDvXv3dnN1mz59es+eERBqmwwmkOHklBQQ0YDAAPKtOjiZrCAiPBxkWNncChhIK+CzwQiCWDn1A837fcgigbtInJ+ff+HChdzcXJZhA4MCnV2cocjNzc3b2xuEk1rCqZBKpBcuXohPiM/JAVk1BweHqJ1VoMrdu3f38fZRu6h79OgBsgpRr9FoPHTw0N59e8HDk09ODekRAtVBxd093N3cupHLBQC09n4/vZ0FKiuCINYMjFH1tz8BCrnC3d0jIz0jLS01OTm5tLTUx8fHw93Dzt7ujqxyqJxUIpEoKTE5OycrIT6xuroqwC/AxdXFzs6OX+JYKCDv1QgE5WXlO7766tq1q4MGDnr66afUajUppC/6oqy2H1RWBEGsBDrt2eyg9Gca90VikaeHp3f37mVlZenp6UlJSVqtNjQ0FHSUqCD92BxgJqIY4B/g4uJcUlKSmZmRmJBoNBkjwiMcHByE3ItFFnJv5X62/jMIhWPHxz7xxBNUbhuAWtAeUFkRBOny0BuodDhqOijRUuA+G68aXi4YDcZaXa1RbyTv7AoFfn5+vr5+VVVViYmJIK7+/v59+vQhbyhxtTRl5VLuiSowDgsNd3FxhdA2OSU5KysrKCgoOCj4zpIRHDdu3Pjkk08g84knJkcNj+JzG/Fnunz5neATTAiCWAN0WG92ZKf59/ugX1NTc/Tor2npaZA26I0Qj0YOHjzj6Rm9e/euqq46feq0RqMhdtyg/tNP+yGQhQRrYmVy6bhx42bMmBESElJQWACWulpd/bHfZDTFx8dXVlW6uriGhATzucjvAJUVQRBr4H4XzmZoeMh2dnZ7936fkpwCaTG35qJIJBocSf6UCmV+fn5FRQVnCAGrZufXO7OysomNhKx0qLRRgFlYWJhQICoqLjKZTNSSMZE1rfS1+vPn4yDh5+8XGBjIlTTHn/B/QUdBZUUQpMvzJwhJm8Eyy81hNptPnjx1/MRxbY2W3gcF1QSN1Bv0UOTq6mqjtKGWiQmJcRfifvhhr0FvIL+5U2cwGCCKVSjk/v7+Nja8JVSEfXlF+eXLlxUyRa+evXx8fLgCskM6DCorgiBIVwUUrk7kzpw5c/t27q+//rr+s/Xnz55PTUm7euXq1q1bT508BWI5PjbWxZX/Qvu58+dKSkr2/bBv165d165ey0jPiDsft/3L7RDvRkVFjR8fa2/PP0IMIp13O++HvT+kpCQLhUK5Qq7T6mgR8nvAdYMRBEG6MHRkFgq+2Lhp797vAwICKysrGcZkZs1Gk7GsrMzD3ePhCQ+PGTNGpVZR4xUrViQlJXl7+1RVVoINiCXEtTqdzsfb5/EnHo8aGmVjR2JWyP/tt2OXLl06fvxYWlq6WCSKiIh49LFHY8fHenYnX8BFOgwqK4IgSNcGBmeh4MrlKwqF0snJEeLRivIK2EO2Wq0CvfT08rR8F5ZlzDduXIeo1NbWFmwKCwthL5FIPT09vLjv4VjeqAFlLSgoqK6u0em0QqGIZRmRUOTo5Ag2tja2/GusKAEdApUVQRDEGuBe563V6xVKIqIsQ779RvSPG7rJk0oAt6Jho6+UgyXsRU0+NMuaWBjhm+ZDQ+C64+swI6isCIIgVoNZwDCsGEQUtJIKIl0XwjJQwzBeL63X68n3yyWSxk/UgADDyG/mVlkCwB/DQprGqRD1ihpqM9JeUFkRBEGsDDMXv1JZ7OAobSZqSgJTSHKArPIzwMjvpsk8AIIgCNK1EdKZ2mbDobYAFesCVhpc8cFrhx0iDUFlRRAEsUJACpuNMFtXR05TCaDNXIRKNZVMBeMUZeeBs8EIgiD3ETCStzJu1y/FMf+egcqKIAiCIJ0JzgYjCILcRzQbIzULWDbdkM4AlRVBEOTPCsrqvQGVFUEQBEE6E1RWBEGQPyvChhvSSeATTAiCIAjSmWDMiiAIgiCdCSorgiAIgnQmqKwIgiAI0pmgsiIIgiBIZ4LKiiAIgiCdCSorgiAIgnQmqKwIgiAI0pmgsiIIgiBI5yEQ/D8gKel8Ye9N1gAAAABJRU5ErkJggg==)"
      ],
      "metadata": {
        "id": "PqjHayEOjNsT"
      }
    },
    {
      "cell_type": "markdown",
      "source": [
        "![Total_Sum_of_Square.png](data:image/png;base64,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)"
      ],
      "metadata": {
        "id": "3niwBnAGjPkj"
      }
    },
    {
      "cell_type": "code",
      "source": [
        "SST=((y-ymean)**2).sum()"
      ],
      "metadata": {
        "id": "pfTD3jlKzVhT"
      },
      "execution_count": null,
      "outputs": []
    },
    {
      "cell_type": "code",
      "source": [
        "SST"
      ],
      "metadata": {
        "colab": {
          "base_uri": "https://localhost:8080/"
        },
        "id": "Eaz_CVabzXpS",
        "outputId": "b7b8724b-7b64-4881-895b-ebabcc020cfc"
      },
      "execution_count": null,
      "outputs": [
        {
          "output_type": "execute_result",
          "data": {
            "text/plain": [
              "36342.46752085695"
            ]
          },
          "metadata": {},
          "execution_count": 27
        }
      ]
    },
    {
      "cell_type": "markdown",
      "source": [
        "![RSS_1.png](data:image/png;base64,iVBORw0KGgoAAAANSUhEUgAAAjwAAAB4CAIAAAB5O7+eAAAAAXNSR0IArs4c6QAAAARnQU1BAACxjwv8YQUAAAAJcEhZcwAAEnQAABJ0Ad5mH3gAAErySURBVHhe7Z0HYBTF/sev5i7t0jtJSCAVAgm9K71Kk6qgKCpFeQKC7dkbilhQLPgHK9KeQJAqBBIC0jshBEjvvZfr9//Ozt7l0iCEBOG9+XBcZmdnZqfs/b7z253bExoMBgGDwWAwGA8CIv4vg8FgMBj3PUy0GAwGg/HAwESLwWAwGA8MTLQYDAaD8cDARIvBYDAYDwxMtBgMBoPxwMBEi8FgMBgPDEy0GAwGg/HAwESLwWAwGA8MTLQYDAaD8cDARIvBYDAYDwxMtBgMBoPxwNDGovU/8jBeNJM9dpjBYDDangfK0zIJA1MIBoPB+J+kJaJl0DdXNPQ6PR9qFYT839rA/YBBQH7ehVbpfnO50P301aa1Qg/QUwJvrTrgDAaDUY8W/p6Wqkal1+u1Oi3dFAqEIrFIJBILOdstk8u4aIFOoxNLxTTcuqiUKo1GgyMDS7lcJGlaffUClVqFZiqVSrFYbGNjK2x199IgQG+oVCqdVoeAhUwmRw/cP8pKR7ht6kPmJQaBqf8xLhKJRCxpk0FnMBiMlohWRXnFe++9f/r0KbHIaJuEAigWVIsaRnd399DQ0GnTp7Vv315I41rLbqIcFKIX7N27d82aNRqt1sXFec6cOSNGjuAT1MMggFb98ce23377FebVz9/v2Wef69mrB7+39cjKzPruu+/OnTsH3YqIiHj7nbetrK34ff8DpKdlREZGnj17trCwQKPWLFi4YPLkyf+8bNOz5Z5xjw/HYPxvAtG6U5KTUvr07sPnbwL4Xn379P376N96rZ7kwRv3lw/QsIl6m00Dg0jfV36ykh7IydHpp/U/0b21oEAd+QsJqSyvfGnpSzRxR/+OOyN33uZwza4MAYm59JcuXBo0cBA9ytAhQ8tLy7ndt8N0LPODNhp5p9TLi82GpTVVfr3ENGyKqbfXYLgWf23OE3NsrGxo88ErL79aL00t9bI3lQzQlLdI0BQ0C95xDtw2O01GMSU2lWAeMN80xxRJD2e+1xSuF89gMFpKS66USSRiqVRKwyKhyMrS2t7O3k6B//YKWwVi8DIIDCdOnnj9369nZmXRlBQckvypOyHVm98ku+UNGIlEgnd4dXZ29m6ubg72Dl5eXtbW1nRvLQaBVqfDX7h/OJalpSVEFJsWMgu4g7QKBnr3xfweDOLpDSqzzVrMw+YY24KSacBCalGvgbcH6c0PxwVg5po8aF1IW+qlrNfDOmIy+Q1zmlG+Xm/WR3qz/uFQq9QHD0bt2r2rsroS4+7s5Nzet72fnx+/uyHcpVQ+DJruKHog/tzAW6NVbSyelo/saDONaS5mlUGXogRaB0DKFCKGhhsrFnsbryKPqSgGg3E3iN9++20+2GzKysq2b9+enp6OsIODw/Tp02fOmDlg4IDBgwd3i+hmZW2dm5tDb3VkZWV1Cg0NjwhHSmJYYRSMdgHGDg4TFSGdVmuy+LAO/BVF7paYUqnUarUoypQAYaFIYGtj07lz59GjR48YMSIiIsLewZ7faTyKWkVuriAG2WOPxB47dgxhFxeXYcOGBwYGEPNCD2KsD2JgVnQ6vfEaJ1eUCSpmQoGyWqnVaDUajUTKFa7ha56Xm7f/r/2paakIB3QMmDJlCgSSZKwHjmu0XegiehsMJfOtM5k1mszY4lpMCTiIqpE/3AZqDT3Q6oVCoUaFKmrJxVsukuwUCdEPyholsojFxou6dUtrChSIwcK4YAaAhpP7VWYZUeaOHdujo6MRxkxiyZIlzz373MCBA2xtbWmC+mD6ICQGXq3EEKnEQjGZTxhHgR8+E0jI9RLt7fp7AWpSLwYRXPmIp3dYeTCCZmJDTy2UjJ4nVWgI4qhKIWAQ1NTUCAWY7hhQOH9P1IDzFmeujt9uWBNjbTVqrUqpwgZqhBOszgVzBoNxhwjrTHubR0Z6xqxZs44eO4qwf3v/r9esGT1mFN0FHUpLS5s795mTJ0/AH1Kr1YsXv/jZ55/RvfigFhQUpKSkZGVm5eXlIcLD0yMkOCQwMNDcQMOgQBFv3LyBNCUlJbAStja2HTp2DA4OcnVzRSGwHfn5+SnJKZhKW1hIfXx8SDxHdVV1UlJSbk4ussMDw6zf28fnp59+XLFiBfKFhoR+tuqzYcOHXYu/lpuXi6LgHkL8LK0sqdFJTU7NyMjQ6XVyubxjx47OLs602OKi4mSOoqKiqqpqKytLV1c3Ly9P4NveFwkuX7y8eMnimCMxCI8eOXrzls22iiasNqdwiYlJ6elphYWFMJ2Ojo5ubm7+/v5BQUFUEoqKiq9fT6ipUUqlksCAQHcPd2r+YHZPHD9Ro1TC0kKAO4d1riivuHbtWnlZuVgi8fT0gE6jb6Gd5eXl8EQDgwKDg4MlEmlc3JUrV+JKS0osrazQXZ06hXp6eXJ1uRUoHKOZk5ODrsYUw8Pdw8bWplevXg6ODtgL0U1OSr4af3XdunV79u5BTDuvdh9//LGvry+6FB3LlWGE617Uv6iwKDklGcXiTKisrHJ0dHBycgoNDUXzpRZSlEmcY4683PwULiX63NHB0b+Df0hIyPXrN8pKS2H3MbLIUlRcdOPGDYwIlNjPr317v/Y0L06DC+cvQGlQGjoqLCyMHr2qqiozM/PG9RvIiLmXTqdzdnaGs+7p4RkUHCyWiPQ6Q1paanpaOvQI49KhQwfUMy4uLjU1DaMzdMgQHAhnHSqGf1nZWRUVlXZ2Cm9vdGknN3f+JKSUlZYlYZQz0nEaoz7WNtaurq7ofAyojaL2UiqDwbgz8Lm9U1JTUgcOGEizd/TvuHfPXhKr5fZxzHnyKZmFjM6fF8xfQCOhZ+fOnnvtldd69ejl7uZua21rp7D3cPMYM3osSlCrNMZk2kMHD8F16+Dfwd7OwVJuZWNtA5sV1rnL/HnzUQIOhIn/zz/9EgSTHBA4aNCgHdt20LxlJWUbf984dsw4X29f6Jy9wh6FPP3U049OfpRWBqL11/6/iguLX3/t9dDg0PY+7YcPGx53OY5kJsVqfvn51/Cu4WjUww8/vHvXbq5UXdyVuDffeLNv776ohrWVjYVUZmNl4+7q3qtn77fffDvxZiLSwEQ+POhhrksEo0aMKi0ppXnrAQfoyqUrOHr3bt1dXVzRNAupBfoBRnP8I+M3b9pcVVmFZEdijgwaOMjfzz84KPiXn3+Be0ezo+ER4RH+fh0CA4IWzCMdez3h+mMzHkMMmrbohUXLX1qOku0UdgpbhZOjM6q0aePm7du2Dxs63NnJGfFODk5wBBcueP7K5Su0zKZIvJH4yccrBw4Y5OPto7BRoOEoATOMZUuXQTi1am1BfsErL7/i69MerRCRSYdQKpGi5708vQ78daD2fECAH1sd1OLdd97t07uvq4sbRhZtR16cDJD53375raK8kiTWklMF1Vu+bHlE1wj0DL3y3KN7j69Wf4UWtff1gxa/9eZbJcUlB/86OPjhwT7tfEJDOq3+cnV5aTk9Frpl6OCh3u18UOGli5dizoHIgrwCjC/6GeKKFlnKMVexwnkC/Zvy6JR9e/YhDUr4/LPPO4V2aufljUgcEe9enu2s5FazZ81Gq1HU1i1bJ4yfgD7HOWxtZY2i0Pn/fv2NG9dvamlLtbrc7NwPP/iwf9/+qD8OgezoQJztI4aNWL9ufVEhqQ+DwWgBdytagR0DIQP8Dg58qmG1JWIJ1YmVn6xEpFqpPnvm7JTJUyAkNKNMKkMaBMQicVjnMBgCauZg0yc8MoGuS4RFg0HxdPcUi5AS02vRtKnT4EXB9H++6nPu8o8QwgOzjoyIhGJ17hRGbilxwFIgi1QshbU1idb+ffvzcvKemfsMLCxiIHunTp4mB9bqoA2orVwmRzws9cYNGxGNSfdTc552sHekJbg4u0BLTK1AyciCefSli5ebI1rwsZYvexnih2SogHc7b28vb0uZJTZh9yHMOyN3Itm+vfvQahoJW2wSLWWNElYS8eifyZMmIwbG3bQABPZRYWsnIX3Fg+xoIAw3v20EgvHG6280VUmQlpq2+MXFzk4ufAautjSA/hn88JCY6Bh4QvOfmw+LjA7nRIuAPsd8Zdefu+hoEjgdAoX5he+/+74LVyY6E1oFeaO9DYIDgyGu1OjDD5779FxbGwXdhUNjooAAugs1RwDnw7zn5kE1t/2xzc+X3D9DmrfeeAvnHk4DlHDpwiXMPBAvEUsfn/k4uh0zkt9+/S0kKIRWFX2OIUYFcIbQ7EMGD0m8mYQJzauvvIomIBL9id5DCQiDCeMnQk3XfLWmY4cAGgO4M5OACRZOquTEZDr9WvHhCpy9aCZK9nD39PUhsygkQwyGA7MTWk8Gg3Gn8LamxZRXlJ88eTLqQBSkC6Y2cnvkihUrzp0/r9VpDQKDX3s/uDJIVlhUuHnz5r379paWl7o4u06fNuPV1159/vnnITk6ve5K3JVPV34KQ4mU586f+/v434iE/X388cdXr169atWqqVOnSCUSvUG/c+fO6OhocleAKEgdrl69+usvv16Lj1dr1DCj8LdeefUVOB+BQUE4Op/olpB7IZw0IgxVwD+9Tv/333//tX9/SWkxmtOnd5+PPlrxzTffvLTsJZg8JEPJx44ey8rKkphuFN2SjIyMU6dOFpcUI9y7V2/01eqvvlq8hMiDXqC/End5x45IuFMkKddA7lIoqRnZ4JYASKEQUGKJtPbWlJHsnGwPd/e5sJ1zn/HxJhctUeaNmzcSEq4P6Dfg+YUvwMmgclujrI45EpOKDm/s2nBlRRW8TEwjCosK0NHdu/VY8uISOFVjRo/FXqVKeeTIkR9++L/ioqLJj05evnx5REQEDoRdGNkFCxe89dbbwcHBXEnkLhRpAHf/Bm3H2BUUFSCMSQ/a/sUXX7zx7zfgcSIm4UbCli1bKisroVuHDx/es2dPRWU5Wto1rOuCBQtffnk5TiSolFJZg8RibnjIC3DfCcNfsiUS83eMuK7j/nCHNwhyc3Nwfl67fg1VxVRj3rx5OK8+++yzhx56SCQUa7XauLg4nMmkDJFIIpGi4Xl5+Tdv3pRIxPDXu3bpGhIScvz48S++/DIx6Sb6v1tE9yWLlyxfvmzMqDFwBEvLSjZt2rRn716tRoNJzOYtmyurKnFGBQQEvvvuO198/sWLL74IvxlVuZZw7cCBA8XF5BxgMBh3Su2svGWUFJesW7duw4bf9TDwegM+sQWFBbBrmM92De/68ssvdwnvAoMWfzV+165d1TXVmG9OnzZt0b8WtWvnrdGovb2933rrLTgQ5y+c371n94IFC7KzsguLilCySCS0trYOCwvzbe8bEBjg5ORUXl6uVqvp8grzm+owVdiExbl0+RKEDTHjx0/48MMPPD09NRrNwIEDl760FBaTJr4FsHdUtbgwNkTQj6qq6pDQEB8fH7mVfMG8BVOmTcFeTPkh0ukZZClKaVlpRUWFzOgx3AJUMi8vr7CQtA7AOPr5+YV3De/fv7+dnd3ly5dh4wIDA6qra/TA+DARTrVMjcUWWeFC/9XD1cVt4cKFU6ZOkcvlDvYOn372KSwv0gUHB7319lu9e/eOj49HHWAxVRoVd6+oEHsb6n96etr+v/Zn52YjDLfglVdeRh/a2NhAm1EBzDz0Bt2hQ1GPjBs3bca00NDQxMTEU6dPIbGTo+OTTzwZGBRIxogrlZsA8OVD4PPyyY1MgPbBhw6PiBg3dhw6PO5KHHqjQ8cOGIDMjAyIIrnjKBDAqV22fNmIESPg+mRlZ2EKcjjmMOLJYgggxhgRuBgSYVIswPWbqasM1dXVVtZWvXv1kUolffr0wYQJ5x7SQKtiYmJQCBJkZWVCtJBPr9MhC8bAxcVlxvQZw0cMV9gqEF7x8Yqk5EQUCxl76803Bz00COkTEhLef/999GpVddXmzZsenTwZAapJOBu1Wg00cujQoeh/nEWQPRwoICCATE1Qwfp9z2AwbgNZENUyaH6Yv4zMjJuJN5KSk1JSkzOyMqBYiMduJ0cnTGORUqVWwVxmZZK171aWVlqd7mjs0f/8Z2tk5E6dVoePPUwGkh08eBCun4Ojg601uU1dXl7x+++/P/PMMy8tfen0qdOjRo5aunTpl198OWzoMK1GKzGuuQcwVZCW1JTUyopK2BocF7oICyiXWyrsFLA4UAWaEnspdNMEF8XbOGrEEaHTaTGLHzVy5Ndff/3V11+98fobQcHB58+dj9wR+e13391MvElTwv5CCcj6aq4ECimwAUju6OhoKefl7cLFC4sWLXp67tP/98MP8NtgRqHfzz03T8Gt4IAJxjvKhOkkleMghyILrrkNWmvuWKQ4CExI8MODB7u5u9nZ2/Xs1RNdjTTwCXr16gVnyNrGOjS0U3hEuNySVACmEzOA2h4xA8qamERMMxgyZMiAAQNcXF0srSw7BnScPWu2pZxczCwtLUu4fh2JbW1tTZf4UA8IA1npR9bdGSGdQ8B8xU7Br86AP71k6dLnnntu9VerPdw9nn/h+fc/eP9fi/6FaUpmVmZSUhJN1qt3L5xCTs5ONgqboOCgSZMnmY5F9QnF8pt0wwi20FHcHgJiIFEvvfTS2rXfr/hoxfTp06uqqmKiY7766iv47ugD/EOHa7XQKpKcTn3AmDFjXli0aPTo0f0H9vfz94uNjaXxMrksPT09MjJy27ZtZ06fIT3JcS3+WsL1BEywFAr+2iYmB/9+89/PPPvM2v/7AZOJJ5544p133n1qzlM4z2lVGQzGHXG3lwet5FadO3UeOmTYyOEjBz88uEtYFxtOcjBbjTp86JNPPoGbBXcnNS2tRknErKCwcNOmTa+9/vpysGzZqlWrKiordAYdzER2djYqNGjgIMyskRLTeUzMo6Ojf/rxpw8+/AC2A592uFM2tjYQOXOTBPGADUJiqCM2XV1d/Tv4I0CdEsz6AzrW3oS4BVyxRAzIBqcQEFRoACbFUVFRX67+8onZsydOnPj000//sHatyWm4IzDFHj1mNLXdaDj8yz/++OPjTz6GL4j+2Bm5U61WwRyjHzgzTCBhDrKcnYaaAK6AkxO5WwZgH6nsoVn29vb0e3USsRgeIb3+SUaI++5RQ+A4FhcRR0EilkIq6B042ivQLTdXN7Kl18MvwSyBHMVUCOm02nHhoXsNgsCgoAkTJ0CisFWjrLl46cIff/zngw8+ePPNNzEd2bxpM5nuCAX5efkFBeQSIkS3Y8eO8PBIdq7Ubt26wSVFgPQJP0rkRWMoZIMbSmM8vwsyA329cvnK+h/XY64wadKkWbNnv/HGG1firuD80RPnqn7NMcPo16+/j483bQKcdVoxEH81/p1334EKAnixR48eVWuIbuFUz8nJwVRp/vz5Cu6eHM7Ja9cSduyI/GzVquXLlqOlv/76S1l5GXnU2a2Hk8FgNEYLPS0+N2coX3/t9R07dmzevHnr1q1btmx58cUX7e3oOgXDli1br9+4DgtSU1MNjwFRkKKKivLKiorqqurqmhoomY2VDV7WVtaY50InAoMDIVGfrPgEQujs5AybU1ZRlpObk5ae+uefO5+eO/fPnX9ys2zOHHEWCYYSXhEg3g53ewMgHsYI73DLTF+FhqUjGTj4CDNwdEyZNWoN4rl7McRHiI09umDhgnfeeWf3nt2X4y5DWaEH3bp38/XxRWG0ECgu2kjDgCusMfQG2Fy4F3DcHp/5uF97P4lYotPrKqsq4dycOHHigw8/fO+994oKi4jpN/Yxn5P7h5RmkTw0BlhZWVtYWPCxxniRSIjmQ7lNkaZq05iG0LudSIA2QTnIvT36WBMDUXFskrwCAww0+pyEzDqTvjeKrcLm2Wef/eqrr5+Y/URgQKBYJEHWquqqrJys8+fPv/3O26+++mphQSH5ipmWHB3HkslkdCgNZCTh1SnE3OIdHBS9QWYYZIyI2NAakEQcGEWj90PkHzGZGVkrV65cvHjxz7/8fPLUSTjKKpXK39+/Z4+etENQHimAK5QqLaZHrq4u5OIzB85YeruRiJxBD+ce5y8FMfxKQoUCvWLQGTDK69ave+7Z50KCQ9D7Wp0GLS0sKrx46eKnn3760YqP0tPSSd0ZDMYdcreeFj7BVtawbHIbhY29gz1m4i+9tKx9e/7rMqUlJXFxcTCamJ7Te1G+vr4rVqw4dOhQzJGYmBj4UdEIHIw6CFfml59/trCQwi54e3u/sOiFn3/+6eDBgxs3bHxi1hOeHl4WErImsKS0+PeNG2uqyN14CgwMjA5q4OToRL/PW1ZWRu8bkfbpDVA4SAKXlgD7wlmkRkBqutANYSQRCkVwODAvPnHyBAyprY1i1uOzjx8/fuDAge+//75vn740F+BsdROFmoHqoK4enh4zH5v56apPob6RkTtffeVV2DVi+QWG8ooyaGR8fDy5BGcqj+wjtlQsEZeXl/NxHDRsAjXnvsRaB7QCdp8u1DQHKkuEtrFaW1pa0a8Gw/nIz8/H5ALKSvRJIICglpSUIAAHy93NXaGww0FrS7lFHwjhyxjkMvmECeO/+OKLbdu279275+233ukU2gk7tWTtpyYm5gjOFid4i47Et1MqVfn5BeatzMzIqK6uQoD0I6F+D5ioIYJSjQDqhh7A//j4q5GRkUUlRRKRBEK1ft36/fv3YbI1b948moUu6DBCSiYLXLmTlh7Hx9eHXllFfw4ZMiQ29giIBUfIv8M4lQ9H7923d/ToUWTVplg0afKkFR+twCH++uvAqpWr+vftL7OQQQLRmX/t/yshIQHnGimXwWDcCXctWg3AhDosLIxeg4KxSEtLk0glgYGB9Cp/RXkFNKxn757hEeHcqys++L/++uuG3zacOHkSlubLL1f369vvoYceWvP1GlcX16nTp67/af2GDb95+3hTU1VYUFBQWEAMrhEYdEsrS3cPd+6GhzArKwtyiHihWIgXJu+mWxEAhcB2QBWk3Aqx9PT0JOP9m9LS0jOnz+gMxJQgGUxdRUVFRkYmNvUCfUhI8A8/rO3Rs0dop1AIZGYWiQeoCdyP5qweVCqVcEbHjB7bs2fP+fPnSy2kI0eNePfdd0+ePDXlUbK+AxQWFuTn5WOXpSW5dQQuXrpUVVkl4p7aAJ2rqqpC33KTdLrfHE4V64JsaCY8A34biczWsDSKg729szNZmA63OOrQIUgFRpA+k+Lw4cMlpUS04ANBfTHI5iXfmgMH/ho/YULv3r2ffeZZuNpDhg55481/nz17buKEiTRBVVVlWnqah4enG/dVcY1WfebMafMVNPv37y8tK0UALUL7IZxkusTd5VKqaq5du2bS7LirV5FSIpbS8wReF8rJy80TC8UKO8WyZctmzZoFd9nP3y8lJYVmod1Cxp2DRNFTjOtBACHv4N8BAUgszkE3NzeUENEtIrxbOLzzbdv+WLt27aZNmzDKh6MOPzTood69ek9+dDLOxoGDBry45MVt27dBIOn3MYqLi0tLShu5lMpgMG5HSy4P8lk5uG0u1gy4UzCsUomFSq2uqKxATJeu5B/SF5cU47O9+svVR2KO7Nm95/mFL7z88vLvvv/um+++EYmEcrkcztnluMtnz53d+p+tf+76E1N7tVKdnpauogvBuYdoABgjMomm5sRggEnt27cv93AKGB/9l19++cF7H8REx2BKu2z5MhTIZSXAe4BDBqcQLgJqrlKr4Db9sfWP/fv2Qz9ijx6lyYTk4iKxVvC9aAy8LrL6zmDIysha9+P6ixcv0aOj/bBZcBRMOooA1w31geGH1ly/nnDx0kXY37Xfr83KzELinOzsykpy3U8qlpJnbHh6WllZOTo60fIPHYr6es3Xe/fs/XHdj2u+WYPWobFcefzVJe6YBG6Di+LgI8mDkNDW2ktRVGYajpoJr3ZefXr3pub16NHYT1au3Ld33/Fjxz/68CPUBJGoWEBAQP/+/ZGYOqYmaAmNgpTQlQsXL+zevfvnX35OvJmIkc3OztaQn5gRwBdU2Cq6hHXB8HbsSL5iBS6cv/D+e+/t27Pv5ImT77333s+//ELjKeg6hZ2d8ckjwuiYmG++/ebggah1P6z7nHsIC1SB+E/c0ZGYXOcky/m0iYmJpaVlJcWle3fv3bRxE5edw0Ae+gXlMzWK5DS7iPfU00/Rbrl+/TqUD8f6+9jfa79b++LixR9/8jFmVyeOn8DYyeSymzdunr9wHh7YmjVrrsVfQyFlZeXk9i0nVHBS7e3t0QC+XAaD0Wxa39MCEBUyMSfl6zG9RYx3O+/HHn/M08MTYnb9xvU333hz9hOz58yZ88P/rYVJFYvEI0eMnDRxEsxhv379/P3IMoqU1JT333//sccemzJ1ytvvvJ2ZRWbcmFYPGjgIhcO4ELNL7kToMPOFuQnrHDZ8+HBHByckq6yqfPf9d59+6uknZj+xfcd2xJjQ6jQQrYiIiHbt2tGYo8eOzps/b86Tc6CmZMUg971mlIl/NjY2HTp0oHYKU/IZ02dMnTJ12vRpX3z+RWVVBY6O+OrqKphCmoZCDVNDJFJx1y5dOncOQ1itUX+/9vsZhJnTZ0zf/9d+RGKC36VLl/Z+7V1dXTt1CqU1yc3L/eijFeir+Qvmp6WmwbjDb4Dn18x5ulZLLnnSG4oUmpHG05h6YFowfcaMfv36k2Np1L9t+HXu3LmzZs/CKJDvHgmE7u7uTz7xZNdwMgupB4acDzUA3nbfvn3QUWqtev269dOnTccp8eijk/fu3Usup4nF8Ly9vLwU9opxY8dFhEcgS42qZusfW5+e+/TMGTNXfLSivKKMCjmBW+/n7d2uc+fOKBPxefm5K1eufOKJ2QufX5icnIIzDZ4iubWlUaMhLq4ujo6OGLLyivLVq1fPnDnjsZkzZ82enZyajL3IjmlHVXUVKYouhDFSGxIKZs6cOXToUAThTv2x7Q8c6/HHHl+6dOmZs6cRidP7uXnPkaWbPXr26t2LyyOIjIzEGE+YMOHxxx/bsmWLWkN8wZ69eoaEhuJ8oGkYDEbzEb/xxht8sNlUVlTu27cvIz1DIpG4urqNHjmKrtYzgQT/+c8fmN8jgbOzMz6xciu5j7ePncIuk1tyBkuCd8gCLIudnd1DDz0EfaIP8YPZwlw1jbhWqsKiQkgX5sVlZWUWEgsnJ6ennnpqwYIFMqns9JnTcKREIrGTo+NDDz8EJbCQSQMDApUqZVZWtkpJHiEB8wRj5OPj0y2iW35+Psyiu7vHkCFDO3TsgHluaVlpSnIKrA/SIBf+hYSGDBgwoKioqKa6xs3N7eGHH4bptLSySklJLsgvgOEvKi7EFDsrO8vPz8/DzaO0tBSKq1AoBg8ebGtrC+cpIyMT9i4gIHDy5EmNPjDXwd7BydmpsKCopLgY3hV641rCtby8PNhNtG7AwAHLly3vENAB2oyuS05JhqPJeUl6VM/BwWHatGnloKwcCYJDgic/Ohn+3+How1lZWZCi7t27w6TS3/FC0yAGGpXG0lLep08ftAtKjzQXLpw/c/YMSrO3sx8/YTwkmVasHs5OTlCmkpISVAB+JLQKh5WSJ1NYBAcFL1ywEBomk5HHRqhV6tjY2Li4OJFQDB8Rom56eHE97BX28DDolTFljTInLwedSb+PhZOkR48eb731FoYGm0iG5mekZaCHsQktwVBCyLt164YzAUMFOY/oFjF82HAonE6rxwBh1DCO6CrMIdC0R6c8KpVaZOdko8KYzYwZO8bD3aOiouLGjZtqlQrNwXmF7lXY2oaHhxcWFBKVEgqCgoIGDhx44uSJ8+cvYDaEU3HEiBHkBq1RKOWWcmgk+h+nk1KpwrHKK8txDljKLf3a+y1dsnTipInoFrh0Pbr3SE7GaVOo1xvQRpzDqIxBZ7C3d+jff8DixS+iHL5QBoNxJwihDXyw2ZBH/G3aePPGTUx1nV1cHp08OSCozppyWLovv/iyuqYamuTq5gp3x82DrJNWqzRnTp+OjonOyMgg9/MNAmcXZ/gWjzzyiFc7L5oXaDXa48ePR0dHJycloxA4BDAWMDo9e/WayOmfQW+Ae7Trz12wNS7OLiNHjaQPkgelJWWY2166dBGyZ2lp6ebmOmjQIGcn5127yYOFYPjGjh3bqTO5+V9SXLLlP1sunLuQk5sD0+bn7wft8fb23rEjEnVDytGjRqFYGPqTJ0/u3r0bnpZGo7G2toFBH/fIOMQfOHAABtTBzmHcuHGo/84//0xOSoIHExoaOhs23fjzzQ1JvJl08MCBS5cvwfYJhUIi7U7OYV3CIDkB9An0BuKunTh+fOefO5OSkuEnwY6HhYXBydu0aXNqSopEKg0L6wxvFfoXGbkjISEB49i/f3/MD8jDfwWChGsJP/30s0qllEqlw8DQYfQnpI/GHj148GBVVRUmEPDwgoKDuBo1TmpK6v6//rqekABZRduh9FAyDFavnr2IHedMeVVlFWYwJ06cRKW9PL2eepp8A4k0wWjo62AQJCUmHTp86GrcVcxIYPctLKRwZ7t27Tps2PDgkCCaEeMLVTt56mRUVFTizUSVWo1xHDJkCCowe/YTZeWlmMHMfWbuxys+xsmg0+iOnziOAbp58yYUwt3dDaWNf2T8nr17rsZfhdBCyyeMnwAth5+6b/++06dOV1RWQPbsHRx69OgOx33D779XVVaKJWKcimPGjDl75uzhw4eVKhXcuPHjJwQE8tcqTZSXlu/YsePylcuFhUWYeVhZWmISg+r16tXLyqb2lz9zsnN27tx55coVCKpWy83P7O1CQ0KHDR8WGtqJfHndeHmbwWA0n5aIFqEpq3QLuMt59DtCmJ4XFhbqdXonZ2dLKzl24VMN212vTFiH6upq2CwrK0snR6db/aZ+A7IysywsLBrJRWturD8OkV9QYG1l5eFFvj/UOAaBSqUuryhTK9XWNjb2Dvw3ZFsAzDHeuSX7xB+F3wCFhk8G0ZLK+HX56BZiz7g06CgoKBxT+GHEhdI3Y+lMY0NDbmMZDI3/BsftgCpgsGqUNVAsunyOHAI0VRgZaHIPqckE3Oo++p0HiUQM+aS2HpWEPJuv4tPrDLm5Oeg0uKc49LHYY1OnTS0uKaai9dGHH5E+4Y6CbszNzdNqNR4enjK5BfqQLs3nwSRAx5cMPw+aDdcWHiGZWDTWXbcAVaKLYuA2FRUXoRWoA0aHjlfD0jCCGGV8ynA22toqyNnOYDDugpaLFkwJDBP+4h0zXGKj6OeWQ6/Vm9SCpMQufJ7pR7rupxqRMDEoR0wX4HETbWLwGqbkgNUgx6I2sRn2kUJry4U4u8/VxGSASDRNQLcamJ6mqM2FLJRbZkR6pOTFo+FRaAzXKEDWsDVMQNOQyuvrJzAv0CRvXICuvTAfoDqJm4l5lqbCxodMkW5pSl8blV4UApqoEhQCnXbs6LFp06ZBKqhorfhohaU1v8bSHNIzmByZHaL2nAFNHAKOOHI1OTRGzE/s29B0IQwGo8W05J4WDz6Q9EWMLPdlWNNHlDO7jX5oyR1umoUz3zQAS1ErGLBoxlzE5zBwishHkPTcOgKj/SW2mIMrqs4Lbzpyo6LOXhpGJPflYRyUHIKzZaTC+EvT1MOUt2k4VTByi8Tm9WkUGm++lwuT7gI0OwcMMR8C5ukpppQ0gHezvEhP5xnNBeXTV1OY7SU9eWtwXHoCULi/tZtNk52VQ9aUc88JozfwyHofE9yYonD6z5xGWoqjGc80ep7UKjp24UW3GlSqjvDfAlqIqRwGg9FKNG/OeGswpRYbp6hGiAqZPt6mPTANCBPRIUE+DlFcDHk32hH6gSfzZVQRCeheLlJMv0PDhXlouN6LlswFKJxImv5zFTAeorYC9J2+EDZFmuLNofHcq9Ys0vS3BelNWRqj1u5yf0ln0ghjtFhC7orwG8a/zUfUTOPbTMwK4wb5doUjRd0W1W42CrfL3t5u1KiRw4YOHzlyZCdyW8h49tLR4Urlto0jZTZA/ItGmsaIi+TPE5qF7kIx3C4Cfb9LWqUQBoOBT6eSeyRg60M/+Q0x2YK7gDhJ1Obeoihqd4wBLog3slHfOtIE9DKjOXSr3iHqJuH3mkfSmLuZDKAEU7H1DkfBXvO6NZrm1rQgI63VLdpFywSmwN10QmOoalS5eblwteGWKewUTk7OZMrBVYwfYbSJG0TicdVrHfabx5ht0qGnWaibWOdMqFdO86E1QnZTgMFg3DXCmpraRyK1JvVshAnE08/wXdBU2XdDK5d5l/ba1EVN9aEpvmX1bkEuWqVb5KJl0mSUFlTsjqDHosdt62O1DFo38wCDwbg7WnsybKItP6JtUfb9ZVJQG/pqFPP4ltW7BbluUR8K3UuT3TZxi4H1N2kVpe2OdfeYKnbf1pDBeNAgv33HB+8NJqPz302bTQYYdaDnEpMEBuN/BmZcGQwGg/HAwESL8SBzP18bZDAYbQD5zV8+eG9glwcZDAaD0VKYcWUwGAzGAwMTLQaDwWA8MAjpzw/eO/4Xrg0CdqOFwWAw2oB7LloMBoPBYLQUdnmQwWAwGA8MwoqKCj7IYDAYDMb9DfO0GAwGg/HAICwvL+eDDAaDwWDc3zBPi8FgMBgPDEy0GAwGg/HAICwrK+ODDAaDwWDc3zBPi8FgMBgPDEy0GAwG495iEAj0fJBxpzDRYjAYjHuLkJneliMsLS3lgwwGg8G4LaYHqJoeMXqHj1Q16A0GgUEkZsLVElivMRgMxp1Af3rU/KHYppjmvCj/I48ObwOEJSUlfJDBYDAYzUZZoywsLNRoNCKRmI+6NQaC3qAH1tY2ri4uYmnzMjLMYKLFYDAYLSEzI/OXn385EntEq9UKhdSHEnKqRK7+8f/qQpMhQfce3V977TUXVxcafx+BKpvcwRZDCzEVRbvh7ovlYKLFYDAYLUGlUu2M3Pnpp58mJiXyUQKBh5uHlbUVVIv4VbDWnOFGUKvV1dRUl5aU6gw6JOvft//atWu92nm1lilvHVpVXQh67h5U64pWcXExH2QwGIx/BM6y3zEmU9jqprbZlJWU/fDDD+t+XFdQUEBjJk6YOGPGTJnMgm6a0Gl1efl5Z06fiToUlZmVOaDfgO/XrvX08uB3mzB1Rcv65J9GryNr+TMzM9Vqtbubu42tTasPkPiVV17hgwwGg/FP0UyL1tCU3zpjKxnKppBbyj09PTMyMpISk4hnRRCOH//IgIED2tfFz98vLCwsPDwc1vzSxUuubm4TJoy3tbXlshjNOgV1blUr30JQh4a93ZC6adQq9a+//rpl85bomOi0tDR3d3dHR0d+Xys1R/zyyy/zQQaDwbg3mNtobOnJCoX6Ro0azXqYx5jCCNC8jaZv9HX3GAuxd7B3dHC8nnA9OzvbIDAUFhXm5OT06dNHYaegCdA6U9OsbaydnZ1PnDwpk1pMmjTJytqK3wFQoHkPtFY9WwatDF60Grf4KnTdSh44cPDQoaig4GCtVhO5I1IsEfft009oukLYGjBPi8Fg3BNMZotaQ3Ng1UX1oghEyvQGsnjBtNM8FblXRBKR3TQe7/VeFHpo06YpcJcYy3F39xAJRefPX6iqrsJmVlaWXqcfMGAATDbMfW31OBS2iqSkpJKSkrFjx9rY2PCxoF6tsIkXal4vvk0xjpFGoy0sKFApVZBVvV7Pj06jNakbuWf37ukzZgwfOiwoKOjMmbMV5RWDHhpkZWXViq1gosVgMO4tRvsFyw7vpLqy2tbGlkYqa5SQKJGI//4ozCWx+9hlEOTm5hYWFsHiUwOqrFFBJ0RiCFfjgseDPQ1frYJZOWKxOKBjQEF+/tWrV3U6PXQ0KTnJycm5a9cuDY8okUjy8vJu3LgxfNhwhULRsD6VFVWVlVWWlpb8rgYJmkU9nb4tcBIxQ4BTyOU8c+bMd999FxcX5+7u7uLiUn/qwElpSXFJRXmlXCbX6rQatQZRGDoPD3fIlYXMQiwUX7h4QSQWjR49Bpt8xtZAWFRUxAcZDAbjnlBUWLRlyxa4JqWlJVKp1NHR0R3WztVNIpVMnDDRwcmBJOIsY3VV9e7du/fs2VNaWiaRiG1tbT09Pb08vSBYI0YM7xjQEQlrqmsOHDhw4sSJmpoaYjpJZs70kmuOeNPb29uPGjWqd+8+krb8XlRaatqiRYv+Pv43whDU0NDQzz//vHuP7nSvOQX5BUjcOayz3FLOR3GNBelp6Tt2RAYFBQ4dOlRqIeV3gTuVLj2X5U5zcdVITUldufLTI0diMIeYOXPm66+/bmVjVb8aBsHp02eOxMQMGjSoR88eEDToE/obE4jSklJ7B/vszOzX//36sKHDZs2edcfVuCXsnhaDwbinZGdlv/fue7/++iu05/FZjw8ZMlSjUW/fti3qcJSHm0e//v3kct6Ul5eVf/YZLP/nOr1+1qzHxz8y3tZWsX/fvt17dkulkiFDhtjZ2yEZfBcvLy94LWt/WHv0aCw2R48e7ebq5ubuBhmDmCUnJQ8cOLBDxw602DbCzs6uXbt2UVFRnHYK4BcWFxX369fP2tra/LYWsLK28nD3kFhI+G0jcNTWfL0GSjZixAjaNKDT6IRwKAGVjdsCn4kerjlSgTINAp3WeAFQICgtLv3xxx/j46/+61//6tG9R3RMtEgi6twpjNyXMscgcLC3T0lJ2bd/v5ubG1m7b8RCagEN27FjB97nzJkDNwsutdDQnNo0CyZaDAbj3gH7tW3btvXrf3RwsIfGdO/WHYa+R48ecLbOnD4zfPjwnj17iY0P5TsUdWj16i+rqqq+//77cePGQeTCwjqHBIdAh7p07YLE/HUnoUAqtSgvL9u9a3dJacns2bMXLFzQJaxLt27dBg4Y6OLiUlVdhcTOzs5cqW2GUODTzsfG2uZg1EFsQTtycnIkEmmfXr3JRc66NLykmZWZ/c0336g16kUvLPIwWwpf+4jCZpp9TofoS6fVqdVq+K/8rnogDcoUCkRcZTA04Nq1hBs3rk+bNm3UqNGdOoVCkA4eONh/QH9MBQw6cpGQXCfkkMqkfn7+cXFX4OaGBIU4uzjTGqJp0dExZ86cWbhwgZOzEyJJY7kDtQri5cuX80EGg8FoY+A8bd68+fKVS3a2drNmzbJVkLtZsINSiTQ/Px/qRa/4Uf7888/YI7EioeixmY95eHqQlAIhrGdRcbGvr2/vPr35dEAo2Lt3H1CpVUuXLsVeGErO4RAaDAboVmBgILlL1NYIBV26dMnLzbt8+bKFhQVcrsyMDE8vr6CgQD5BE1RXVW/fvj3qYNS8efPCuobxsSbotT5gEqRbgJQ0gYgInkataUq0IEJ8sRzYhNC6ubr27dfXx8dHIhFLLaQYjgEDBsCJFIvF6El6AZCk5qokk8tcXVzR7cXFxZ07d8ZIQZ4vnL+wc+fOF154HkOWn5efmZ6pUNi14tOBmafFYDDuHVCduLi406dOFxUXwbYOHDjQZM5UKlVQUJC5P3Qj4cbxEycqKuFElQ8dOpT4VXALhCKtTufh4eHr68On49i4ceO5s+e8vLzmz59Prq3pBZABhcK2ffv2AR0DoFjERag72YeqGciyiVvBCSWfvjnApnfq1PnE8ePZOdnYLC8vLy0p7dSpk6urK03QKMlJyStWrICyTps+zbSkUKVUlZaUwV3Lzc21tbWF9lRX16SmpJaWlipsFaTfqDg1Wj1EcvFSqbRxkcNeLl4PrdLroVhiqRjvdFVFWloa+tzayhoHhbuWnJKi1+nQh3X0jyvB3t4e1Tv+93E4zV7eXvFx8fOem6dU1mRmZu7YvmP//v0Y0NBOIXyW1oCJFoPBuHfAT4Ltu3jxYl5e3qULlzRaTZcuXeVymaWVZUhwiIODg/mU3NHR8erVuJSUlOs3rqenpoeHh2PKj+l/B39/Xx8ffsrPUVFe+csvPyenJkP2IIRqlfrwocNRh6IG9B+AMpGSJK5NTtBqtAkJCSnJyekcGXVJS0vPysrMzs6xtJTzgtdsFHYKFyeXkydPVlZVQmKzc3K0Wm1ERDdr829lmaHX6WNiYrZu3Tr50Ucffvhh/khCwZnTZ9at+7/33//g999/HzBwAPT4yuUrCxYs2Ltvb7du3eESoVix6Vm95hVEmNusXfXX8MUdVySBQwrpIb+Tgk34qSeOn/j8i89Xrfrs6NHYPn36wEk9cODA4489Hn/16uAhg8kXyyB1QoEOeTkvFq5VUmJSTHQM9Aw+2fbtO4qKihT2ioqKiurqai+vdsOGDiMXCVsPdnmQwWDcQwwCFxdXe3u7+Pj4wuJCWPay8rKwTmHkeT8whkKyAo2aVICZvoenZ1pqalZWVsL1hKSk5M6dOzk5OcE5qOc2wZpv27atsKjQxtqmIL8gKurQ5s2bAgICRo8ebWFB/LOGFBYUrly5cu33a/ft3weHoB579uzeu3dfTEw03CZv73amVfi3R09W6nfo0EFZo7x06TJ0xaDTw90Jj4jw9Gzw0CYOpNywYUNycvK4Rx6BU0KuanLCAOfMz98vMTHxStyV4KDg7j26o3PQb7l5uUOHDPVq50UEXki0h6Q3AzF875gajgT1XlwyBIRi9CX55gCQyqS+Pr5QR8g56hMeHuHv3wFFnTh5orCwcPiIEeh8mpLIITcPgB+Wm5t37NhRjVY7Ytjwvv36TJ02dfwjEyZMHD9p0qT+/fo70okIl6tVYKLFYDDuHdzcXAQ5adeuXeKNxPyCgkuXLmo0mh7de1jILETUJTICY+fr6+PX3h8Ck56WnpicCEHq1asXXBni+cAOGtNGH47eu2cv9O6JJ2aPGDHCxcU5OSl56LChPXv1rDXc5hAbKtTpdX5+fvBaIswJj4BL1y2iW3h4VyhNr549HeyJr0bzNQdoAGru7Ox87OixvPw8N1e3iZMmojJw2vgUdVFWK3/fuBFNg1MSHBJMpABHEwrgxKCQ4qLiQ4cO+Xj7DBlMVkvm5xdUV9fMmDkd/l9pSalSqYIicnfv+MUdKqVaIhFD5i+cv5CZmZmdlZ0Gt7EBcIOgQESuuAoLIH9cdrw7OznfvJmYcO1aUFCgv5+fr58vNAwaOf6R8aYZAJlacOkh51WVlfv27VNr1MOHD7e1IV+kQ3lwZNEJqAlRLBNc3rtEvGzZMj7IYDAYbUZNdU1lZaVEIoFgwJB1DOjYwb/D9evX8/JyMzIyQkJDoGTUqKlV6vLScmLtOHvXzrtdeJeuN27egPHNzMxycXGp9+UnTPYjI3cePRYLC/vKy69EdIvoFNqppLgkMDDQ19eXuj7UOpsjtZAGBgRAAns0AOX36En+Qbro1UU+T3PgXApUCUqza/cueDNjxo555pln3NyauKdlENQoazZv3lxeXj58xPCAwAA+3ggEe+fOPxUKxeRHJ6NbIiN3dO0a3q9f35pq5ZEjRyB1nh6e9FYTp3UE9NuG3zZ8uurTP//cdfRoLBzHgw3Izc2FuqNb1GoNhIc4uEbEYnH81fhjfx+DyzV82HB0e+TOndOmTAs0LichGgmMvQIn7MCBA0KDcMTIEY6OZLkg4KXXnNoj3BXN9nkZDAbjLsDkPTY2trS0zDT1HjBoABwjOAqlpaVXrlwhNo6za9nZ2TFHYjKzsrhUhA4BHZYsWQIPoLqm+uzZs3ws4NLDm0lNTUEAblM7b28E1Go1PJvQ0FBoxs2km3A4SLq6wL27cvkK7H5MTEx0TLT5KyYGsUfw90jsEdSNz9B8hOSJEt+s+aa4pBjSN+fJOd4+pFaNQ1aci6gTRs28XsddHjRiq1DY2SlycnIghFGHoqqrqkePHoV4rVYDNwsdotXp0KX8lVXO9cE7PMbp06fPnj1rGpg6bSp51YHcPOOQySyQkUKOx+Hs7ARPrkaphP+0adMm//Z+gwYNQrxKqTp/7jwkrVayuJ6sqqyCmMikMtPXuVAyHzLRIKJlMNFiMBj3AjhVUILCQv4nPChdu3Z1cXbRaDWQGbLN2TVM7aOjo9PT08iGkZCQEOI2YZavI79HxcOlz0jLSEslieGuWVmTde0SsSQ4JNjZxTk1NfWv/Qforwby/oGRivLKDb9vWPHRik9Xfrpq5aq6r08pX331VWJiInky061BwaayhYLcnNw1a9Zcv3ndz9fvyTlPdg3vyu8C5ik5dFo9vE8PDw90Al5cHPltY1MyhcLWwcGxuLg4Li4OHhK8GU8vT4NekJSUBF3w9/e3trYiT1EyLkYnamEQ9O3Xd/HixS8te+n5F55fvHTxEvJaYv6aMHECmT0gB6SSPBBLpNVqlTVKIpncEhgrK6vysrKoqCgM3IyZM+iPLKtUKujxtYQEHUbBWEP4iDq9DuNobWPNR4FWkqiGMNFiMBhtTkV5RXJy0qkzpy9evKhScvrEkZKSAkVR2NpBvWgM/InUlNRTp07DOJaXldNIkJ6enpObYymz7NWrVz27n5KakpuXa2Nt27VLODYhTiKJSK/VZ2Zkbt6yOTcvx7c91I4YZy45j4VU2q9fv7Hjxo4ZO6b+axzex4575JHRo0dD+eDF8HmaATwhKNbBqIO21rZPPvnk0CFDqYo0icEA0ercqTM0I78gHxHUEyWPAeRy2doq7O3tS4pLVq9e7erqOmzYMERWV1edOnVq9+7dBQWFcK1QAv/UDMDpEPJCSPiYJuAeGEhAcrikKEcul9MvGtvb2UO0IFdbt24dOXJkSAjxWVEmXWMSGBAgoc+E5EDdMOfwcPewtGx8eWTrwu5pMRiMNgfOx47IyLi4K3l5eaWlZRWVFVmZWQcPRK1bt666unratGnTp0+nT2+qrKzcu3ffiRPHc3PziouLqqtr8nJzT5w48d2336Wnpo8YMeKpp56ijziCT1BeXnb50pWNGzdeibsCrXJ2coIEXou/BoO+d8/eX3795czpM0OHDuvbtw9XizpYWFjATekW0a1b926NQWK7dg2Hz0EvuDUOdMVMkGDZUZnvvvsOeoAWPfvcs/YO9rVfDebgv9JrzEUvo4nE4tjYWCtLq169estkMjhSJqHE0aOjDycmJTo6OL7y8iuu7uTeGBTuyBG4rYVDhgxxbfpuWSPX6MwwLaagkGYaKwYR+vvY30mJST169ESHw3/VarQVFRXbt28/duzv7t27ubi6cJkIhw4dunLlypRpU7p0Druz+38tgokWg8FoM6hpFpJ79YWFRX369OnYoWNWVublS5fPnz+fkZFu7+AwZ85Tjz/+mKOTI6w5jGxlZRUSdO7cOSI8HHmuXo0/d+5s4s1EiUQ6bdrUp5562tu7HbHFQnJV6uTJk8ePHy8tK/Vw9/T19dUb9Pn5+ZmZmZBGuGVarS6sc+eJEyfwX1iuZ06F5EtjUjhct3zxpvyWcDeDSOVh6Fd9tgqHHjJ4yGuvvebp5Ul2181OKw+JLS0pTUpKdnJyEonEUokkKyv7Wnx8eNeuHp4eZAEezSYkyyIOHDiQkZ754QcfdO/Rg8pQWWnZ4cOHra2tR48abWlpSVaamNSirhxyIf5vPUwHwTv+QWjJM58k5NvEVVVVkCI7O7tnn302KDAIu1FhqUS6d9++hIRr48aOc3DkHmqsJ0/f/+OPP/z8/CZNnOTobPy9x7ZEiEPyQQaDwWhdYEA5G6pUKeFRyWVysURcU6OEP1RVVWlra2tvZw8raWVlRa+FQSHgrJSVl0mlUplchiyQuuqqKmtrGydnRyu5lVTGPfgcvouImFHYVphazl7DrJrWEhhEQhHsOMpEOcgrlrTtfRDiGIkEUNZXX33t2N9Hfbx9vv322x49e3D7uBR1ZQM1R503bti4Z++e3zf+jhi0+ty5c59/9nlISMiSpUttFbW/swVn8d///vfEiRMXzF8gFJNnUyFvQnzCl6tXQ+Hmzp0LZUVja8XVdAPOdNC6R68FdTPbpdeS7xrT8K6du37b8NuUKVPGPzJeamFBOxBdvXDhQksrq69Wr0ZGWpMtm7dAtDDzGD5smIW8NX+CpCmEOTk5fJDBYDBaHWq1Tba7gQElDhZsMffORzVGrUlFUUTi6n+/+FbUtc5tQWlJ2QcfvA8Fkklln3/5+eTJk2k8vVdkfnRi67maz31qblV11eYtm7lYIgm7du/aunXrpEmTpk6Zeu78uX379jk5Oh04eKBH9x6LlywmP6UoEFL9iD4cs3LlJ+Hh4c8+96y/vz8pEyXiKHjRxt55k/U6w/G//z4YFYXMN27cHDZ06NTp0xQKW7oX1cMEYv78eWPHjH1u/nM08vix47/99lvvPr0feWS8k5PjnR6xZbTtBITBYPyvcztDRq9i1V7dagJ+obxR/G6vWDQlpY2Mqdkh4G38+ecuBOY+M3fSxEnkkYbcSoo6ioX09DaSUBB7JPbCxQtdunRBtFajRQycyLFjxz4287HYo0f/OnDgzJmzv//++6erPu3YseOiRYtsFbZwUqliEf0WC93d3eGWtfNqhxiUyNcFf+jh7rzJWq3m0uVLP/64PjJyZ7eIiLHjxtqa/bAy/Lkrly+XlpTa2NqUlZajDpcvXT4YdXD06NEzZ86EH9yCI7YMYXY2eaojg8FgtBWcsSbArjU0bby5bbadNRX1D8K1SE+WpuslUklM9JE333gjOSVl3Lix3377LdSFT9YEly5eeuedd06dPvX992vHj3+EjwUoVihISkzWEbSHD0e7uDiPGjVKYaeoTcClMRgMKpVKQm7KGZ9gS5d73F23JN5MOnQoytfXt3///jY2NqaZBPEXxaKNv2/85JOVTz/91IwZM9zc3a4nXNdqtYFBQdKmfvqkbWCixWAw2hhqakGjVpXuAs00uKai7g/ir8Z/8P4HsUdjpVKLx2bODAgMlEokMPfQFc4B4u60ISwUwsRXVVWlp6fHxh7NSE+H3pw6dYo+/R0aReSHE6TGQUHcdUVyXRSJGl4ja+1u0WnJN7FwRGgzqieTyRISEk6dOt2nT++g4CA+EQ7L3dniN+4JTLQYDEYbA3tqMqn3jdi0CgX5BZ9//sW2P/6orK7EpsxCjqbC0ENX9ESqyBtNKYJpFwmVKiXdRIJ2Xu2OHT8mlUjhx5Aridzzk5CcU7jatX90kQUEj3+gO5Es8o+8WheDQKPVoGjqvel1Bnh7Uim38oUiJM/2RQzqxl+tBa0tlrdFmGX2rBQGg8Foff5LRau6qnrDbxvWfPNNUXEhH3Un9Ovbb+vWrRAJqlgmlSJdVE8JsIlww2WBwDwNMN91pxiIwwcHC6IFTdJryRNEoJcokrh3RndKo9YijsTfWwfLBFuIwWAwGHcMXJ+TJ09G7txZVl5qIbGwkFrIpDKZBV7yW7zkMjlSWkhlErEkvGs4dcOgW5zr1DR0J97pq164teCeKy+SiKBccP4QQR66zx1Cwz07Q61SE2HTaqFXJg/y3sM8LQaD0cbAvpn8gNa1s/8cNdU1R2KOAOon0XeO27SQPDuRW0M4ccLEvn371nGw/vHOMZA1F/T5T6ghFIzUzkAeOSiTy/gmGr8RV3uF8N4ibPT5xwwGg9FqmOw5+MftcmthECiVSuKC0BaRd5P+3Aa93gAnRi6XSyR11939s53DDZNBb1BrNGgJfEHoFnUB4VaiqnUuY/5zVWWixWAwGAxOtIgu1U4xTBct9fQxUdweIlqI/udEi93TYjAYjLaBk4EHCKNiEVEyv81GhKpeQ/65pgkzMjL4IIPBYDD+Z+F+eQTv5CkedTFfdvGP34RjnhaDwWC0FVqtTq+t/UXH+x2DQK1RV1ZWqlQqrQ5VJ+sIiUqYiRO8sdpLiP9Eu8RLlizhgwwGg8FoLQyCzIysHdu3w8R7eHjwkfcz3Pe0oLLx8VdPnz7t5OQkl8uhXtxXteqoFs9tFQsJ2kDVmKfFYDAYrY/BYNBo1EqVUqslz8N9IIAPJeR+/Gz9+vU//fRTQUEB8au4WHqFUEhpZnvaptVMtBgMBqP1MegNFlKLPr36dOjYgY+6/+GelyiRSKqqqn779bfNmzcL6OPqiZyZ3c1qPm2gW+LFixfzQQaDwWC0EvFX4997/72zZ88O6Deg9jHt9zc6nQ6uVUZGRmxsbH5h/sULFy1kFt26dZNIJXr6YFwqQm1w0a/5ME+LwWAwWh9XN1crK6t2Xu2cXbgf+39AIKssjJqk1Wi/WfPtzz//oqpR6fU6olic41W7EOO2ECfN7NUaMNFiMBiM1qe6ujo9LT0kNFRuKeej7megKORxg9xDMIzoDXqRSLh+/fqt/9lKVsMjFQ+SN0+CUJj5qzVgosVgMBitgcmMc4G01DSdQefr68NF3d8Ya05kRUi+rSWTyQI7Bjo6Ok6dOvWnn37q27cfudFVUaVWqzm5akyxGotrPPLuYPe0GAwGozUwGWgDeVhfZOTOpKSk3r17u7m50V+ouv+BXEGW6LP9xo4bi/esrKzevXtptBqNSg0vzEJqIRaLG1892FCf2kCxwH3jaaF5bdNCBoPBuBeYLDkC3E94wFOBDIjFD4ZiodoioUiv0wd0DJg8ebK/v//QYUNzcnJOHD/h7ORkbWNja2srs5TRFe+N6FZjQtYWCFNSUvhgWwI9uk2LqGLdq2YzGAxGW0Geh2RIT0srLC4MDQm1srbi4+97oFhKjvLycmWNUiQS/bbht/j4+B9++EEul1tZWZEFhKbfogSw2Lcw2m1j1dv88qDJgyIPXNTrBHrySzLktzr5PdxOg8Cg13PS3bjfyWAwGA8AsGewYORd6OBo7+npSX58hHw398Gwa3qDgTwSQ6eTy+QymQxtcXFxEYvFnTp1kkqlFhYWfEM4U80HzDFt0n4wJQOcpa+fvkW0raeFeppUWSzQCXRqgUEiEEoFIp2e6BZtlBgJdWqNWCLl9IwmZzAYDMa9xSDQ6XUG7itZWo22ApRXQMmsra2srckFQlhoXpDw3lCHTGGaxpyGiVuKMDk5mQ+2GdAtWmGKSidQ6wUG7lH3aIK1RGCBWG49JRMtBoPBuC8wCFRKVXlFuUajgWBZyuUWMmKqeRMN803NejPXRTw4omUgC/sFQp1QWFJjiE/KysouqaqGhKsMQsTrRQKNu518wrA+8LbIxUMiWky1GAwG45+AXhnj3Cn6xSy8A6FQKJFIa90sQEUI3HODLUxKSuKDbQH5ajVcTXGxWhBz9vqBE3FlZSqtRiQwqG0VcoFBX1NR0sHV9s2ls8i37ww6gcEoWky5GAwG4x5j8ocQ4L6QRewxjaQeFYniAg2pt+sWKe+OZrp2dwMRrpJq3bELCUmFykK1rExvrbWw6zdoxOCRE2W2rtU6iZZP2VaNZDAYDMbtgQWmRhjvpsteUIl7IBTNpq3rIoSLqRIIiqo0eKmFMq1YrhFJpGKxg7XMyU5u0OsgacabXlwPmXqNwWAwGP8gDa3xLYxz81PeHW0sWkKBSCzBMSykUqlYKNSqDHq1WqtVqaqFWrXQIBCL8Mavf2cwGAzGfyetZ+XF//rXv/hgG8EtFJSIhBCt7PTkqmqlViBWWOi7hHYQSyVX46/IJcKH+nWSQeDIdUQGg8Fg/NfRetb9XlyqlBgEdjLBw92DFz42bsLDPQK8HGVinUGgE5AX+X0xYGxRm7mUDAaDwXjwES9atIgPtiVCg04uFfo4WXcMcCsvURbkZQUEdBRJJdeuXZWLxQ/362RB9Yr5WgwGg/EgAuttbsDbzJi3vacFLRIKDEKRwaCHY6WtERjUVSIDgkygGAwG47+Ie3ClTCD4f1t0qvd561a9AAAAAElFTkSuQmCC)"
      ],
      "metadata": {
        "id": "i_d3Q-HKj7or"
      }
    },
    {
      "cell_type": "code",
      "source": [
        "y_hat= predicted_y(x)"
      ],
      "metadata": {
        "id": "Jsrcy8d4ztMj"
      },
      "execution_count": null,
      "outputs": []
    },
    {
      "cell_type": "code",
      "source": [
        "y_hat"
      ],
      "metadata": {
        "colab": {
          "base_uri": "https://localhost:8080/",
          "height": 424
        },
        "id": "ibcAprSJzvHb",
        "outputId": "e171c92a-4d60-4206-8f4d-82addbc4cddf"
      },
      "execution_count": null,
      "outputs": [
        {
          "output_type": "execute_result",
          "data": {
            "text/plain": [
              "         Weight\n",
              "5000  59.641799\n",
              "5001  64.364577\n",
              "5002  63.128481\n",
              "5003  62.782874\n",
              "5004  62.976746\n",
              "...         ...\n",
              "9995  63.819247\n",
              "9996  67.924599\n",
              "9997  62.819460\n",
              "9998  67.079762\n",
              "9999  61.034009\n",
              "\n",
              "[5000 rows x 1 columns]"
            ],
            "text/html": [
              "\n",
              "  <div id=\"df-efb9825b-bfeb-4852-86e0-b618ccc24e62\">\n",
              "    <div class=\"colab-df-container\">\n",
              "      <div>\n",
              "<style scoped>\n",
              "    .dataframe tbody tr th:only-of-type {\n",
              "        vertical-align: middle;\n",
              "    }\n",
              "\n",
              "    .dataframe tbody tr th {\n",
              "        vertical-align: top;\n",
              "    }\n",
              "\n",
              "    .dataframe thead th {\n",
              "        text-align: right;\n",
              "    }\n",
              "</style>\n",
              "<table border=\"1\" class=\"dataframe\">\n",
              "  <thead>\n",
              "    <tr style=\"text-align: right;\">\n",
              "      <th></th>\n",
              "      <th>Weight</th>\n",
              "    </tr>\n",
              "  </thead>\n",
              "  <tbody>\n",
              "    <tr>\n",
              "      <th>5000</th>\n",
              "      <td>59.641799</td>\n",
              "    </tr>\n",
              "    <tr>\n",
              "      <th>5001</th>\n",
              "      <td>64.364577</td>\n",
              "    </tr>\n",
              "    <tr>\n",
              "      <th>5002</th>\n",
              "      <td>63.128481</td>\n",
              "    </tr>\n",
              "    <tr>\n",
              "      <th>5003</th>\n",
              "      <td>62.782874</td>\n",
              "    </tr>\n",
              "    <tr>\n",
              "      <th>5004</th>\n",
              "      <td>62.976746</td>\n",
              "    </tr>\n",
              "    <tr>\n",
              "      <th>...</th>\n",
              "      <td>...</td>\n",
              "    </tr>\n",
              "    <tr>\n",
              "      <th>9995</th>\n",
              "      <td>63.819247</td>\n",
              "    </tr>\n",
              "    <tr>\n",
              "      <th>9996</th>\n",
              "      <td>67.924599</td>\n",
              "    </tr>\n",
              "    <tr>\n",
              "      <th>9997</th>\n",
              "      <td>62.819460</td>\n",
              "    </tr>\n",
              "    <tr>\n",
              "      <th>9998</th>\n",
              "      <td>67.079762</td>\n",
              "    </tr>\n",
              "    <tr>\n",
              "      <th>9999</th>\n",
              "      <td>61.034009</td>\n",
              "    </tr>\n",
              "  </tbody>\n",
              "</table>\n",
              "<p>5000 rows × 1 columns</p>\n",
              "</div>\n",
              "      <button class=\"colab-df-convert\" onclick=\"convertToInteractive('df-efb9825b-bfeb-4852-86e0-b618ccc24e62')\"\n",
              "              title=\"Convert this dataframe to an interactive table.\"\n",
              "              style=\"display:none;\">\n",
              "        \n",
              "  <svg xmlns=\"http://www.w3.org/2000/svg\" height=\"24px\"viewBox=\"0 0 24 24\"\n",
              "       width=\"24px\">\n",
              "    <path d=\"M0 0h24v24H0V0z\" fill=\"none\"/>\n",
              "    <path d=\"M18.56 5.44l.94 2.06.94-2.06 2.06-.94-2.06-.94-.94-2.06-.94 2.06-2.06.94zm-11 1L8.5 8.5l.94-2.06 2.06-.94-2.06-.94L8.5 2.5l-.94 2.06-2.06.94zm10 10l.94 2.06.94-2.06 2.06-.94-2.06-.94-.94-2.06-.94 2.06-2.06.94z\"/><path d=\"M17.41 7.96l-1.37-1.37c-.4-.4-.92-.59-1.43-.59-.52 0-1.04.2-1.43.59L10.3 9.45l-7.72 7.72c-.78.78-.78 2.05 0 2.83L4 21.41c.39.39.9.59 1.41.59.51 0 1.02-.2 1.41-.59l7.78-7.78 2.81-2.81c.8-.78.8-2.07 0-2.86zM5.41 20L4 18.59l7.72-7.72 1.47 1.35L5.41 20z\"/>\n",
              "  </svg>\n",
              "      </button>\n",
              "      \n",
              "  <style>\n",
              "    .colab-df-container {\n",
              "      display:flex;\n",
              "      flex-wrap:wrap;\n",
              "      gap: 12px;\n",
              "    }\n",
              "\n",
              "    .colab-df-convert {\n",
              "      background-color: #E8F0FE;\n",
              "      border: none;\n",
              "      border-radius: 50%;\n",
              "      cursor: pointer;\n",
              "      display: none;\n",
              "      fill: #1967D2;\n",
              "      height: 32px;\n",
              "      padding: 0 0 0 0;\n",
              "      width: 32px;\n",
              "    }\n",
              "\n",
              "    .colab-df-convert:hover {\n",
              "      background-color: #E2EBFA;\n",
              "      box-shadow: 0px 1px 2px rgba(60, 64, 67, 0.3), 0px 1px 3px 1px rgba(60, 64, 67, 0.15);\n",
              "      fill: #174EA6;\n",
              "    }\n",
              "\n",
              "    [theme=dark] .colab-df-convert {\n",
              "      background-color: #3B4455;\n",
              "      fill: #D2E3FC;\n",
              "    }\n",
              "\n",
              "    [theme=dark] .colab-df-convert:hover {\n",
              "      background-color: #434B5C;\n",
              "      box-shadow: 0px 1px 3px 1px rgba(0, 0, 0, 0.15);\n",
              "      filter: drop-shadow(0px 1px 2px rgba(0, 0, 0, 0.3));\n",
              "      fill: #FFFFFF;\n",
              "    }\n",
              "  </style>\n",
              "\n",
              "      <script>\n",
              "        const buttonEl =\n",
              "          document.querySelector('#df-efb9825b-bfeb-4852-86e0-b618ccc24e62 button.colab-df-convert');\n",
              "        buttonEl.style.display =\n",
              "          google.colab.kernel.accessAllowed ? 'block' : 'none';\n",
              "\n",
              "        async function convertToInteractive(key) {\n",
              "          const element = document.querySelector('#df-efb9825b-bfeb-4852-86e0-b618ccc24e62');\n",
              "          const dataTable =\n",
              "            await google.colab.kernel.invokeFunction('convertToInteractive',\n",
              "                                                     [key], {});\n",
              "          if (!dataTable) return;\n",
              "\n",
              "          const docLinkHtml = 'Like what you see? Visit the ' +\n",
              "            '<a target=\"_blank\" href=https://colab.research.google.com/notebooks/data_table.ipynb>data table notebook</a>'\n",
              "            + ' to learn more about interactive tables.';\n",
              "          element.innerHTML = '';\n",
              "          dataTable['output_type'] = 'display_data';\n",
              "          await google.colab.output.renderOutput(dataTable, element);\n",
              "          const docLink = document.createElement('div');\n",
              "          docLink.innerHTML = docLinkHtml;\n",
              "          element.appendChild(docLink);\n",
              "        }\n",
              "      </script>\n",
              "    </div>\n",
              "  </div>\n",
              "  "
            ]
          },
          "metadata": {},
          "execution_count": 29
        }
      ]
    },
    {
      "cell_type": "code",
      "source": [
        "y_hat=y_hat.rename(columns={'Weight':'Height'})"
      ],
      "metadata": {
        "id": "epu0BzMf0Lx7"
      },
      "execution_count": null,
      "outputs": []
    },
    {
      "cell_type": "code",
      "source": [
        "y_hat"
      ],
      "metadata": {
        "colab": {
          "base_uri": "https://localhost:8080/",
          "height": 424
        },
        "id": "bnDRW6_T0Nuy",
        "outputId": "8fcd275e-571b-4fb7-ccd6-d175941fa728"
      },
      "execution_count": null,
      "outputs": [
        {
          "output_type": "execute_result",
          "data": {
            "text/plain": [
              "         Height\n",
              "5000  59.641799\n",
              "5001  64.364577\n",
              "5002  63.128481\n",
              "5003  62.782874\n",
              "5004  62.976746\n",
              "...         ...\n",
              "9995  63.819247\n",
              "9996  67.924599\n",
              "9997  62.819460\n",
              "9998  67.079762\n",
              "9999  61.034009\n",
              "\n",
              "[5000 rows x 1 columns]"
            ],
            "text/html": [
              "\n",
              "  <div id=\"df-3acf7d18-3ee7-4685-8903-28facca59d6e\">\n",
              "    <div class=\"colab-df-container\">\n",
              "      <div>\n",
              "<style scoped>\n",
              "    .dataframe tbody tr th:only-of-type {\n",
              "        vertical-align: middle;\n",
              "    }\n",
              "\n",
              "    .dataframe tbody tr th {\n",
              "        vertical-align: top;\n",
              "    }\n",
              "\n",
              "    .dataframe thead th {\n",
              "        text-align: right;\n",
              "    }\n",
              "</style>\n",
              "<table border=\"1\" class=\"dataframe\">\n",
              "  <thead>\n",
              "    <tr style=\"text-align: right;\">\n",
              "      <th></th>\n",
              "      <th>Height</th>\n",
              "    </tr>\n",
              "  </thead>\n",
              "  <tbody>\n",
              "    <tr>\n",
              "      <th>5000</th>\n",
              "      <td>59.641799</td>\n",
              "    </tr>\n",
              "    <tr>\n",
              "      <th>5001</th>\n",
              "      <td>64.364577</td>\n",
              "    </tr>\n",
              "    <tr>\n",
              "      <th>5002</th>\n",
              "      <td>63.128481</td>\n",
              "    </tr>\n",
              "    <tr>\n",
              "      <th>5003</th>\n",
              "      <td>62.782874</td>\n",
              "    </tr>\n",
              "    <tr>\n",
              "      <th>5004</th>\n",
              "      <td>62.976746</td>\n",
              "    </tr>\n",
              "    <tr>\n",
              "      <th>...</th>\n",
              "      <td>...</td>\n",
              "    </tr>\n",
              "    <tr>\n",
              "      <th>9995</th>\n",
              "      <td>63.819247</td>\n",
              "    </tr>\n",
              "    <tr>\n",
              "      <th>9996</th>\n",
              "      <td>67.924599</td>\n",
              "    </tr>\n",
              "    <tr>\n",
              "      <th>9997</th>\n",
              "      <td>62.819460</td>\n",
              "    </tr>\n",
              "    <tr>\n",
              "      <th>9998</th>\n",
              "      <td>67.079762</td>\n",
              "    </tr>\n",
              "    <tr>\n",
              "      <th>9999</th>\n",
              "      <td>61.034009</td>\n",
              "    </tr>\n",
              "  </tbody>\n",
              "</table>\n",
              "<p>5000 rows × 1 columns</p>\n",
              "</div>\n",
              "      <button class=\"colab-df-convert\" onclick=\"convertToInteractive('df-3acf7d18-3ee7-4685-8903-28facca59d6e')\"\n",
              "              title=\"Convert this dataframe to an interactive table.\"\n",
              "              style=\"display:none;\">\n",
              "        \n",
              "  <svg xmlns=\"http://www.w3.org/2000/svg\" height=\"24px\"viewBox=\"0 0 24 24\"\n",
              "       width=\"24px\">\n",
              "    <path d=\"M0 0h24v24H0V0z\" fill=\"none\"/>\n",
              "    <path d=\"M18.56 5.44l.94 2.06.94-2.06 2.06-.94-2.06-.94-.94-2.06-.94 2.06-2.06.94zm-11 1L8.5 8.5l.94-2.06 2.06-.94-2.06-.94L8.5 2.5l-.94 2.06-2.06.94zm10 10l.94 2.06.94-2.06 2.06-.94-2.06-.94-.94-2.06-.94 2.06-2.06.94z\"/><path d=\"M17.41 7.96l-1.37-1.37c-.4-.4-.92-.59-1.43-.59-.52 0-1.04.2-1.43.59L10.3 9.45l-7.72 7.72c-.78.78-.78 2.05 0 2.83L4 21.41c.39.39.9.59 1.41.59.51 0 1.02-.2 1.41-.59l7.78-7.78 2.81-2.81c.8-.78.8-2.07 0-2.86zM5.41 20L4 18.59l7.72-7.72 1.47 1.35L5.41 20z\"/>\n",
              "  </svg>\n",
              "      </button>\n",
              "      \n",
              "  <style>\n",
              "    .colab-df-container {\n",
              "      display:flex;\n",
              "      flex-wrap:wrap;\n",
              "      gap: 12px;\n",
              "    }\n",
              "\n",
              "    .colab-df-convert {\n",
              "      background-color: #E8F0FE;\n",
              "      border: none;\n",
              "      border-radius: 50%;\n",
              "      cursor: pointer;\n",
              "      display: none;\n",
              "      fill: #1967D2;\n",
              "      height: 32px;\n",
              "      padding: 0 0 0 0;\n",
              "      width: 32px;\n",
              "    }\n",
              "\n",
              "    .colab-df-convert:hover {\n",
              "      background-color: #E2EBFA;\n",
              "      box-shadow: 0px 1px 2px rgba(60, 64, 67, 0.3), 0px 1px 3px 1px rgba(60, 64, 67, 0.15);\n",
              "      fill: #174EA6;\n",
              "    }\n",
              "\n",
              "    [theme=dark] .colab-df-convert {\n",
              "      background-color: #3B4455;\n",
              "      fill: #D2E3FC;\n",
              "    }\n",
              "\n",
              "    [theme=dark] .colab-df-convert:hover {\n",
              "      background-color: #434B5C;\n",
              "      box-shadow: 0px 1px 3px 1px rgba(0, 0, 0, 0.15);\n",
              "      filter: drop-shadow(0px 1px 2px rgba(0, 0, 0, 0.3));\n",
              "      fill: #FFFFFF;\n",
              "    }\n",
              "  </style>\n",
              "\n",
              "      <script>\n",
              "        const buttonEl =\n",
              "          document.querySelector('#df-3acf7d18-3ee7-4685-8903-28facca59d6e button.colab-df-convert');\n",
              "        buttonEl.style.display =\n",
              "          google.colab.kernel.accessAllowed ? 'block' : 'none';\n",
              "\n",
              "        async function convertToInteractive(key) {\n",
              "          const element = document.querySelector('#df-3acf7d18-3ee7-4685-8903-28facca59d6e');\n",
              "          const dataTable =\n",
              "            await google.colab.kernel.invokeFunction('convertToInteractive',\n",
              "                                                     [key], {});\n",
              "          if (!dataTable) return;\n",
              "\n",
              "          const docLinkHtml = 'Like what you see? Visit the ' +\n",
              "            '<a target=\"_blank\" href=https://colab.research.google.com/notebooks/data_table.ipynb>data table notebook</a>'\n",
              "            + ' to learn more about interactive tables.';\n",
              "          element.innerHTML = '';\n",
              "          dataTable['output_type'] = 'display_data';\n",
              "          await google.colab.output.renderOutput(dataTable, element);\n",
              "          const docLink = document.createElement('div');\n",
              "          docLink.innerHTML = docLinkHtml;\n",
              "          element.appendChild(docLink);\n",
              "        }\n",
              "      </script>\n",
              "    </div>\n",
              "  </div>\n",
              "  "
            ]
          },
          "metadata": {},
          "execution_count": 32
        }
      ]
    },
    {
      "cell_type": "code",
      "source": [
        "SSE=((y-y_hat.Height)**2).sum()"
      ],
      "metadata": {
        "id": "Z3WGLF2w1HKL"
      },
      "execution_count": null,
      "outputs": []
    },
    {
      "cell_type": "code",
      "source": [
        "SSE"
      ],
      "metadata": {
        "colab": {
          "base_uri": "https://localhost:8080/"
        },
        "id": "hVK7R_eN1JOj",
        "outputId": "e8ef852f-1c3a-4289-b5b9-93b311d2c661"
      },
      "execution_count": null,
      "outputs": [
        {
          "output_type": "execute_result",
          "data": {
            "text/plain": [
              "10109.21125056385"
            ]
          },
          "metadata": {},
          "execution_count": 34
        }
      ]
    },
    {
      "cell_type": "code",
      "source": [
        "R_Square=(SST-SSE)/SST"
      ],
      "metadata": {
        "id": "Sji4Tq711XX7"
      },
      "execution_count": null,
      "outputs": []
    },
    {
      "cell_type": "code",
      "source": [
        "R_Square"
      ],
      "metadata": {
        "colab": {
          "base_uri": "https://localhost:8080/"
        },
        "id": "UK59dbF_1flT",
        "outputId": "cf142f62-7006-4752-8fe5-7e6dbb39c8f9"
      },
      "execution_count": null,
      "outputs": [
        {
          "output_type": "execute_result",
          "data": {
            "text/plain": [
              "0.7218347586122992"
            ]
          },
          "metadata": {},
          "execution_count": 36
        }
      ]
    },
    {
      "cell_type": "code",
      "source": [
        "from sklearn import linear_model\n",
        "model =linear_model.LinearRegression()"
      ],
      "metadata": {
        "id": "LHLiVu2_2MrT"
      },
      "execution_count": null,
      "outputs": []
    },
    {
      "cell_type": "code",
      "source": [
        "model.fit(x,y)"
      ],
      "metadata": {
        "colab": {
          "base_uri": "https://localhost:8080/"
        },
        "id": "c-wDCGHk2Pme",
        "outputId": "0fdd2279-7164-4a09-d8f7-e462fe26c5b2"
      },
      "execution_count": null,
      "outputs": [
        {
          "output_type": "execute_result",
          "data": {
            "text/plain": [
              "LinearRegression()"
            ]
          },
          "metadata": {},
          "execution_count": 38
        }
      ]
    },
    {
      "cell_type": "code",
      "source": [
        "model.score(x,y)"
      ],
      "metadata": {
        "colab": {
          "base_uri": "https://localhost:8080/"
        },
        "id": "7DuaKw2s2R2E",
        "outputId": "d32b286b-af9e-44aa-e7fc-53ab3b46bafe"
      },
      "execution_count": null,
      "outputs": [
        {
          "output_type": "execute_result",
          "data": {
            "text/plain": [
              "0.7218347586122992"
            ]
          },
          "metadata": {},
          "execution_count": 40
        }
      ]
    },
    {
      "cell_type": "markdown",
      "source": [],
      "metadata": {
        "id": "DUfHhKW9kHSD"
      }
    },
    {
      "cell_type": "code",
      "source": [
        "from google.colab import drive\n",
        "drive.mount('/content/drive')"
      ],
      "metadata": {
        "colab": {
          "base_uri": "https://localhost:8080/"
        },
        "id": "4fZ6CalDE-aG",
        "outputId": "9013005e-e423-4980-a3ec-522205974189"
      },
      "execution_count": null,
      "outputs": [
        {
          "output_type": "stream",
          "name": "stdout",
          "text": [
            "Mounted at /content/drive\n"
          ]
        }
      ]
    },
    {
      "cell_type": "code",
      "source": [
        "df = pd.read_csv(\"/content/drive/My Drive/Colab Notebooks/weight-height.csv\")"
      ],
      "metadata": {
        "id": "5fZcgc3WFH76"
      },
      "execution_count": null,
      "outputs": []
    },
    {
      "cell_type": "code",
      "source": [
        "df"
      ],
      "metadata": {
        "colab": {
          "base_uri": "https://localhost:8080/",
          "height": 424
        },
        "id": "puq7amg4Fr1n",
        "outputId": "ac08f9c9-605b-4e62-f518-789ebae73719"
      },
      "execution_count": null,
      "outputs": [
        {
          "output_type": "execute_result",
          "data": {
            "text/plain": [
              "      Gender     Height      Weight\n",
              "0       Male  73.847017  241.893563\n",
              "1       Male  68.781904  162.310473\n",
              "2       Male  74.110105  212.740856\n",
              "3       Male  71.730978  220.042470\n",
              "4       Male  69.881796  206.349801\n",
              "...      ...        ...         ...\n",
              "9995  Female  66.172652  136.777454\n",
              "9996  Female  67.067155  170.867906\n",
              "9997  Female  63.867992  128.475319\n",
              "9998  Female  69.034243  163.852461\n",
              "9999  Female  61.944246  113.649103\n",
              "\n",
              "[10000 rows x 3 columns]"
            ],
            "text/html": [
              "\n",
              "  <div id=\"df-2cfa7c65-12b9-42ca-9a45-28aca0226ae0\">\n",
              "    <div class=\"colab-df-container\">\n",
              "      <div>\n",
              "<style scoped>\n",
              "    .dataframe tbody tr th:only-of-type {\n",
              "        vertical-align: middle;\n",
              "    }\n",
              "\n",
              "    .dataframe tbody tr th {\n",
              "        vertical-align: top;\n",
              "    }\n",
              "\n",
              "    .dataframe thead th {\n",
              "        text-align: right;\n",
              "    }\n",
              "</style>\n",
              "<table border=\"1\" class=\"dataframe\">\n",
              "  <thead>\n",
              "    <tr style=\"text-align: right;\">\n",
              "      <th></th>\n",
              "      <th>Gender</th>\n",
              "      <th>Height</th>\n",
              "      <th>Weight</th>\n",
              "    </tr>\n",
              "  </thead>\n",
              "  <tbody>\n",
              "    <tr>\n",
              "      <th>0</th>\n",
              "      <td>Male</td>\n",
              "      <td>73.847017</td>\n",
              "      <td>241.893563</td>\n",
              "    </tr>\n",
              "    <tr>\n",
              "      <th>1</th>\n",
              "      <td>Male</td>\n",
              "      <td>68.781904</td>\n",
              "      <td>162.310473</td>\n",
              "    </tr>\n",
              "    <tr>\n",
              "      <th>2</th>\n",
              "      <td>Male</td>\n",
              "      <td>74.110105</td>\n",
              "      <td>212.740856</td>\n",
              "    </tr>\n",
              "    <tr>\n",
              "      <th>3</th>\n",
              "      <td>Male</td>\n",
              "      <td>71.730978</td>\n",
              "      <td>220.042470</td>\n",
              "    </tr>\n",
              "    <tr>\n",
              "      <th>4</th>\n",
              "      <td>Male</td>\n",
              "      <td>69.881796</td>\n",
              "      <td>206.349801</td>\n",
              "    </tr>\n",
              "    <tr>\n",
              "      <th>...</th>\n",
              "      <td>...</td>\n",
              "      <td>...</td>\n",
              "      <td>...</td>\n",
              "    </tr>\n",
              "    <tr>\n",
              "      <th>9995</th>\n",
              "      <td>Female</td>\n",
              "      <td>66.172652</td>\n",
              "      <td>136.777454</td>\n",
              "    </tr>\n",
              "    <tr>\n",
              "      <th>9996</th>\n",
              "      <td>Female</td>\n",
              "      <td>67.067155</td>\n",
              "      <td>170.867906</td>\n",
              "    </tr>\n",
              "    <tr>\n",
              "      <th>9997</th>\n",
              "      <td>Female</td>\n",
              "      <td>63.867992</td>\n",
              "      <td>128.475319</td>\n",
              "    </tr>\n",
              "    <tr>\n",
              "      <th>9998</th>\n",
              "      <td>Female</td>\n",
              "      <td>69.034243</td>\n",
              "      <td>163.852461</td>\n",
              "    </tr>\n",
              "    <tr>\n",
              "      <th>9999</th>\n",
              "      <td>Female</td>\n",
              "      <td>61.944246</td>\n",
              "      <td>113.649103</td>\n",
              "    </tr>\n",
              "  </tbody>\n",
              "</table>\n",
              "<p>10000 rows × 3 columns</p>\n",
              "</div>\n",
              "      <button class=\"colab-df-convert\" onclick=\"convertToInteractive('df-2cfa7c65-12b9-42ca-9a45-28aca0226ae0')\"\n",
              "              title=\"Convert this dataframe to an interactive table.\"\n",
              "              style=\"display:none;\">\n",
              "        \n",
              "  <svg xmlns=\"http://www.w3.org/2000/svg\" height=\"24px\"viewBox=\"0 0 24 24\"\n",
              "       width=\"24px\">\n",
              "    <path d=\"M0 0h24v24H0V0z\" fill=\"none\"/>\n",
              "    <path d=\"M18.56 5.44l.94 2.06.94-2.06 2.06-.94-2.06-.94-.94-2.06-.94 2.06-2.06.94zm-11 1L8.5 8.5l.94-2.06 2.06-.94-2.06-.94L8.5 2.5l-.94 2.06-2.06.94zm10 10l.94 2.06.94-2.06 2.06-.94-2.06-.94-.94-2.06-.94 2.06-2.06.94z\"/><path d=\"M17.41 7.96l-1.37-1.37c-.4-.4-.92-.59-1.43-.59-.52 0-1.04.2-1.43.59L10.3 9.45l-7.72 7.72c-.78.78-.78 2.05 0 2.83L4 21.41c.39.39.9.59 1.41.59.51 0 1.02-.2 1.41-.59l7.78-7.78 2.81-2.81c.8-.78.8-2.07 0-2.86zM5.41 20L4 18.59l7.72-7.72 1.47 1.35L5.41 20z\"/>\n",
              "  </svg>\n",
              "      </button>\n",
              "      \n",
              "  <style>\n",
              "    .colab-df-container {\n",
              "      display:flex;\n",
              "      flex-wrap:wrap;\n",
              "      gap: 12px;\n",
              "    }\n",
              "\n",
              "    .colab-df-convert {\n",
              "      background-color: #E8F0FE;\n",
              "      border: none;\n",
              "      border-radius: 50%;\n",
              "      cursor: pointer;\n",
              "      display: none;\n",
              "      fill: #1967D2;\n",
              "      height: 32px;\n",
              "      padding: 0 0 0 0;\n",
              "      width: 32px;\n",
              "    }\n",
              "\n",
              "    .colab-df-convert:hover {\n",
              "      background-color: #E2EBFA;\n",
              "      box-shadow: 0px 1px 2px rgba(60, 64, 67, 0.3), 0px 1px 3px 1px rgba(60, 64, 67, 0.15);\n",
              "      fill: #174EA6;\n",
              "    }\n",
              "\n",
              "    [theme=dark] .colab-df-convert {\n",
              "      background-color: #3B4455;\n",
              "      fill: #D2E3FC;\n",
              "    }\n",
              "\n",
              "    [theme=dark] .colab-df-convert:hover {\n",
              "      background-color: #434B5C;\n",
              "      box-shadow: 0px 1px 3px 1px rgba(0, 0, 0, 0.15);\n",
              "      filter: drop-shadow(0px 1px 2px rgba(0, 0, 0, 0.3));\n",
              "      fill: #FFFFFF;\n",
              "    }\n",
              "  </style>\n",
              "\n",
              "      <script>\n",
              "        const buttonEl =\n",
              "          document.querySelector('#df-2cfa7c65-12b9-42ca-9a45-28aca0226ae0 button.colab-df-convert');\n",
              "        buttonEl.style.display =\n",
              "          google.colab.kernel.accessAllowed ? 'block' : 'none';\n",
              "\n",
              "        async function convertToInteractive(key) {\n",
              "          const element = document.querySelector('#df-2cfa7c65-12b9-42ca-9a45-28aca0226ae0');\n",
              "          const dataTable =\n",
              "            await google.colab.kernel.invokeFunction('convertToInteractive',\n",
              "                                                     [key], {});\n",
              "          if (!dataTable) return;\n",
              "\n",
              "          const docLinkHtml = 'Like what you see? Visit the ' +\n",
              "            '<a target=\"_blank\" href=https://colab.research.google.com/notebooks/data_table.ipynb>data table notebook</a>'\n",
              "            + ' to learn more about interactive tables.';\n",
              "          element.innerHTML = '';\n",
              "          dataTable['output_type'] = 'display_data';\n",
              "          await google.colab.output.renderOutput(dataTable, element);\n",
              "          const docLink = document.createElement('div');\n",
              "          docLink.innerHTML = docLinkHtml;\n",
              "          element.appendChild(docLink);\n",
              "        }\n",
              "      </script>\n",
              "    </div>\n",
              "  </div>\n",
              "  "
            ]
          },
          "metadata": {},
          "execution_count": 4
        }
      ]
    },
    {
      "cell_type": "markdown",
      "source": [
        "#Adusted- R Square"
      ],
      "metadata": {
        "id": "zPS7mEgcXvdW"
      }
    },
    {
      "cell_type": "code",
      "source": [
        "from sklearn.linear_model import LinearRegression\n",
        "import pandas as pd\n",
        "\n",
        "#define URL where dataset is located\n",
        "url = \"https://raw.githubusercontent.com/Statology/Python-Guides/main/mtcars.csv\"\n",
        "\n",
        "#read in data\n",
        "data = pd.read_csv(url)\n",
        "\n",
        "#fit regression model\n",
        "model = LinearRegression()\n",
        "X, y = data[[\"mpg\", \"wt\", \"drat\", \"qsec\"]], data.hp\n",
        "model.fit(X, y)\n",
        "\n",
        "#display adjusted R-squared\n",
        "1 - (1-model.score(X, y))*(len(y)-1)/(len(y)-X.shape[1]-1)\n",
        "\n",
        " "
      ],
      "metadata": {
        "colab": {
          "base_uri": "https://localhost:8080/"
        },
        "id": "rdqnRrekE0gL",
        "outputId": "dfc3bd23-0112-4b02-e7a5-502900eacfd7"
      },
      "execution_count": null,
      "outputs": [
        {
          "output_type": "execute_result",
          "data": {
            "text/plain": [
              "0.7787005290062521"
            ]
          },
          "metadata": {},
          "execution_count": 1
        }
      ]
    },
    {
      "cell_type": "code",
      "source": [
        "from google.colab import drive\n",
        "drive.mount('/content/drive')"
      ],
      "metadata": {
        "colab": {
          "base_uri": "https://localhost:8080/"
        },
        "id": "M8cQRIfEmb2l",
        "outputId": "23f85eed-10e3-4d7b-e780-df7e179745e0"
      },
      "execution_count": null,
      "outputs": [
        {
          "output_type": "stream",
          "name": "stdout",
          "text": [
            "Mounted at /content/drive\n"
          ]
        }
      ]
    },
    {
      "cell_type": "code",
      "source": [
        "from sklearn.linear_model import LinearRegression\n",
        "import pandas as pd\n",
        "df = pd.read_csv(\"/content/drive/My Drive/Colab Notebooks/student_scores.csv\")"
      ],
      "metadata": {
        "id": "on2u1rpKmivz"
      },
      "execution_count": null,
      "outputs": []
    },
    {
      "cell_type": "code",
      "source": [
        "df "
      ],
      "metadata": {
        "colab": {
          "base_uri": "https://localhost:8080/",
          "height": 833
        },
        "id": "w-Atez3gnCbC",
        "outputId": "8d109335-43ed-42f1-8020-f011da2ea5c5"
      },
      "execution_count": null,
      "outputs": [
        {
          "output_type": "execute_result",
          "data": {
            "text/plain": [
              "    Hours  Scores\n",
              "0     2.5      21\n",
              "1     5.1      47\n",
              "2     3.2      27\n",
              "3     8.5      75\n",
              "4     3.5      30\n",
              "5     1.5      20\n",
              "6     9.2      88\n",
              "7     5.5      60\n",
              "8     8.3      81\n",
              "9     2.7      25\n",
              "10    7.7      85\n",
              "11    5.9      62\n",
              "12    4.5      41\n",
              "13    3.3      42\n",
              "14    1.1      17\n",
              "15    8.9      95\n",
              "16    2.5      30\n",
              "17    1.9      24\n",
              "18    6.1      67\n",
              "19    7.4      69\n",
              "20    2.7      30\n",
              "21    4.8      54\n",
              "22    3.8      35\n",
              "23    6.9      76\n",
              "24    7.8      86"
            ],
            "text/html": [
              "\n",
              "  <div id=\"df-8cbc0e86-1e4b-428e-962a-6b1097bc7efe\">\n",
              "    <div class=\"colab-df-container\">\n",
              "      <div>\n",
              "<style scoped>\n",
              "    .dataframe tbody tr th:only-of-type {\n",
              "        vertical-align: middle;\n",
              "    }\n",
              "\n",
              "    .dataframe tbody tr th {\n",
              "        vertical-align: top;\n",
              "    }\n",
              "\n",
              "    .dataframe thead th {\n",
              "        text-align: right;\n",
              "    }\n",
              "</style>\n",
              "<table border=\"1\" class=\"dataframe\">\n",
              "  <thead>\n",
              "    <tr style=\"text-align: right;\">\n",
              "      <th></th>\n",
              "      <th>Hours</th>\n",
              "      <th>Scores</th>\n",
              "    </tr>\n",
              "  </thead>\n",
              "  <tbody>\n",
              "    <tr>\n",
              "      <th>0</th>\n",
              "      <td>2.5</td>\n",
              "      <td>21</td>\n",
              "    </tr>\n",
              "    <tr>\n",
              "      <th>1</th>\n",
              "      <td>5.1</td>\n",
              "      <td>47</td>\n",
              "    </tr>\n",
              "    <tr>\n",
              "      <th>2</th>\n",
              "      <td>3.2</td>\n",
              "      <td>27</td>\n",
              "    </tr>\n",
              "    <tr>\n",
              "      <th>3</th>\n",
              "      <td>8.5</td>\n",
              "      <td>75</td>\n",
              "    </tr>\n",
              "    <tr>\n",
              "      <th>4</th>\n",
              "      <td>3.5</td>\n",
              "      <td>30</td>\n",
              "    </tr>\n",
              "    <tr>\n",
              "      <th>5</th>\n",
              "      <td>1.5</td>\n",
              "      <td>20</td>\n",
              "    </tr>\n",
              "    <tr>\n",
              "      <th>6</th>\n",
              "      <td>9.2</td>\n",
              "      <td>88</td>\n",
              "    </tr>\n",
              "    <tr>\n",
              "      <th>7</th>\n",
              "      <td>5.5</td>\n",
              "      <td>60</td>\n",
              "    </tr>\n",
              "    <tr>\n",
              "      <th>8</th>\n",
              "      <td>8.3</td>\n",
              "      <td>81</td>\n",
              "    </tr>\n",
              "    <tr>\n",
              "      <th>9</th>\n",
              "      <td>2.7</td>\n",
              "      <td>25</td>\n",
              "    </tr>\n",
              "    <tr>\n",
              "      <th>10</th>\n",
              "      <td>7.7</td>\n",
              "      <td>85</td>\n",
              "    </tr>\n",
              "    <tr>\n",
              "      <th>11</th>\n",
              "      <td>5.9</td>\n",
              "      <td>62</td>\n",
              "    </tr>\n",
              "    <tr>\n",
              "      <th>12</th>\n",
              "      <td>4.5</td>\n",
              "      <td>41</td>\n",
              "    </tr>\n",
              "    <tr>\n",
              "      <th>13</th>\n",
              "      <td>3.3</td>\n",
              "      <td>42</td>\n",
              "    </tr>\n",
              "    <tr>\n",
              "      <th>14</th>\n",
              "      <td>1.1</td>\n",
              "      <td>17</td>\n",
              "    </tr>\n",
              "    <tr>\n",
              "      <th>15</th>\n",
              "      <td>8.9</td>\n",
              "      <td>95</td>\n",
              "    </tr>\n",
              "    <tr>\n",
              "      <th>16</th>\n",
              "      <td>2.5</td>\n",
              "      <td>30</td>\n",
              "    </tr>\n",
              "    <tr>\n",
              "      <th>17</th>\n",
              "      <td>1.9</td>\n",
              "      <td>24</td>\n",
              "    </tr>\n",
              "    <tr>\n",
              "      <th>18</th>\n",
              "      <td>6.1</td>\n",
              "      <td>67</td>\n",
              "    </tr>\n",
              "    <tr>\n",
              "      <th>19</th>\n",
              "      <td>7.4</td>\n",
              "      <td>69</td>\n",
              "    </tr>\n",
              "    <tr>\n",
              "      <th>20</th>\n",
              "      <td>2.7</td>\n",
              "      <td>30</td>\n",
              "    </tr>\n",
              "    <tr>\n",
              "      <th>21</th>\n",
              "      <td>4.8</td>\n",
              "      <td>54</td>\n",
              "    </tr>\n",
              "    <tr>\n",
              "      <th>22</th>\n",
              "      <td>3.8</td>\n",
              "      <td>35</td>\n",
              "    </tr>\n",
              "    <tr>\n",
              "      <th>23</th>\n",
              "      <td>6.9</td>\n",
              "      <td>76</td>\n",
              "    </tr>\n",
              "    <tr>\n",
              "      <th>24</th>\n",
              "      <td>7.8</td>\n",
              "      <td>86</td>\n",
              "    </tr>\n",
              "  </tbody>\n",
              "</table>\n",
              "</div>\n",
              "      <button class=\"colab-df-convert\" onclick=\"convertToInteractive('df-8cbc0e86-1e4b-428e-962a-6b1097bc7efe')\"\n",
              "              title=\"Convert this dataframe to an interactive table.\"\n",
              "              style=\"display:none;\">\n",
              "        \n",
              "  <svg xmlns=\"http://www.w3.org/2000/svg\" height=\"24px\"viewBox=\"0 0 24 24\"\n",
              "       width=\"24px\">\n",
              "    <path d=\"M0 0h24v24H0V0z\" fill=\"none\"/>\n",
              "    <path d=\"M18.56 5.44l.94 2.06.94-2.06 2.06-.94-2.06-.94-.94-2.06-.94 2.06-2.06.94zm-11 1L8.5 8.5l.94-2.06 2.06-.94-2.06-.94L8.5 2.5l-.94 2.06-2.06.94zm10 10l.94 2.06.94-2.06 2.06-.94-2.06-.94-.94-2.06-.94 2.06-2.06.94z\"/><path d=\"M17.41 7.96l-1.37-1.37c-.4-.4-.92-.59-1.43-.59-.52 0-1.04.2-1.43.59L10.3 9.45l-7.72 7.72c-.78.78-.78 2.05 0 2.83L4 21.41c.39.39.9.59 1.41.59.51 0 1.02-.2 1.41-.59l7.78-7.78 2.81-2.81c.8-.78.8-2.07 0-2.86zM5.41 20L4 18.59l7.72-7.72 1.47 1.35L5.41 20z\"/>\n",
              "  </svg>\n",
              "      </button>\n",
              "      \n",
              "  <style>\n",
              "    .colab-df-container {\n",
              "      display:flex;\n",
              "      flex-wrap:wrap;\n",
              "      gap: 12px;\n",
              "    }\n",
              "\n",
              "    .colab-df-convert {\n",
              "      background-color: #E8F0FE;\n",
              "      border: none;\n",
              "      border-radius: 50%;\n",
              "      cursor: pointer;\n",
              "      display: none;\n",
              "      fill: #1967D2;\n",
              "      height: 32px;\n",
              "      padding: 0 0 0 0;\n",
              "      width: 32px;\n",
              "    }\n",
              "\n",
              "    .colab-df-convert:hover {\n",
              "      background-color: #E2EBFA;\n",
              "      box-shadow: 0px 1px 2px rgba(60, 64, 67, 0.3), 0px 1px 3px 1px rgba(60, 64, 67, 0.15);\n",
              "      fill: #174EA6;\n",
              "    }\n",
              "\n",
              "    [theme=dark] .colab-df-convert {\n",
              "      background-color: #3B4455;\n",
              "      fill: #D2E3FC;\n",
              "    }\n",
              "\n",
              "    [theme=dark] .colab-df-convert:hover {\n",
              "      background-color: #434B5C;\n",
              "      box-shadow: 0px 1px 3px 1px rgba(0, 0, 0, 0.15);\n",
              "      filter: drop-shadow(0px 1px 2px rgba(0, 0, 0, 0.3));\n",
              "      fill: #FFFFFF;\n",
              "    }\n",
              "  </style>\n",
              "\n",
              "      <script>\n",
              "        const buttonEl =\n",
              "          document.querySelector('#df-8cbc0e86-1e4b-428e-962a-6b1097bc7efe button.colab-df-convert');\n",
              "        buttonEl.style.display =\n",
              "          google.colab.kernel.accessAllowed ? 'block' : 'none';\n",
              "\n",
              "        async function convertToInteractive(key) {\n",
              "          const element = document.querySelector('#df-8cbc0e86-1e4b-428e-962a-6b1097bc7efe');\n",
              "          const dataTable =\n",
              "            await google.colab.kernel.invokeFunction('convertToInteractive',\n",
              "                                                     [key], {});\n",
              "          if (!dataTable) return;\n",
              "\n",
              "          const docLinkHtml = 'Like what you see? Visit the ' +\n",
              "            '<a target=\"_blank\" href=https://colab.research.google.com/notebooks/data_table.ipynb>data table notebook</a>'\n",
              "            + ' to learn more about interactive tables.';\n",
              "          element.innerHTML = '';\n",
              "          dataTable['output_type'] = 'display_data';\n",
              "          await google.colab.output.renderOutput(dataTable, element);\n",
              "          const docLink = document.createElement('div');\n",
              "          docLink.innerHTML = docLinkHtml;\n",
              "          element.appendChild(docLink);\n",
              "        }\n",
              "      </script>\n",
              "    </div>\n",
              "  </div>\n",
              "  "
            ]
          },
          "metadata": {},
          "execution_count": 4
        }
      ]
    },
    {
      "cell_type": "code",
      "source": [
        "df.head() "
      ],
      "metadata": {
        "colab": {
          "base_uri": "https://localhost:8080/",
          "height": 206
        },
        "id": "3PnrqAV8nJbw",
        "outputId": "184761aa-56e7-4a28-9472-e4690968667a"
      },
      "execution_count": null,
      "outputs": [
        {
          "output_type": "execute_result",
          "data": {
            "text/plain": [
              "   Hours  Scores\n",
              "0    2.5      21\n",
              "1    5.1      47\n",
              "2    3.2      27\n",
              "3    8.5      75\n",
              "4    3.5      30"
            ],
            "text/html": [
              "\n",
              "  <div id=\"df-01a4e9b9-5155-4ff0-8891-1f3c60e025c0\">\n",
              "    <div class=\"colab-df-container\">\n",
              "      <div>\n",
              "<style scoped>\n",
              "    .dataframe tbody tr th:only-of-type {\n",
              "        vertical-align: middle;\n",
              "    }\n",
              "\n",
              "    .dataframe tbody tr th {\n",
              "        vertical-align: top;\n",
              "    }\n",
              "\n",
              "    .dataframe thead th {\n",
              "        text-align: right;\n",
              "    }\n",
              "</style>\n",
              "<table border=\"1\" class=\"dataframe\">\n",
              "  <thead>\n",
              "    <tr style=\"text-align: right;\">\n",
              "      <th></th>\n",
              "      <th>Hours</th>\n",
              "      <th>Scores</th>\n",
              "    </tr>\n",
              "  </thead>\n",
              "  <tbody>\n",
              "    <tr>\n",
              "      <th>0</th>\n",
              "      <td>2.5</td>\n",
              "      <td>21</td>\n",
              "    </tr>\n",
              "    <tr>\n",
              "      <th>1</th>\n",
              "      <td>5.1</td>\n",
              "      <td>47</td>\n",
              "    </tr>\n",
              "    <tr>\n",
              "      <th>2</th>\n",
              "      <td>3.2</td>\n",
              "      <td>27</td>\n",
              "    </tr>\n",
              "    <tr>\n",
              "      <th>3</th>\n",
              "      <td>8.5</td>\n",
              "      <td>75</td>\n",
              "    </tr>\n",
              "    <tr>\n",
              "      <th>4</th>\n",
              "      <td>3.5</td>\n",
              "      <td>30</td>\n",
              "    </tr>\n",
              "  </tbody>\n",
              "</table>\n",
              "</div>\n",
              "      <button class=\"colab-df-convert\" onclick=\"convertToInteractive('df-01a4e9b9-5155-4ff0-8891-1f3c60e025c0')\"\n",
              "              title=\"Convert this dataframe to an interactive table.\"\n",
              "              style=\"display:none;\">\n",
              "        \n",
              "  <svg xmlns=\"http://www.w3.org/2000/svg\" height=\"24px\"viewBox=\"0 0 24 24\"\n",
              "       width=\"24px\">\n",
              "    <path d=\"M0 0h24v24H0V0z\" fill=\"none\"/>\n",
              "    <path d=\"M18.56 5.44l.94 2.06.94-2.06 2.06-.94-2.06-.94-.94-2.06-.94 2.06-2.06.94zm-11 1L8.5 8.5l.94-2.06 2.06-.94-2.06-.94L8.5 2.5l-.94 2.06-2.06.94zm10 10l.94 2.06.94-2.06 2.06-.94-2.06-.94-.94-2.06-.94 2.06-2.06.94z\"/><path d=\"M17.41 7.96l-1.37-1.37c-.4-.4-.92-.59-1.43-.59-.52 0-1.04.2-1.43.59L10.3 9.45l-7.72 7.72c-.78.78-.78 2.05 0 2.83L4 21.41c.39.39.9.59 1.41.59.51 0 1.02-.2 1.41-.59l7.78-7.78 2.81-2.81c.8-.78.8-2.07 0-2.86zM5.41 20L4 18.59l7.72-7.72 1.47 1.35L5.41 20z\"/>\n",
              "  </svg>\n",
              "      </button>\n",
              "      \n",
              "  <style>\n",
              "    .colab-df-container {\n",
              "      display:flex;\n",
              "      flex-wrap:wrap;\n",
              "      gap: 12px;\n",
              "    }\n",
              "\n",
              "    .colab-df-convert {\n",
              "      background-color: #E8F0FE;\n",
              "      border: none;\n",
              "      border-radius: 50%;\n",
              "      cursor: pointer;\n",
              "      display: none;\n",
              "      fill: #1967D2;\n",
              "      height: 32px;\n",
              "      padding: 0 0 0 0;\n",
              "      width: 32px;\n",
              "    }\n",
              "\n",
              "    .colab-df-convert:hover {\n",
              "      background-color: #E2EBFA;\n",
              "      box-shadow: 0px 1px 2px rgba(60, 64, 67, 0.3), 0px 1px 3px 1px rgba(60, 64, 67, 0.15);\n",
              "      fill: #174EA6;\n",
              "    }\n",
              "\n",
              "    [theme=dark] .colab-df-convert {\n",
              "      background-color: #3B4455;\n",
              "      fill: #D2E3FC;\n",
              "    }\n",
              "\n",
              "    [theme=dark] .colab-df-convert:hover {\n",
              "      background-color: #434B5C;\n",
              "      box-shadow: 0px 1px 3px 1px rgba(0, 0, 0, 0.15);\n",
              "      filter: drop-shadow(0px 1px 2px rgba(0, 0, 0, 0.3));\n",
              "      fill: #FFFFFF;\n",
              "    }\n",
              "  </style>\n",
              "\n",
              "      <script>\n",
              "        const buttonEl =\n",
              "          document.querySelector('#df-01a4e9b9-5155-4ff0-8891-1f3c60e025c0 button.colab-df-convert');\n",
              "        buttonEl.style.display =\n",
              "          google.colab.kernel.accessAllowed ? 'block' : 'none';\n",
              "\n",
              "        async function convertToInteractive(key) {\n",
              "          const element = document.querySelector('#df-01a4e9b9-5155-4ff0-8891-1f3c60e025c0');\n",
              "          const dataTable =\n",
              "            await google.colab.kernel.invokeFunction('convertToInteractive',\n",
              "                                                     [key], {});\n",
              "          if (!dataTable) return;\n",
              "\n",
              "          const docLinkHtml = 'Like what you see? Visit the ' +\n",
              "            '<a target=\"_blank\" href=https://colab.research.google.com/notebooks/data_table.ipynb>data table notebook</a>'\n",
              "            + ' to learn more about interactive tables.';\n",
              "          element.innerHTML = '';\n",
              "          dataTable['output_type'] = 'display_data';\n",
              "          await google.colab.output.renderOutput(dataTable, element);\n",
              "          const docLink = document.createElement('div');\n",
              "          docLink.innerHTML = docLinkHtml;\n",
              "          element.appendChild(docLink);\n",
              "        }\n",
              "      </script>\n",
              "    </div>\n",
              "  </div>\n",
              "  "
            ]
          },
          "metadata": {},
          "execution_count": 5
        }
      ]
    },
    {
      "cell_type": "code",
      "source": [
        "df.shape"
      ],
      "metadata": {
        "colab": {
          "base_uri": "https://localhost:8080/"
        },
        "id": "GLCfYw0fnN55",
        "outputId": "f008b07f-0ac0-44b0-feac-3696caac5427"
      },
      "execution_count": null,
      "outputs": [
        {
          "output_type": "execute_result",
          "data": {
            "text/plain": [
              "(25, 2)"
            ]
          },
          "metadata": {},
          "execution_count": 6
        }
      ]
    },
    {
      "cell_type": "code",
      "source": [
        "df.plot.scatter(x='Hours', y='Scores', title='Scatterplot of hours and scores percentages');"
      ],
      "metadata": {
        "colab": {
          "base_uri": "https://localhost:8080/",
          "height": 295
        },
        "id": "nPUatmC1nTcb",
        "outputId": "b2b6cdf1-1902-4ad1-e14c-d1cfe7567e37"
      },
      "execution_count": null,
      "outputs": [
        {
          "output_type": "display_data",
          "data": {
            "text/plain": [
              "<Figure size 432x288 with 1 Axes>"
            ],
            "image/png": "[encoded data removed]"
          },
          "metadata": {
            "needs_background": "light"
          }
        }
      ]
    },
    {
      "cell_type": "markdown",
      "source": [
        "As the hours increase, so do the scores. There's a fairly high positive correlation here! Since the shape of the line the points are making appears to be straight -\n",
        "\n",
        " we say that there's a positive linear correlation between the Hours and Scores variables. How correlated are they? The corr() method calculates and displays the correlations between numerical variables in a DataFrame:"
      ],
      "metadata": {
        "id": "W7S_0vDgn7hj"
      }
    },
    {
      "cell_type": "code",
      "source": [
        "print(df.corr())"
      ],
      "metadata": {
        "colab": {
          "base_uri": "https://localhost:8080/"
        },
        "id": "iVPqaBILoDGr",
        "outputId": "40386ca9-4a2d-4073-8600-46a49bf19dda"
      },
      "execution_count": null,
      "outputs": [
        {
          "output_type": "stream",
          "name": "stdout",
          "text": [
            "           Hours    Scores\n",
            "Hours   1.000000  0.976191\n",
            "Scores  0.976191  1.000000\n"
          ]
        }
      ]
    },
    {
      "cell_type": "markdown",
      "source": [
        "In this table, Hours and Hours have a 1.0 (100%) correlation, just as Scores have a 100% correlation to Scores, naturally.\n",
        "\n",
        "\n",
        " Any variable will have a 1:1 mapping with itself! However, the correlation between Scores and Hours is 0.97. Anything above 0.8 is considered to be a strong positive correlation."
      ],
      "metadata": {
        "id": "BL63ok8qoMJb"
      }
    },
    {
      "cell_type": "markdown",
      "source": [
        "#What Is Standard Deviation\n",
        "Standard deviation is a measure of how far numbers lie from the average.\n",
        "\n",
        "For example, if we look at a group of men we find that most of them are between 5’8” and 6’2” tall. Those who lie outside this range make up only a small percentage of the group. The standard deviation identifies the percentage by which the numbers tend to vary from the average.\n",
        "\n"
      ],
      "metadata": {
        "id": "w8yyv3Db7fpk"
      }
    },
    {
      "cell_type": "markdown",
      "source": [
        "![sd.png](data:image/png;base64,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)"
      ],
      "metadata": {
        "id": "RgPwf2CQ7rdL"
      }
    },
    {
      "cell_type": "markdown",
      "source": [
        "#How to Calculate Standard Deviation in Python\n",
        "Assuming we do not use a built-in standard deviation function, we need to implement the above formula as a Python function to calculate the standard deviation.\n",
        "\n",
        "Here is the implementation of standard deviation in Python:\n"
      ],
      "metadata": {
        "id": "XbaJtT7D7ti5"
      }
    },
    {
      "cell_type": "code",
      "source": [
        "import statistics \n",
        " \n",
        "data = [7,5,4,9,12,45]\n",
        " \n",
        "print(\"Standard Deviation of the sample is % s \"% (statistics.stdev(data)))\n",
        "print(\"Mean of the sample is % s \" % (statistics.mean(data))) \n"
      ],
      "metadata": {
        "colab": {
          "base_uri": "https://localhost:8080/"
        },
        "id": "_kzfFSgb-Lpy",
        "outputId": "49207402-1602-4649-82bd-e1df95114b48"
      },
      "execution_count": null,
      "outputs": [
        {
          "output_type": "stream",
          "name": "stdout",
          "text": [
            "Standard Deviation of the sample is 15.61623087261029 \n",
            "Mean of the sample is 13.666666666666666 \n"
          ]
        }
      ]
    },
    {
      "cell_type": "markdown",
      "source": [
        "#Write Custom Function to Calculate Standard Deviation"
      ],
      "metadata": {
        "id": "CRhAgd28-dxC"
      }
    },
    {
      "cell_type": "code",
      "source": [
        "import numpy as np #for declaring an array or simply use list\n",
        " \n",
        "def mean(data):\n",
        "  n = len(data)\n",
        "  mean = sum(data) / n\n",
        "  return mean\n",
        " \n",
        "def variance(data):\n",
        "  n = len(data)\n",
        "  mean = sum(data) / n\n",
        "  deviations = [(x - mean) ** 2 for x in data]\n",
        "  variance = sum(deviations) / n\n",
        "  return variance\n",
        " \n",
        "def stdev(data):\n",
        "  import math\n",
        "  var = variance(data)\n",
        "  std_dev = math.sqrt(var)\n",
        "  return std_dev\n",
        " \n",
        "data = np.array([7,5,4,9,12,45])\n",
        " \n",
        "print(\"Standard Deviation of the sample is % s \"% (stdev(data)))\n",
        "print(\"Mean of the sample is % s \" % (mean(data))) \n"
      ],
      "metadata": {
        "colab": {
          "base_uri": "https://localhost:8080/"
        },
        "id": "oYHPPBst-XDp",
        "outputId": "f2bfeba6-96d2-4970-add7-72f4c5c416f3"
      },
      "execution_count": null,
      "outputs": [
        {
          "output_type": "stream",
          "name": "stdout",
          "text": [
            "Standard Deviation of the sample is 14.2556031868954 \n",
            "Mean of the sample is 13.666666666666666 \n"
          ]
        }
      ]
    },
    {
      "cell_type": "markdown",
      "source": [
        "#Standard Error of Mean (SEM)\n",
        "\n",
        "The SEM is used to measure how close sample means are likely to be to the true population mean. This gives a good indication as to where a given sample actually lies in relation to its corresponding population.\n",
        "\n",
        "The standard error of the mean follows the following formula:\n",
        "\n",
        "![se.png](data:image/png;base64,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)"
      ],
      "metadata": {
        "id": "FQQQQ8v2x2W8"
      }
    },
    {
      "cell_type": "markdown",
      "source": [
        "#How to Implement Standard Error of Mean Function in Python"
      ],
      "metadata": {
        "id": "RWZPoXYG7PPm"
      }
    },
    {
      "cell_type": "code",
      "source": [
        "from math import sqrt\n",
        "def stddev(data):\n",
        "    N = len(data)\n",
        "    mu = float(sum(data) / len(data))\n",
        "    s = [(x_i - mu) ** 2 for x_i in data]\n",
        "    return sqrt(float(sum(s) / (N - 1)))\n",
        "def sem(data):\n",
        "    return stddev(data) / sqrt(len(data))\n",
        "data = [19, 2, 12, 3, 100, 2, 3, 2, 111, 82, 4]\n",
        "sem_data = sem(data)\n",
        "print(sem_data)"
      ],
      "metadata": {
        "colab": {
          "base_uri": "https://localhost:8080/"
        },
        "id": "8y_SQmno9B_i",
        "outputId": "3265e834-b8ae-4a34-975a-8bf1841557b2"
      },
      "execution_count": null,
      "outputs": [
        {
          "output_type": "stream",
          "name": "stdout",
          "text": [
            "13.172598656753378\n"
          ]
        }
      ]
    },
    {
      "cell_type": "markdown",
      "source": [
        "#What Is Autocorrelation?\n",
        "Autocorrelation is a mathematical representation of the degree of similarity between a given time series and a lagged version of itself over successive time intervals. It's conceptually similar to the correlation between two different time series, but autocorrelation uses the same time series twice: once in its original form and once lagged one or more time periods. \n",
        "\n",
        "For example, if it's rainy today, the data suggests that it's more likely to rain tomorrow than if it's clear today. When it comes to investing, a stock might have a strong positive autocorrelation of returns, suggesting that if it's \"up\" today, it's more likely to be up tomorrow, too.\n",
        "\n",
        "Naturally, autocorrelation can be a useful tool for traders to utilize; particularly for technical analysts."
      ],
      "metadata": {
        "id": "wxzbUjrCATtr"
      }
    },
    {
      "cell_type": "markdown",
      "source": [
        "#KEY TAKEAWAYS\n",
        "Autocorrelation represents the degree of similarity between a given time series and a lagged version of itself over successive time intervals.\n",
        "\n",
        "\n",
        "Autocorrelation measures the relationship between a variable's current value and its past values.\n",
        "\n",
        "\n",
        "An autocorrelation of +1 represents a perfect positive correlation, while an autocorrelation of negative 1 represents a perfect negative correlation.\n",
        "Technical analysts can use autocorrelation to measure how much influence past prices for a security have on its future price."
      ],
      "metadata": {
        "id": "sYl5tMEVAe--"
      }
    },
    {
      "cell_type": "markdown",
      "source": [
        "#Durbin Watson Statistics\n",
        "\n",
        "Autocorrelation, also known as serial correlation, can be a significant problem in analyzing historical data if one does not know to look out for it. For instance, since stock prices tend not to change too radically from one day to another, the prices from one day to the next could potentially be highly correlated, even though there is little useful information in this observation. In order to avoid autocorrelation issues, the easiest solution in finance is to simply convert a series of historical prices into a series of percentage-price changes from day to day.\n",
        "\n",
        "\n",
        "Autocorrelation can be useful for technical analysis, which is most concerned with the trends of, and relationships between, security prices using charting techniques in lieu of a company's financial health or management. Technical analysts can use autocorrelation to see how much of an impact past prices for a security have on its future price.\n",
        "\n",
        "\n",
        "\n",
        "Autocorrelation can show if there is a momentum factor associated with a stock. For example, if you know that a stock historically has a high positive autocorrelation value and you witnessed the stock making solid gains over the past several days, then you might reasonably expect the movements over the upcoming several days (the leading time series) to match those of the lagging time series and to move upward."
      ],
      "metadata": {
        "id": "qBdIZAznBTSs"
      }
    },
    {
      "cell_type": "markdown",
      "source": [
        "#Example: Durbin-Watson Test in Python\n",
        "\n",
        "Suppose we have the following dataset that describes the attributes of 10 basketball players: **bold text**"
      ],
      "metadata": {
        "id": "OZ1ZgjkWIk6n"
      }
    },
    {
      "cell_type": "code",
      "source": [
        "import numpy as np\n",
        "import pandas as pd\n",
        "\n",
        "#create dataset\n",
        "df = pd.DataFrame({'rating': [90, 85, 82, 88, 94, 90, 76, 75, 87, 86],\n",
        "                   'points': [25, 20, 14, 16, 27, 20, 12, 15, 14, 19],\n",
        "                   'assists': [5, 7, 7, 8, 5, 7, 6, 9, 9, 5],\n",
        "                   'rebounds': [11, 8, 10, 6, 6, 9, 6, 10, 10, 7]})\n",
        "\n",
        "#view dataset\n",
        "df\n"
      ],
      "metadata": {
        "colab": {
          "base_uri": "https://localhost:8080/",
          "height": 363
        },
        "id": "jlEGvoAOIxLv",
        "outputId": "65268215-ba11-42ad-8004-d77b4210c231"
      },
      "execution_count": null,
      "outputs": [
        {
          "output_type": "execute_result",
          "data": {
            "text/plain": [
              "   rating  points  assists  rebounds\n",
              "0      90      25        5        11\n",
              "1      85      20        7         8\n",
              "2      82      14        7        10\n",
              "3      88      16        8         6\n",
              "4      94      27        5         6\n",
              "5      90      20        7         9\n",
              "6      76      12        6         6\n",
              "7      75      15        9        10\n",
              "8      87      14        9        10\n",
              "9      86      19        5         7"
            ],
            "text/html": [
              "\n",
              "  <div id=\"df-2ee3f907-178c-42ef-8d36-fc19444d8708\">\n",
              "    <div class=\"colab-df-container\">\n",
              "      <div>\n",
              "<style scoped>\n",
              "    .dataframe tbody tr th:only-of-type {\n",
              "        vertical-align: middle;\n",
              "    }\n",
              "\n",
              "    .dataframe tbody tr th {\n",
              "        vertical-align: top;\n",
              "    }\n",
              "\n",
              "    .dataframe thead th {\n",
              "        text-align: right;\n",
              "    }\n",
              "</style>\n",
              "<table border=\"1\" class=\"dataframe\">\n",
              "  <thead>\n",
              "    <tr style=\"text-align: right;\">\n",
              "      <th></th>\n",
              "      <th>rating</th>\n",
              "      <th>points</th>\n",
              "      <th>assists</th>\n",
              "      <th>rebounds</th>\n",
              "    </tr>\n",
              "  </thead>\n",
              "  <tbody>\n",
              "    <tr>\n",
              "      <th>0</th>\n",
              "      <td>90</td>\n",
              "      <td>25</td>\n",
              "      <td>5</td>\n",
              "      <td>11</td>\n",
              "    </tr>\n",
              "    <tr>\n",
              "      <th>1</th>\n",
              "      <td>85</td>\n",
              "      <td>20</td>\n",
              "      <td>7</td>\n",
              "      <td>8</td>\n",
              "    </tr>\n",
              "    <tr>\n",
              "      <th>2</th>\n",
              "      <td>82</td>\n",
              "      <td>14</td>\n",
              "      <td>7</td>\n",
              "      <td>10</td>\n",
              "    </tr>\n",
              "    <tr>\n",
              "      <th>3</th>\n",
              "      <td>88</td>\n",
              "      <td>16</td>\n",
              "      <td>8</td>\n",
              "      <td>6</td>\n",
              "    </tr>\n",
              "    <tr>\n",
              "      <th>4</th>\n",
              "      <td>94</td>\n",
              "      <td>27</td>\n",
              "      <td>5</td>\n",
              "      <td>6</td>\n",
              "    </tr>\n",
              "    <tr>\n",
              "      <th>5</th>\n",
              "      <td>90</td>\n",
              "      <td>20</td>\n",
              "      <td>7</td>\n",
              "      <td>9</td>\n",
              "    </tr>\n",
              "    <tr>\n",
              "      <th>6</th>\n",
              "      <td>76</td>\n",
              "      <td>12</td>\n",
              "      <td>6</td>\n",
              "      <td>6</td>\n",
              "    </tr>\n",
              "    <tr>\n",
              "      <th>7</th>\n",
              "      <td>75</td>\n",
              "      <td>15</td>\n",
              "      <td>9</td>\n",
              "      <td>10</td>\n",
              "    </tr>\n",
              "    <tr>\n",
              "      <th>8</th>\n",
              "      <td>87</td>\n",
              "      <td>14</td>\n",
              "      <td>9</td>\n",
              "      <td>10</td>\n",
              "    </tr>\n",
              "    <tr>\n",
              "      <th>9</th>\n",
              "      <td>86</td>\n",
              "      <td>19</td>\n",
              "      <td>5</td>\n",
              "      <td>7</td>\n",
              "    </tr>\n",
              "  </tbody>\n",
              "</table>\n",
              "</div>\n",
              "      <button class=\"colab-df-convert\" onclick=\"convertToInteractive('df-2ee3f907-178c-42ef-8d36-fc19444d8708')\"\n",
              "              title=\"Convert this dataframe to an interactive table.\"\n",
              "              style=\"display:none;\">\n",
              "        \n",
              "  <svg xmlns=\"http://www.w3.org/2000/svg\" height=\"24px\"viewBox=\"0 0 24 24\"\n",
              "       width=\"24px\">\n",
              "    <path d=\"M0 0h24v24H0V0z\" fill=\"none\"/>\n",
              "    <path d=\"M18.56 5.44l.94 2.06.94-2.06 2.06-.94-2.06-.94-.94-2.06-.94 2.06-2.06.94zm-11 1L8.5 8.5l.94-2.06 2.06-.94-2.06-.94L8.5 2.5l-.94 2.06-2.06.94zm10 10l.94 2.06.94-2.06 2.06-.94-2.06-.94-.94-2.06-.94 2.06-2.06.94z\"/><path d=\"M17.41 7.96l-1.37-1.37c-.4-.4-.92-.59-1.43-.59-.52 0-1.04.2-1.43.59L10.3 9.45l-7.72 7.72c-.78.78-.78 2.05 0 2.83L4 21.41c.39.39.9.59 1.41.59.51 0 1.02-.2 1.41-.59l7.78-7.78 2.81-2.81c.8-.78.8-2.07 0-2.86zM5.41 20L4 18.59l7.72-7.72 1.47 1.35L5.41 20z\"/>\n",
              "  </svg>\n",
              "      </button>\n",
              "      \n",
              "  <style>\n",
              "    .colab-df-container {\n",
              "      display:flex;\n",
              "      flex-wrap:wrap;\n",
              "      gap: 12px;\n",
              "    }\n",
              "\n",
              "    .colab-df-convert {\n",
              "      background-color: #E8F0FE;\n",
              "      border: none;\n",
              "      border-radius: 50%;\n",
              "      cursor: pointer;\n",
              "      display: none;\n",
              "      fill: #1967D2;\n",
              "      height: 32px;\n",
              "      padding: 0 0 0 0;\n",
              "      width: 32px;\n",
              "    }\n",
              "\n",
              "    .colab-df-convert:hover {\n",
              "      background-color: #E2EBFA;\n",
              "      box-shadow: 0px 1px 2px rgba(60, 64, 67, 0.3), 0px 1px 3px 1px rgba(60, 64, 67, 0.15);\n",
              "      fill: #174EA6;\n",
              "    }\n",
              "\n",
              "    [theme=dark] .colab-df-convert {\n",
              "      background-color: #3B4455;\n",
              "      fill: #D2E3FC;\n",
              "    }\n",
              "\n",
              "    [theme=dark] .colab-df-convert:hover {\n",
              "      background-color: #434B5C;\n",
              "      box-shadow: 0px 1px 3px 1px rgba(0, 0, 0, 0.15);\n",
              "      filter: drop-shadow(0px 1px 2px rgba(0, 0, 0, 0.3));\n",
              "      fill: #FFFFFF;\n",
              "    }\n",
              "  </style>\n",
              "\n",
              "      <script>\n",
              "        const buttonEl =\n",
              "          document.querySelector('#df-2ee3f907-178c-42ef-8d36-fc19444d8708 button.colab-df-convert');\n",
              "        buttonEl.style.display =\n",
              "          google.colab.kernel.accessAllowed ? 'block' : 'none';\n",
              "\n",
              "        async function convertToInteractive(key) {\n",
              "          const element = document.querySelector('#df-2ee3f907-178c-42ef-8d36-fc19444d8708');\n",
              "          const dataTable =\n",
              "            await google.colab.kernel.invokeFunction('convertToInteractive',\n",
              "                                                     [key], {});\n",
              "          if (!dataTable) return;\n",
              "\n",
              "          const docLinkHtml = 'Like what you see? Visit the ' +\n",
              "            '<a target=\"_blank\" href=https://colab.research.google.com/notebooks/data_table.ipynb>data table notebook</a>'\n",
              "            + ' to learn more about interactive tables.';\n",
              "          element.innerHTML = '';\n",
              "          dataTable['output_type'] = 'display_data';\n",
              "          await google.colab.output.renderOutput(dataTable, element);\n",
              "          const docLink = document.createElement('div');\n",
              "          docLink.innerHTML = docLinkHtml;\n",
              "          element.appendChild(docLink);\n",
              "        }\n",
              "      </script>\n",
              "    </div>\n",
              "  </div>\n",
              "  "
            ]
          },
          "metadata": {},
          "execution_count": 4
        }
      ]
    },
    {
      "cell_type": "markdown",
      "source": [
        "#Suppose we fit a multiple linear regression model using rating as the response variable and the other three variables as the predictor variables:"
      ],
      "metadata": {
        "id": "1b8Ol3qMI2jO"
      }
    },
    {
      "cell_type": "code",
      "source": [
        "from statsmodels.formula.api import ols\n",
        "\n",
        "#fit multiple linear regression model\n",
        "model = ols('rating ~ points + assists + rebounds', data=df).fit()\n",
        "\n",
        "#view model summary\n",
        "print(model.summary())"
      ],
      "metadata": {
        "colab": {
          "base_uri": "https://localhost:8080/"
        },
        "id": "HlZfU_dtI6Wu",
        "outputId": "03cac195-93a9-4e4d-e888-9f3f5a48c343"
      },
      "execution_count": null,
      "outputs": [
        {
          "output_type": "stream",
          "name": "stdout",
          "text": [
            "                            OLS Regression Results                            \n",
            "==============================================================================\n",
            "Dep. Variable:                 rating   R-squared:                       0.623\n",
            "Model:                            OLS   Adj. R-squared:                  0.434\n",
            "Method:                 Least Squares   F-statistic:                     3.299\n",
            "Date:                Thu, 27 Oct 2022   Prob (F-statistic):             0.0995\n",
            "Time:                        15:51:03   Log-Likelihood:                -26.862\n",
            "No. Observations:                  10   AIC:                             61.72\n",
            "Df Residuals:                       6   BIC:                             62.93\n",
            "Df Model:                           3                                         \n",
            "Covariance Type:            nonrobust                                         \n",
            "==============================================================================\n",
            "                 coef    std err          t      P>|t|      [0.025      0.975]\n",
            "------------------------------------------------------------------------------\n",
            "Intercept     62.4716     14.588      4.282      0.005      26.776      98.168\n",
            "points         1.1193      0.411      2.724      0.034       0.114       2.125\n",
            "assists        0.8834      1.381      0.640      0.546      -2.495       4.262\n",
            "rebounds      -0.4278      0.851     -0.503      0.633      -2.510       1.655\n",
            "==============================================================================\n",
            "Omnibus:                        2.711   Durbin-Watson:                   2.392\n",
            "Prob(Omnibus):                  0.258   Jarque-Bera (JB):                0.945\n",
            "Skew:                          -0.751   Prob(JB):                        0.624\n",
            "Kurtosis:                       3.115   Cond. No.                         217.\n",
            "==============================================================================\n",
            "\n",
            "Notes:\n",
            "[1] Standard Errors assume that the covariance matrix of the errors is correctly specified.\n"
          ]
        },
        {
          "output_type": "stream",
          "name": "stderr",
          "text": [
            "/usr/local/lib/python3.7/dist-packages/scipy/stats/stats.py:1542: UserWarning: kurtosistest only valid for n>=20 ... continuing anyway, n=10\n",
            "  \"anyway, n=%i\" % int(n))\n"
          ]
        }
      ]
    },
    {
      "cell_type": "markdown",
      "source": [
        "#We can perform a Durbin Watson using the durbin_watson() function from the statsmodels library to determine if the residuals of the regression model are autocorrelated:"
      ],
      "metadata": {
        "id": "z8NQtXfcJCHN"
      }
    },
    {
      "cell_type": "code",
      "source": [
        "from statsmodels.stats.stattools import durbin_watson\n",
        "\n",
        "#perform Durbin-Watson test\n",
        "durbin_watson(model.resid)\n"
      ],
      "metadata": {
        "colab": {
          "base_uri": "https://localhost:8080/"
        },
        "id": "fa9dCnfAJF0u",
        "outputId": "82bd06a5-4202-4c85-867d-8a68a04b5f0b"
      },
      "execution_count": null,
      "outputs": [
        {
          "output_type": "execute_result",
          "data": {
            "text/plain": [
              "2.3920546872335353"
            ]
          },
          "metadata": {},
          "execution_count": 6
        }
      ]
    },
    {
      "cell_type": "markdown",
      "source": [
        "#The test statistic is 2.392. Since this is within the range of 1.5 and 2.5, we would consider autocorrelation not to be problematic in this regression model."
      ],
      "metadata": {
        "id": "WCLcz6EBJJY2"
      }
    },
    {
      "cell_type": "code",
      "source": [
        "import matplotlib.pyplot as plt\n",
        "import numpy as np\n",
        "import pandas as pd\n",
        "import scipy as sp\n",
        "import seaborn as sns\n",
        "import statsmodels.api as sm\n",
        "import statsmodels.tsa.api as smt\n",
        "import warnings\n",
        "from google.colab import drive\n",
        "from sklearn.model_selection import train_test_split"
      ],
      "metadata": {
        "id": "7SSe5c-nkgzW"
      },
      "execution_count": null,
      "outputs": []
    },
    {
      "cell_type": "code",
      "source": [
        "warnings.filterwarnings(\"ignore\")\n",
        "%matplotlib inline"
      ],
      "metadata": {
        "id": "56RfffjZkqax"
      },
      "execution_count": null,
      "outputs": []
    },
    {
      "cell_type": "code",
      "source": [
        "drive.mount('/content/drive')"
      ],
      "metadata": {
        "colab": {
          "base_uri": "https://localhost:8080/"
        },
        "id": "p6RTaFprkwa1",
        "outputId": "c93c1c21-c296-4cbd-c87f-c7fe70b4036d"
      },
      "execution_count": null,
      "outputs": [
        {
          "output_type": "stream",
          "name": "stdout",
          "text": [
            "Mounted at /content/drive\n"
          ]
        }
      ]
    },
    {
      "cell_type": "code",
      "source": [
        "path = \"/content/drive/My Drive/Colab Notebooks/durbin_data.csv\""
      ],
      "metadata": {
        "id": "KL8ZIezQk8k6"
      },
      "execution_count": null,
      "outputs": []
    },
    {
      "cell_type": "code",
      "source": [
        "df = pd.read_csv(path)"
      ],
      "metadata": {
        "id": "1afGSyj7lQai"
      },
      "execution_count": null,
      "outputs": []
    },
    {
      "cell_type": "code",
      "source": [
        "df"
      ],
      "metadata": {
        "colab": {
          "base_uri": "https://localhost:8080/",
          "height": 424
        },
        "id": "y9U5unwLlpib",
        "outputId": "248e727f-8b4f-4fa1-bd1a-19b600716ed0"
      },
      "execution_count": null,
      "outputs": [
        {
          "output_type": "execute_result",
          "data": {
            "text/plain": [
              "        X1    X2    X3     Y\n",
              "0    230.1  37.8  69.2  22.1\n",
              "1     44.5  39.3  45.1  10.4\n",
              "2     17.2  45.9  69.3   9.3\n",
              "3    151.5  41.3  58.5  18.5\n",
              "4    180.8  10.8  58.4  12.9\n",
              "..     ...   ...   ...   ...\n",
              "195   38.2   3.7  13.8   7.6\n",
              "196   94.2   4.9   8.1   9.7\n",
              "197  177.0   9.3   6.4  12.8\n",
              "198  283.6  42.0  66.2  25.5\n",
              "199  232.1   8.6   8.7  13.4\n",
              "\n",
              "[200 rows x 4 columns]"
            ],
            "text/html": [
              "\n",
              "  <div id=\"df-6c468e38-707f-4db5-a0df-b0cc2094185c\">\n",
              "    <div class=\"colab-df-container\">\n",
              "      <div>\n",
              "<style scoped>\n",
              "    .dataframe tbody tr th:only-of-type {\n",
              "        vertical-align: middle;\n",
              "    }\n",
              "\n",
              "    .dataframe tbody tr th {\n",
              "        vertical-align: top;\n",
              "    }\n",
              "\n",
              "    .dataframe thead th {\n",
              "        text-align: right;\n",
              "    }\n",
              "</style>\n",
              "<table border=\"1\" class=\"dataframe\">\n",
              "  <thead>\n",
              "    <tr style=\"text-align: right;\">\n",
              "      <th></th>\n",
              "      <th>X1</th>\n",
              "      <th>X2</th>\n",
              "      <th>X3</th>\n",
              "      <th>Y</th>\n",
              "    </tr>\n",
              "  </thead>\n",
              "  <tbody>\n",
              "    <tr>\n",
              "      <th>0</th>\n",
              "      <td>230.1</td>\n",
              "      <td>37.8</td>\n",
              "      <td>69.2</td>\n",
              "      <td>22.1</td>\n",
              "    </tr>\n",
              "    <tr>\n",
              "      <th>1</th>\n",
              "      <td>44.5</td>\n",
              "      <td>39.3</td>\n",
              "      <td>45.1</td>\n",
              "      <td>10.4</td>\n",
              "    </tr>\n",
              "    <tr>\n",
              "      <th>2</th>\n",
              "      <td>17.2</td>\n",
              "      <td>45.9</td>\n",
              "      <td>69.3</td>\n",
              "      <td>9.3</td>\n",
              "    </tr>\n",
              "    <tr>\n",
              "      <th>3</th>\n",
              "      <td>151.5</td>\n",
              "      <td>41.3</td>\n",
              "      <td>58.5</td>\n",
              "      <td>18.5</td>\n",
              "    </tr>\n",
              "    <tr>\n",
              "      <th>4</th>\n",
              "      <td>180.8</td>\n",
              "      <td>10.8</td>\n",
              "      <td>58.4</td>\n",
              "      <td>12.9</td>\n",
              "    </tr>\n",
              "    <tr>\n",
              "      <th>...</th>\n",
              "      <td>...</td>\n",
              "      <td>...</td>\n",
              "      <td>...</td>\n",
              "      <td>...</td>\n",
              "    </tr>\n",
              "    <tr>\n",
              "      <th>195</th>\n",
              "      <td>38.2</td>\n",
              "      <td>3.7</td>\n",
              "      <td>13.8</td>\n",
              "      <td>7.6</td>\n",
              "    </tr>\n",
              "    <tr>\n",
              "      <th>196</th>\n",
              "      <td>94.2</td>\n",
              "      <td>4.9</td>\n",
              "      <td>8.1</td>\n",
              "      <td>9.7</td>\n",
              "    </tr>\n",
              "    <tr>\n",
              "      <th>197</th>\n",
              "      <td>177.0</td>\n",
              "      <td>9.3</td>\n",
              "      <td>6.4</td>\n",
              "      <td>12.8</td>\n",
              "    </tr>\n",
              "    <tr>\n",
              "      <th>198</th>\n",
              "      <td>283.6</td>\n",
              "      <td>42.0</td>\n",
              "      <td>66.2</td>\n",
              "      <td>25.5</td>\n",
              "    </tr>\n",
              "    <tr>\n",
              "      <th>199</th>\n",
              "      <td>232.1</td>\n",
              "      <td>8.6</td>\n",
              "      <td>8.7</td>\n",
              "      <td>13.4</td>\n",
              "    </tr>\n",
              "  </tbody>\n",
              "</table>\n",
              "<p>200 rows × 4 columns</p>\n",
              "</div>\n",
              "      <button class=\"colab-df-convert\" onclick=\"convertToInteractive('df-6c468e38-707f-4db5-a0df-b0cc2094185c')\"\n",
              "              title=\"Convert this dataframe to an interactive table.\"\n",
              "              style=\"display:none;\">\n",
              "        \n",
              "  <svg xmlns=\"http://www.w3.org/2000/svg\" height=\"24px\"viewBox=\"0 0 24 24\"\n",
              "       width=\"24px\">\n",
              "    <path d=\"M0 0h24v24H0V0z\" fill=\"none\"/>\n",
              "    <path d=\"M18.56 5.44l.94 2.06.94-2.06 2.06-.94-2.06-.94-.94-2.06-.94 2.06-2.06.94zm-11 1L8.5 8.5l.94-2.06 2.06-.94-2.06-.94L8.5 2.5l-.94 2.06-2.06.94zm10 10l.94 2.06.94-2.06 2.06-.94-2.06-.94-.94-2.06-.94 2.06-2.06.94z\"/><path d=\"M17.41 7.96l-1.37-1.37c-.4-.4-.92-.59-1.43-.59-.52 0-1.04.2-1.43.59L10.3 9.45l-7.72 7.72c-.78.78-.78 2.05 0 2.83L4 21.41c.39.39.9.59 1.41.59.51 0 1.02-.2 1.41-.59l7.78-7.78 2.81-2.81c.8-.78.8-2.07 0-2.86zM5.41 20L4 18.59l7.72-7.72 1.47 1.35L5.41 20z\"/>\n",
              "  </svg>\n",
              "      </button>\n",
              "      \n",
              "  <style>\n",
              "    .colab-df-container {\n",
              "      display:flex;\n",
              "      flex-wrap:wrap;\n",
              "      gap: 12px;\n",
              "    }\n",
              "\n",
              "    .colab-df-convert {\n",
              "      background-color: #E8F0FE;\n",
              "      border: none;\n",
              "      border-radius: 50%;\n",
              "      cursor: pointer;\n",
              "      display: none;\n",
              "      fill: #1967D2;\n",
              "      height: 32px;\n",
              "      padding: 0 0 0 0;\n",
              "      width: 32px;\n",
              "    }\n",
              "\n",
              "    .colab-df-convert:hover {\n",
              "      background-color: #E2EBFA;\n",
              "      box-shadow: 0px 1px 2px rgba(60, 64, 67, 0.3), 0px 1px 3px 1px rgba(60, 64, 67, 0.15);\n",
              "      fill: #174EA6;\n",
              "    }\n",
              "\n",
              "    [theme=dark] .colab-df-convert {\n",
              "      background-color: #3B4455;\n",
              "      fill: #D2E3FC;\n",
              "    }\n",
              "\n",
              "    [theme=dark] .colab-df-convert:hover {\n",
              "      background-color: #434B5C;\n",
              "      box-shadow: 0px 1px 3px 1px rgba(0, 0, 0, 0.15);\n",
              "      filter: drop-shadow(0px 1px 2px rgba(0, 0, 0, 0.3));\n",
              "      fill: #FFFFFF;\n",
              "    }\n",
              "  </style>\n",
              "\n",
              "      <script>\n",
              "        const buttonEl =\n",
              "          document.querySelector('#df-6c468e38-707f-4db5-a0df-b0cc2094185c button.colab-df-convert');\n",
              "        buttonEl.style.display =\n",
              "          google.colab.kernel.accessAllowed ? 'block' : 'none';\n",
              "\n",
              "        async function convertToInteractive(key) {\n",
              "          const element = document.querySelector('#df-6c468e38-707f-4db5-a0df-b0cc2094185c');\n",
              "          const dataTable =\n",
              "            await google.colab.kernel.invokeFunction('convertToInteractive',\n",
              "                                                     [key], {});\n",
              "          if (!dataTable) return;\n",
              "\n",
              "          const docLinkHtml = 'Like what you see? Visit the ' +\n",
              "            '<a target=\"_blank\" href=https://colab.research.google.com/notebooks/data_table.ipynb>data table notebook</a>'\n",
              "            + ' to learn more about interactive tables.';\n",
              "          element.innerHTML = '';\n",
              "          dataTable['output_type'] = 'display_data';\n",
              "          await google.colab.output.renderOutput(dataTable, element);\n",
              "          const docLink = document.createElement('div');\n",
              "          docLink.innerHTML = docLinkHtml;\n",
              "          element.appendChild(docLink);\n",
              "        }\n",
              "      </script>\n",
              "    </div>\n",
              "  </div>\n",
              "  "
            ]
          },
          "metadata": {},
          "execution_count": 8
        }
      ]
    },
    {
      "cell_type": "code",
      "source": [
        "print (\"Total number of rows in dataset = {}\".format(df.shape[0]))\n",
        "print (\"Total number of columns in dataset = {}\".format(df.shape[1]))"
      ],
      "metadata": {
        "colab": {
          "base_uri": "https://localhost:8080/"
        },
        "id": "1GNBs1zElvUu",
        "outputId": "fead969d-5a5a-4212-da89-2aa026bd7b03"
      },
      "execution_count": null,
      "outputs": [
        {
          "output_type": "stream",
          "name": "stdout",
          "text": [
            "Total number of rows in dataset = 200\n",
            "Total number of columns in dataset = 4\n"
          ]
        }
      ]
    },
    {
      "cell_type": "code",
      "source": [
        "df.head()"
      ],
      "metadata": {
        "colab": {
          "base_uri": "https://localhost:8080/",
          "height": 206
        },
        "id": "PWq-RBu1lzm2",
        "outputId": "ca6db881-3292-4cb2-dfc3-891e0aafb8c9"
      },
      "execution_count": null,
      "outputs": [
        {
          "output_type": "execute_result",
          "data": {
            "text/plain": [
              "      X1    X2    X3     Y\n",
              "0  230.1  37.8  69.2  22.1\n",
              "1   44.5  39.3  45.1  10.4\n",
              "2   17.2  45.9  69.3   9.3\n",
              "3  151.5  41.3  58.5  18.5\n",
              "4  180.8  10.8  58.4  12.9"
            ],
            "text/html": [
              "\n",
              "  <div id=\"df-7b9fe387-5ede-4fbe-a150-bfffeca29e2e\">\n",
              "    <div class=\"colab-df-container\">\n",
              "      <div>\n",
              "<style scoped>\n",
              "    .dataframe tbody tr th:only-of-type {\n",
              "        vertical-align: middle;\n",
              "    }\n",
              "\n",
              "    .dataframe tbody tr th {\n",
              "        vertical-align: top;\n",
              "    }\n",
              "\n",
              "    .dataframe thead th {\n",
              "        text-align: right;\n",
              "    }\n",
              "</style>\n",
              "<table border=\"1\" class=\"dataframe\">\n",
              "  <thead>\n",
              "    <tr style=\"text-align: right;\">\n",
              "      <th></th>\n",
              "      <th>X1</th>\n",
              "      <th>X2</th>\n",
              "      <th>X3</th>\n",
              "      <th>Y</th>\n",
              "    </tr>\n",
              "  </thead>\n",
              "  <tbody>\n",
              "    <tr>\n",
              "      <th>0</th>\n",
              "      <td>230.1</td>\n",
              "      <td>37.8</td>\n",
              "      <td>69.2</td>\n",
              "      <td>22.1</td>\n",
              "    </tr>\n",
              "    <tr>\n",
              "      <th>1</th>\n",
              "      <td>44.5</td>\n",
              "      <td>39.3</td>\n",
              "      <td>45.1</td>\n",
              "      <td>10.4</td>\n",
              "    </tr>\n",
              "    <tr>\n",
              "      <th>2</th>\n",
              "      <td>17.2</td>\n",
              "      <td>45.9</td>\n",
              "      <td>69.3</td>\n",
              "      <td>9.3</td>\n",
              "    </tr>\n",
              "    <tr>\n",
              "      <th>3</th>\n",
              "      <td>151.5</td>\n",
              "      <td>41.3</td>\n",
              "      <td>58.5</td>\n",
              "      <td>18.5</td>\n",
              "    </tr>\n",
              "    <tr>\n",
              "      <th>4</th>\n",
              "      <td>180.8</td>\n",
              "      <td>10.8</td>\n",
              "      <td>58.4</td>\n",
              "      <td>12.9</td>\n",
              "    </tr>\n",
              "  </tbody>\n",
              "</table>\n",
              "</div>\n",
              "      <button class=\"colab-df-convert\" onclick=\"convertToInteractive('df-7b9fe387-5ede-4fbe-a150-bfffeca29e2e')\"\n",
              "              title=\"Convert this dataframe to an interactive table.\"\n",
              "              style=\"display:none;\">\n",
              "        \n",
              "  <svg xmlns=\"http://www.w3.org/2000/svg\" height=\"24px\"viewBox=\"0 0 24 24\"\n",
              "       width=\"24px\">\n",
              "    <path d=\"M0 0h24v24H0V0z\" fill=\"none\"/>\n",
              "    <path d=\"M18.56 5.44l.94 2.06.94-2.06 2.06-.94-2.06-.94-.94-2.06-.94 2.06-2.06.94zm-11 1L8.5 8.5l.94-2.06 2.06-.94-2.06-.94L8.5 2.5l-.94 2.06-2.06.94zm10 10l.94 2.06.94-2.06 2.06-.94-2.06-.94-.94-2.06-.94 2.06-2.06.94z\"/><path d=\"M17.41 7.96l-1.37-1.37c-.4-.4-.92-.59-1.43-.59-.52 0-1.04.2-1.43.59L10.3 9.45l-7.72 7.72c-.78.78-.78 2.05 0 2.83L4 21.41c.39.39.9.59 1.41.59.51 0 1.02-.2 1.41-.59l7.78-7.78 2.81-2.81c.8-.78.8-2.07 0-2.86zM5.41 20L4 18.59l7.72-7.72 1.47 1.35L5.41 20z\"/>\n",
              "  </svg>\n",
              "      </button>\n",
              "      \n",
              "  <style>\n",
              "    .colab-df-container {\n",
              "      display:flex;\n",
              "      flex-wrap:wrap;\n",
              "      gap: 12px;\n",
              "    }\n",
              "\n",
              "    .colab-df-convert {\n",
              "      background-color: #E8F0FE;\n",
              "      border: none;\n",
              "      border-radius: 50%;\n",
              "      cursor: pointer;\n",
              "      display: none;\n",
              "      fill: #1967D2;\n",
              "      height: 32px;\n",
              "      padding: 0 0 0 0;\n",
              "      width: 32px;\n",
              "    }\n",
              "\n",
              "    .colab-df-convert:hover {\n",
              "      background-color: #E2EBFA;\n",
              "      box-shadow: 0px 1px 2px rgba(60, 64, 67, 0.3), 0px 1px 3px 1px rgba(60, 64, 67, 0.15);\n",
              "      fill: #174EA6;\n",
              "    }\n",
              "\n",
              "    [theme=dark] .colab-df-convert {\n",
              "      background-color: #3B4455;\n",
              "      fill: #D2E3FC;\n",
              "    }\n",
              "\n",
              "    [theme=dark] .colab-df-convert:hover {\n",
              "      background-color: #434B5C;\n",
              "      box-shadow: 0px 1px 3px 1px rgba(0, 0, 0, 0.15);\n",
              "      filter: drop-shadow(0px 1px 2px rgba(0, 0, 0, 0.3));\n",
              "      fill: #FFFFFF;\n",
              "    }\n",
              "  </style>\n",
              "\n",
              "      <script>\n",
              "        const buttonEl =\n",
              "          document.querySelector('#df-7b9fe387-5ede-4fbe-a150-bfffeca29e2e button.colab-df-convert');\n",
              "        buttonEl.style.display =\n",
              "          google.colab.kernel.accessAllowed ? 'block' : 'none';\n",
              "\n",
              "        async function convertToInteractive(key) {\n",
              "          const element = document.querySelector('#df-7b9fe387-5ede-4fbe-a150-bfffeca29e2e');\n",
              "          const dataTable =\n",
              "            await google.colab.kernel.invokeFunction('convertToInteractive',\n",
              "                                                     [key], {});\n",
              "          if (!dataTable) return;\n",
              "\n",
              "          const docLinkHtml = 'Like what you see? Visit the ' +\n",
              "            '<a target=\"_blank\" href=https://colab.research.google.com/notebooks/data_table.ipynb>data table notebook</a>'\n",
              "            + ' to learn more about interactive tables.';\n",
              "          element.innerHTML = '';\n",
              "          dataTable['output_type'] = 'display_data';\n",
              "          await google.colab.output.renderOutput(dataTable, element);\n",
              "          const docLink = document.createElement('div');\n",
              "          docLink.innerHTML = docLinkHtml;\n",
              "          element.appendChild(docLink);\n",
              "        }\n",
              "      </script>\n",
              "    </div>\n",
              "  </div>\n",
              "  "
            ]
          },
          "metadata": {},
          "execution_count": 10
        }
      ]
    },
    {
      "cell_type": "code",
      "source": [
        "target_col = \"Y\""
      ],
      "metadata": {
        "id": "ZPqJzUwxl5za"
      },
      "execution_count": null,
      "outputs": []
    },
    {
      "cell_type": "code",
      "source": [
        "X = df.loc[:, df.columns != target_col]\n",
        "y = df.loc[:, target_col]"
      ],
      "metadata": {
        "id": "Quv_z2Jnl_Tf"
      },
      "execution_count": null,
      "outputs": []
    },
    {
      "cell_type": "code",
      "source": [
        "# Split the data into train and test with 70% data being used for training\n",
        "X_train, X_test, y_train, y_test = train_test_split(X, y, \n",
        "                                                    test_size=0.30, \n",
        "                                                    random_state=42)"
      ],
      "metadata": {
        "id": "B2pc9g8hmEI9"
      },
      "execution_count": null,
      "outputs": []
    },
    {
      "cell_type": "markdown",
      "source": [
        "#Linear Regression using statsmodels"
      ],
      "metadata": {
        "id": "AQjAs7G6mJTR"
      }
    },
    {
      "cell_type": "code",
      "source": [
        "X_with_constant = sm.add_constant(X_train)\n",
        "model = sm.OLS(y_train, X_with_constant)"
      ],
      "metadata": {
        "id": "0poIqQjymQBJ"
      },
      "execution_count": null,
      "outputs": []
    },
    {
      "cell_type": "code",
      "source": [
        "results = model.fit()\n",
        "results.params"
      ],
      "metadata": {
        "colab": {
          "base_uri": "https://localhost:8080/"
        },
        "id": "BxAYxUujmZRJ",
        "outputId": "38ead517-6336-4335-e44e-8ae14b0bcb2c"
      },
      "execution_count": null,
      "outputs": [
        {
          "output_type": "execute_result",
          "data": {
            "text/plain": [
              "const    2.708949\n",
              "X1       0.044059\n",
              "X2       0.199287\n",
              "X3       0.006882\n",
              "dtype: float64"
            ]
          },
          "metadata": {},
          "execution_count": 15
        }
      ]
    },
    {
      "cell_type": "code",
      "source": [
        "print(results.summary())"
      ],
      "metadata": {
        "colab": {
          "base_uri": "https://localhost:8080/"
        },
        "id": "zci9hT5kmj2Y",
        "outputId": "147599d3-6695-41f2-f8d5-5dc72242c961"
      },
      "execution_count": null,
      "outputs": [
        {
          "output_type": "stream",
          "name": "stdout",
          "text": [
            "                            OLS Regression Results                            \n",
            "==============================================================================\n",
            "Dep. Variable:                      Y   R-squared:                       0.906\n",
            "Model:                            OLS   Adj. R-squared:                  0.903\n",
            "Method:                 Least Squares   F-statistic:                     434.5\n",
            "Date:                Sun, 30 Oct 2022   Prob (F-statistic):           1.88e-69\n",
            "Time:                        15:54:50   Log-Likelihood:                -262.21\n",
            "No. Observations:                 140   AIC:                             532.4\n",
            "Df Residuals:                     136   BIC:                             544.2\n",
            "Df Model:                           3                                         \n",
            "Covariance Type:            nonrobust                                         \n",
            "==============================================================================\n",
            "                 coef    std err          t      P>|t|      [0.025      0.975]\n",
            "------------------------------------------------------------------------------\n",
            "const          2.7089      0.374      7.250      0.000       1.970       3.448\n",
            "X1             0.0441      0.002     27.219      0.000       0.041       0.047\n",
            "X2             0.1993      0.010     20.195      0.000       0.180       0.219\n",
            "X3             0.0069      0.007      0.988      0.325      -0.007       0.021\n",
            "==============================================================================\n",
            "Omnibus:                       68.437   Durbin-Watson:                   2.285\n",
            "Prob(Omnibus):                  0.000   Jarque-Bera (JB):              325.342\n",
            "Skew:                          -1.709   Prob(JB):                     2.25e-71\n",
            "Kurtosis:                       9.640   Cond. No.                         500.\n",
            "==============================================================================\n",
            "\n",
            "Notes:\n",
            "[1] Standard Errors assume that the covariance matrix of the errors is correctly specified.\n"
          ]
        }
      ]
    },
    {
      "cell_type": "markdown",
      "source": [
        "![dw.png](data:image/png;base64,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)"
      ],
      "metadata": {
        "id": "xMKPjKeYn9ES"
      }
    },
    {
      "cell_type": "markdown",
      "source": [],
      "metadata": {
        "id": "aJbPIg_2oBAW"
      }
    },
    {
      "cell_type": "code",
      "source": [
        "\n",
        "y_pred = results.predict(X_with_constant)"
      ],
      "metadata": {
        "id": "oChBlhA_oEHa"
      },
      "execution_count": null,
      "outputs": []
    },
    {
      "cell_type": "code",
      "source": [
        "y_pred"
      ],
      "metadata": {
        "colab": {
          "base_uri": "https://localhost:8080/"
        },
        "id": "5QYlYKxjoJH6",
        "outputId": "496c348d-e670-4fb5-f915-9a0875af0fcd"
      },
      "execution_count": null,
      "outputs": [
        {
          "output_type": "execute_result",
          "data": {
            "text/plain": [
              "169    17.391498\n",
              "97     15.191962\n",
              "31     11.416507\n",
              "12     11.206105\n",
              "35     16.392562\n",
              "         ...    \n",
              "106     6.207002\n",
              "14     18.574600\n",
              "92     19.382850\n",
              "179    12.119172\n",
              "102    17.214448\n",
              "Length: 140, dtype: float64"
            ]
          },
          "metadata": {},
          "execution_count": 18
        }
      ]
    },
    {
      "cell_type": "code",
      "source": [
        "y_pred.shape[0]"
      ],
      "metadata": {
        "colab": {
          "base_uri": "https://localhost:8080/"
        },
        "id": "bid1Jo10oQO9",
        "outputId": "68d4dbf1-8192-4417-b403-2e31f97e9c2e"
      },
      "execution_count": null,
      "outputs": [
        {
          "output_type": "execute_result",
          "data": {
            "text/plain": [
              "140"
            ]
          },
          "metadata": {},
          "execution_count": 19
        }
      ]
    },
    {
      "cell_type": "code",
      "source": [
        "residual_df = pd.DataFrame(residual, columns=[\"ei\"]).reset_index(drop=True)"
      ],
      "metadata": {
        "id": "_EqnPjeDobf9"
      },
      "execution_count": null,
      "outputs": []
    },
    {
      "cell_type": "code",
      "source": [
        "residual_df.head()"
      ],
      "metadata": {
        "id": "ATE32v_Jogda"
      },
      "execution_count": null,
      "outputs": []
    },
    {
      "cell_type": "code",
      "source": [
        "residual_df.head()"
      ],
      "metadata": {
        "colab": {
          "base_uri": "https://localhost:8080/",
          "height": 206
        },
        "id": "GIRxn0YwokyI",
        "outputId": "2d78a0cb-0aa8-434c-d951-400396338401"
      },
      "execution_count": null,
      "outputs": [
        {
          "output_type": "execute_result",
          "data": {
            "text/plain": [
              "         ei\n",
              "0 -2.391498\n",
              "1  0.308038\n",
              "2  0.483493\n",
              "3 -2.006105\n",
              "4 -3.592562"
            ],
            "text/html": [
              "\n",
              "  <div id=\"df-90f9418e-4ae0-402d-8cc6-d7e791e4e67d\">\n",
              "    <div class=\"colab-df-container\">\n",
              "      <div>\n",
              "<style scoped>\n",
              "    .dataframe tbody tr th:only-of-type {\n",
              "        vertical-align: middle;\n",
              "    }\n",
              "\n",
              "    .dataframe tbody tr th {\n",
              "        vertical-align: top;\n",
              "    }\n",
              "\n",
              "    .dataframe thead th {\n",
              "        text-align: right;\n",
              "    }\n",
              "</style>\n",
              "<table border=\"1\" class=\"dataframe\">\n",
              "  <thead>\n",
              "    <tr style=\"text-align: right;\">\n",
              "      <th></th>\n",
              "      <th>ei</th>\n",
              "    </tr>\n",
              "  </thead>\n",
              "  <tbody>\n",
              "    <tr>\n",
              "      <th>0</th>\n",
              "      <td>-2.391498</td>\n",
              "    </tr>\n",
              "    <tr>\n",
              "      <th>1</th>\n",
              "      <td>0.308038</td>\n",
              "    </tr>\n",
              "    <tr>\n",
              "      <th>2</th>\n",
              "      <td>0.483493</td>\n",
              "    </tr>\n",
              "    <tr>\n",
              "      <th>3</th>\n",
              "      <td>-2.006105</td>\n",
              "    </tr>\n",
              "    <tr>\n",
              "      <th>4</th>\n",
              "      <td>-3.592562</td>\n",
              "    </tr>\n",
              "  </tbody>\n",
              "</table>\n",
              "</div>\n",
              "      <button class=\"colab-df-convert\" onclick=\"convertToInteractive('df-90f9418e-4ae0-402d-8cc6-d7e791e4e67d')\"\n",
              "              title=\"Convert this dataframe to an interactive table.\"\n",
              "              style=\"display:none;\">\n",
              "        \n",
              "  <svg xmlns=\"http://www.w3.org/2000/svg\" height=\"24px\"viewBox=\"0 0 24 24\"\n",
              "       width=\"24px\">\n",
              "    <path d=\"M0 0h24v24H0V0z\" fill=\"none\"/>\n",
              "    <path d=\"M18.56 5.44l.94 2.06.94-2.06 2.06-.94-2.06-.94-.94-2.06-.94 2.06-2.06.94zm-11 1L8.5 8.5l.94-2.06 2.06-.94-2.06-.94L8.5 2.5l-.94 2.06-2.06.94zm10 10l.94 2.06.94-2.06 2.06-.94-2.06-.94-.94-2.06-.94 2.06-2.06.94z\"/><path d=\"M17.41 7.96l-1.37-1.37c-.4-.4-.92-.59-1.43-.59-.52 0-1.04.2-1.43.59L10.3 9.45l-7.72 7.72c-.78.78-.78 2.05 0 2.83L4 21.41c.39.39.9.59 1.41.59.51 0 1.02-.2 1.41-.59l7.78-7.78 2.81-2.81c.8-.78.8-2.07 0-2.86zM5.41 20L4 18.59l7.72-7.72 1.47 1.35L5.41 20z\"/>\n",
              "  </svg>\n",
              "      </button>\n",
              "      \n",
              "  <style>\n",
              "    .colab-df-container {\n",
              "      display:flex;\n",
              "      flex-wrap:wrap;\n",
              "      gap: 12px;\n",
              "    }\n",
              "\n",
              "    .colab-df-convert {\n",
              "      background-color: #E8F0FE;\n",
              "      border: none;\n",
              "      border-radius: 50%;\n",
              "      cursor: pointer;\n",
              "      display: none;\n",
              "      fill: #1967D2;\n",
              "      height: 32px;\n",
              "      padding: 0 0 0 0;\n",
              "      width: 32px;\n",
              "    }\n",
              "\n",
              "    .colab-df-convert:hover {\n",
              "      background-color: #E2EBFA;\n",
              "      box-shadow: 0px 1px 2px rgba(60, 64, 67, 0.3), 0px 1px 3px 1px rgba(60, 64, 67, 0.15);\n",
              "      fill: #174EA6;\n",
              "    }\n",
              "\n",
              "    [theme=dark] .colab-df-convert {\n",
              "      background-color: #3B4455;\n",
              "      fill: #D2E3FC;\n",
              "    }\n",
              "\n",
              "    [theme=dark] .colab-df-convert:hover {\n",
              "      background-color: #434B5C;\n",
              "      box-shadow: 0px 1px 3px 1px rgba(0, 0, 0, 0.15);\n",
              "      filter: drop-shadow(0px 1px 2px rgba(0, 0, 0, 0.3));\n",
              "      fill: #FFFFFF;\n",
              "    }\n",
              "  </style>\n",
              "\n",
              "      <script>\n",
              "        const buttonEl =\n",
              "          document.querySelector('#df-90f9418e-4ae0-402d-8cc6-d7e791e4e67d button.colab-df-convert');\n",
              "        buttonEl.style.display =\n",
              "          google.colab.kernel.accessAllowed ? 'block' : 'none';\n",
              "\n",
              "        async function convertToInteractive(key) {\n",
              "          const element = document.querySelector('#df-90f9418e-4ae0-402d-8cc6-d7e791e4e67d');\n",
              "          const dataTable =\n",
              "            await google.colab.kernel.invokeFunction('convertToInteractive',\n",
              "                                                     [key], {});\n",
              "          if (!dataTable) return;\n",
              "\n",
              "          const docLinkHtml = 'Like what you see? Visit the ' +\n",
              "            '<a target=\"_blank\" href=https://colab.research.google.com/notebooks/data_table.ipynb>data table notebook</a>'\n",
              "            + ' to learn more about interactive tables.';\n",
              "          element.innerHTML = '';\n",
              "          dataTable['output_type'] = 'display_data';\n",
              "          await google.colab.output.renderOutput(dataTable, element);\n",
              "          const docLink = document.createElement('div');\n",
              "          docLink.innerHTML = docLinkHtml;\n",
              "          element.appendChild(docLink);\n",
              "        }\n",
              "      </script>\n",
              "    </div>\n",
              "  </div>\n",
              "  "
            ]
          },
          "metadata": {},
          "execution_count": 22
        }
      ]
    },
    {
      "cell_type": "code",
      "source": [
        "residual_df['ei_square'] = np.square(residual_df['ei'])"
      ],
      "metadata": {
        "id": "luwHEYoCpUpV"
      },
      "execution_count": null,
      "outputs": []
    },
    {
      "cell_type": "code",
      "source": [
        "sum_of_squared_residuals = residual_df.sum()[\"ei_square\"]\n",
        "sum_of_squared_residuals"
      ],
      "metadata": {
        "colab": {
          "base_uri": "https://localhost:8080/"
        },
        "id": "VaPRq6aFotga",
        "outputId": "e10a4650-b031-41e7-9f23-d6c3e587c862"
      },
      "execution_count": null,
      "outputs": [
        {
          "output_type": "execute_result",
          "data": {
            "text/plain": [
              "347.1097250468101"
            ]
          },
          "metadata": {},
          "execution_count": 26
        }
      ]
    },
    {
      "cell_type": "code",
      "source": [
        "residual_df.head()"
      ],
      "metadata": {
        "colab": {
          "base_uri": "https://localhost:8080/",
          "height": 206
        },
        "id": "aNDZZtYpoWKm",
        "outputId": "1ca17f68-88c8-464b-ea2b-5993a0337a45"
      },
      "execution_count": null,
      "outputs": [
        {
          "output_type": "execute_result",
          "data": {
            "text/plain": [
              "         ei  ei_square\n",
              "0 -2.391498   5.719262\n",
              "1  0.308038   0.094888\n",
              "2  0.483493   0.233765\n",
              "3 -2.006105   4.024456\n",
              "4 -3.592562  12.906499"
            ],
            "text/html": [
              "\n",
              "  <div id=\"df-a4cb3db3-e6b6-47e2-b353-4ddaa8629285\">\n",
              "    <div class=\"colab-df-container\">\n",
              "      <div>\n",
              "<style scoped>\n",
              "    .dataframe tbody tr th:only-of-type {\n",
              "        vertical-align: middle;\n",
              "    }\n",
              "\n",
              "    .dataframe tbody tr th {\n",
              "        vertical-align: top;\n",
              "    }\n",
              "\n",
              "    .dataframe thead th {\n",
              "        text-align: right;\n",
              "    }\n",
              "</style>\n",
              "<table border=\"1\" class=\"dataframe\">\n",
              "  <thead>\n",
              "    <tr style=\"text-align: right;\">\n",
              "      <th></th>\n",
              "      <th>ei</th>\n",
              "      <th>ei_square</th>\n",
              "    </tr>\n",
              "  </thead>\n",
              "  <tbody>\n",
              "    <tr>\n",
              "      <th>0</th>\n",
              "      <td>-2.391498</td>\n",
              "      <td>5.719262</td>\n",
              "    </tr>\n",
              "    <tr>\n",
              "      <th>1</th>\n",
              "      <td>0.308038</td>\n",
              "      <td>0.094888</td>\n",
              "    </tr>\n",
              "    <tr>\n",
              "      <th>2</th>\n",
              "      <td>0.483493</td>\n",
              "      <td>0.233765</td>\n",
              "    </tr>\n",
              "    <tr>\n",
              "      <th>3</th>\n",
              "      <td>-2.006105</td>\n",
              "      <td>4.024456</td>\n",
              "    </tr>\n",
              "    <tr>\n",
              "      <th>4</th>\n",
              "      <td>-3.592562</td>\n",
              "      <td>12.906499</td>\n",
              "    </tr>\n",
              "  </tbody>\n",
              "</table>\n",
              "</div>\n",
              "      <button class=\"colab-df-convert\" onclick=\"convertToInteractive('df-a4cb3db3-e6b6-47e2-b353-4ddaa8629285')\"\n",
              "              title=\"Convert this dataframe to an interactive table.\"\n",
              "              style=\"display:none;\">\n",
              "        \n",
              "  <svg xmlns=\"http://www.w3.org/2000/svg\" height=\"24px\"viewBox=\"0 0 24 24\"\n",
              "       width=\"24px\">\n",
              "    <path d=\"M0 0h24v24H0V0z\" fill=\"none\"/>\n",
              "    <path d=\"M18.56 5.44l.94 2.06.94-2.06 2.06-.94-2.06-.94-.94-2.06-.94 2.06-2.06.94zm-11 1L8.5 8.5l.94-2.06 2.06-.94-2.06-.94L8.5 2.5l-.94 2.06-2.06.94zm10 10l.94 2.06.94-2.06 2.06-.94-2.06-.94-.94-2.06-.94 2.06-2.06.94z\"/><path d=\"M17.41 7.96l-1.37-1.37c-.4-.4-.92-.59-1.43-.59-.52 0-1.04.2-1.43.59L10.3 9.45l-7.72 7.72c-.78.78-.78 2.05 0 2.83L4 21.41c.39.39.9.59 1.41.59.51 0 1.02-.2 1.41-.59l7.78-7.78 2.81-2.81c.8-.78.8-2.07 0-2.86zM5.41 20L4 18.59l7.72-7.72 1.47 1.35L5.41 20z\"/>\n",
              "  </svg>\n",
              "      </button>\n",
              "      \n",
              "  <style>\n",
              "    .colab-df-container {\n",
              "      display:flex;\n",
              "      flex-wrap:wrap;\n",
              "      gap: 12px;\n",
              "    }\n",
              "\n",
              "    .colab-df-convert {\n",
              "      background-color: #E8F0FE;\n",
              "      border: none;\n",
              "      border-radius: 50%;\n",
              "      cursor: pointer;\n",
              "      display: none;\n",
              "      fill: #1967D2;\n",
              "      height: 32px;\n",
              "      padding: 0 0 0 0;\n",
              "      width: 32px;\n",
              "    }\n",
              "\n",
              "    .colab-df-convert:hover {\n",
              "      background-color: #E2EBFA;\n",
              "      box-shadow: 0px 1px 2px rgba(60, 64, 67, 0.3), 0px 1px 3px 1px rgba(60, 64, 67, 0.15);\n",
              "      fill: #174EA6;\n",
              "    }\n",
              "\n",
              "    [theme=dark] .colab-df-convert {\n",
              "      background-color: #3B4455;\n",
              "      fill: #D2E3FC;\n",
              "    }\n",
              "\n",
              "    [theme=dark] .colab-df-convert:hover {\n",
              "      background-color: #434B5C;\n",
              "      box-shadow: 0px 1px 3px 1px rgba(0, 0, 0, 0.15);\n",
              "      filter: drop-shadow(0px 1px 2px rgba(0, 0, 0, 0.3));\n",
              "      fill: #FFFFFF;\n",
              "    }\n",
              "  </style>\n",
              "\n",
              "      <script>\n",
              "        const buttonEl =\n",
              "          document.querySelector('#df-a4cb3db3-e6b6-47e2-b353-4ddaa8629285 button.colab-df-convert');\n",
              "        buttonEl.style.display =\n",
              "          google.colab.kernel.accessAllowed ? 'block' : 'none';\n",
              "\n",
              "        async function convertToInteractive(key) {\n",
              "          const element = document.querySelector('#df-a4cb3db3-e6b6-47e2-b353-4ddaa8629285');\n",
              "          const dataTable =\n",
              "            await google.colab.kernel.invokeFunction('convertToInteractive',\n",
              "                                                     [key], {});\n",
              "          if (!dataTable) return;\n",
              "\n",
              "          const docLinkHtml = 'Like what you see? Visit the ' +\n",
              "            '<a target=\"_blank\" href=https://colab.research.google.com/notebooks/data_table.ipynb>data table notebook</a>'\n",
              "            + ' to learn more about interactive tables.';\n",
              "          element.innerHTML = '';\n",
              "          dataTable['output_type'] = 'display_data';\n",
              "          await google.colab.output.renderOutput(dataTable, element);\n",
              "          const docLink = document.createElement('div');\n",
              "          docLink.innerHTML = docLinkHtml;\n",
              "          element.appendChild(docLink);\n",
              "        }\n",
              "      </script>\n",
              "    </div>\n",
              "  </div>\n",
              "  "
            ]
          },
          "metadata": {},
          "execution_count": 27
        }
      ]
    },
    {
      "cell_type": "code",
      "source": [
        "residual_df['ei_minus_1'] = residual_df['ei'].shift()"
      ],
      "metadata": {
        "id": "TXomDNq3pjOM"
      },
      "execution_count": null,
      "outputs": []
    },
    {
      "cell_type": "code",
      "source": [
        "residual_df.head()"
      ],
      "metadata": {
        "colab": {
          "base_uri": "https://localhost:8080/",
          "height": 206
        },
        "id": "qOR8zm2gpn7y",
        "outputId": "8b136187-c3af-4cf2-98c4-ed75ce8ac50b"
      },
      "execution_count": null,
      "outputs": [
        {
          "output_type": "execute_result",
          "data": {
            "text/plain": [
              "         ei  ei_square  ei_minus_1\n",
              "0 -2.391498   5.719262         NaN\n",
              "1  0.308038   0.094888   -2.391498\n",
              "2  0.483493   0.233765    0.308038\n",
              "3 -2.006105   4.024456    0.483493\n",
              "4 -3.592562  12.906499   -2.006105"
            ],
            "text/html": [
              "\n",
              "  <div id=\"df-fbd67634-b88f-4d54-b218-210303d27da9\">\n",
              "    <div class=\"colab-df-container\">\n",
              "      <div>\n",
              "<style scoped>\n",
              "    .dataframe tbody tr th:only-of-type {\n",
              "        vertical-align: middle;\n",
              "    }\n",
              "\n",
              "    .dataframe tbody tr th {\n",
              "        vertical-align: top;\n",
              "    }\n",
              "\n",
              "    .dataframe thead th {\n",
              "        text-align: right;\n",
              "    }\n",
              "</style>\n",
              "<table border=\"1\" class=\"dataframe\">\n",
              "  <thead>\n",
              "    <tr style=\"text-align: right;\">\n",
              "      <th></th>\n",
              "      <th>ei</th>\n",
              "      <th>ei_square</th>\n",
              "      <th>ei_minus_1</th>\n",
              "    </tr>\n",
              "  </thead>\n",
              "  <tbody>\n",
              "    <tr>\n",
              "      <th>0</th>\n",
              "      <td>-2.391498</td>\n",
              "      <td>5.719262</td>\n",
              "      <td>NaN</td>\n",
              "    </tr>\n",
              "    <tr>\n",
              "      <th>1</th>\n",
              "      <td>0.308038</td>\n",
              "      <td>0.094888</td>\n",
              "      <td>-2.391498</td>\n",
              "    </tr>\n",
              "    <tr>\n",
              "      <th>2</th>\n",
              "      <td>0.483493</td>\n",
              "      <td>0.233765</td>\n",
              "      <td>0.308038</td>\n",
              "    </tr>\n",
              "    <tr>\n",
              "      <th>3</th>\n",
              "      <td>-2.006105</td>\n",
              "      <td>4.024456</td>\n",
              "      <td>0.483493</td>\n",
              "    </tr>\n",
              "    <tr>\n",
              "      <th>4</th>\n",
              "      <td>-3.592562</td>\n",
              "      <td>12.906499</td>\n",
              "      <td>-2.006105</td>\n",
              "    </tr>\n",
              "  </tbody>\n",
              "</table>\n",
              "</div>\n",
              "      <button class=\"colab-df-convert\" onclick=\"convertToInteractive('df-fbd67634-b88f-4d54-b218-210303d27da9')\"\n",
              "              title=\"Convert this dataframe to an interactive table.\"\n",
              "              style=\"display:none;\">\n",
              "        \n",
              "  <svg xmlns=\"http://www.w3.org/2000/svg\" height=\"24px\"viewBox=\"0 0 24 24\"\n",
              "       width=\"24px\">\n",
              "    <path d=\"M0 0h24v24H0V0z\" fill=\"none\"/>\n",
              "    <path d=\"M18.56 5.44l.94 2.06.94-2.06 2.06-.94-2.06-.94-.94-2.06-.94 2.06-2.06.94zm-11 1L8.5 8.5l.94-2.06 2.06-.94-2.06-.94L8.5 2.5l-.94 2.06-2.06.94zm10 10l.94 2.06.94-2.06 2.06-.94-2.06-.94-.94-2.06-.94 2.06-2.06.94z\"/><path d=\"M17.41 7.96l-1.37-1.37c-.4-.4-.92-.59-1.43-.59-.52 0-1.04.2-1.43.59L10.3 9.45l-7.72 7.72c-.78.78-.78 2.05 0 2.83L4 21.41c.39.39.9.59 1.41.59.51 0 1.02-.2 1.41-.59l7.78-7.78 2.81-2.81c.8-.78.8-2.07 0-2.86zM5.41 20L4 18.59l7.72-7.72 1.47 1.35L5.41 20z\"/>\n",
              "  </svg>\n",
              "      </button>\n",
              "      \n",
              "  <style>\n",
              "    .colab-df-container {\n",
              "      display:flex;\n",
              "      flex-wrap:wrap;\n",
              "      gap: 12px;\n",
              "    }\n",
              "\n",
              "    .colab-df-convert {\n",
              "      background-color: #E8F0FE;\n",
              "      border: none;\n",
              "      border-radius: 50%;\n",
              "      cursor: pointer;\n",
              "      display: none;\n",
              "      fill: #1967D2;\n",
              "      height: 32px;\n",
              "      padding: 0 0 0 0;\n",
              "      width: 32px;\n",
              "    }\n",
              "\n",
              "    .colab-df-convert:hover {\n",
              "      background-color: #E2EBFA;\n",
              "      box-shadow: 0px 1px 2px rgba(60, 64, 67, 0.3), 0px 1px 3px 1px rgba(60, 64, 67, 0.15);\n",
              "      fill: #174EA6;\n",
              "    }\n",
              "\n",
              "    [theme=dark] .colab-df-convert {\n",
              "      background-color: #3B4455;\n",
              "      fill: #D2E3FC;\n",
              "    }\n",
              "\n",
              "    [theme=dark] .colab-df-convert:hover {\n",
              "      background-color: #434B5C;\n",
              "      box-shadow: 0px 1px 3px 1px rgba(0, 0, 0, 0.15);\n",
              "      filter: drop-shadow(0px 1px 2px rgba(0, 0, 0, 0.3));\n",
              "      fill: #FFFFFF;\n",
              "    }\n",
              "  </style>\n",
              "\n",
              "      <script>\n",
              "        const buttonEl =\n",
              "          document.querySelector('#df-fbd67634-b88f-4d54-b218-210303d27da9 button.colab-df-convert');\n",
              "        buttonEl.style.display =\n",
              "          google.colab.kernel.accessAllowed ? 'block' : 'none';\n",
              "\n",
              "        async function convertToInteractive(key) {\n",
              "          const element = document.querySelector('#df-fbd67634-b88f-4d54-b218-210303d27da9');\n",
              "          const dataTable =\n",
              "            await google.colab.kernel.invokeFunction('convertToInteractive',\n",
              "                                                     [key], {});\n",
              "          if (!dataTable) return;\n",
              "\n",
              "          const docLinkHtml = 'Like what you see? Visit the ' +\n",
              "            '<a target=\"_blank\" href=https://colab.research.google.com/notebooks/data_table.ipynb>data table notebook</a>'\n",
              "            + ' to learn more about interactive tables.';\n",
              "          element.innerHTML = '';\n",
              "          dataTable['output_type'] = 'display_data';\n",
              "          await google.colab.output.renderOutput(dataTable, element);\n",
              "          const docLink = document.createElement('div');\n",
              "          docLink.innerHTML = docLinkHtml;\n",
              "          element.appendChild(docLink);\n",
              "        }\n",
              "      </script>\n",
              "    </div>\n",
              "  </div>\n",
              "  "
            ]
          },
          "metadata": {},
          "execution_count": 29
        }
      ]
    },
    {
      "cell_type": "code",
      "source": [
        "residual_df.tail()"
      ],
      "metadata": {
        "colab": {
          "base_uri": "https://localhost:8080/",
          "height": 206
        },
        "id": "B__RDuxppsPI",
        "outputId": "a6fed9e1-03fb-429d-f823-c48ad99479de"
      },
      "execution_count": null,
      "outputs": [
        {
          "output_type": "execute_result",
          "data": {
            "text/plain": [
              "           ei  ei_square  ei_minus_1\n",
              "135  0.992998   0.986044    1.785357\n",
              "136  0.425400   0.180965    0.992998\n",
              "137  0.017150   0.000294    0.425400\n",
              "138  0.480828   0.231195    0.017150\n",
              "139 -2.414448   5.829558    0.480828"
            ],
            "text/html": [
              "\n",
              "  <div id=\"df-8217c61e-1c0c-4054-ac10-45a435329baf\">\n",
              "    <div class=\"colab-df-container\">\n",
              "      <div>\n",
              "<style scoped>\n",
              "    .dataframe tbody tr th:only-of-type {\n",
              "        vertical-align: middle;\n",
              "    }\n",
              "\n",
              "    .dataframe tbody tr th {\n",
              "        vertical-align: top;\n",
              "    }\n",
              "\n",
              "    .dataframe thead th {\n",
              "        text-align: right;\n",
              "    }\n",
              "</style>\n",
              "<table border=\"1\" class=\"dataframe\">\n",
              "  <thead>\n",
              "    <tr style=\"text-align: right;\">\n",
              "      <th></th>\n",
              "      <th>ei</th>\n",
              "      <th>ei_square</th>\n",
              "      <th>ei_minus_1</th>\n",
              "    </tr>\n",
              "  </thead>\n",
              "  <tbody>\n",
              "    <tr>\n",
              "      <th>135</th>\n",
              "      <td>0.992998</td>\n",
              "      <td>0.986044</td>\n",
              "      <td>1.785357</td>\n",
              "    </tr>\n",
              "    <tr>\n",
              "      <th>136</th>\n",
              "      <td>0.425400</td>\n",
              "      <td>0.180965</td>\n",
              "      <td>0.992998</td>\n",
              "    </tr>\n",
              "    <tr>\n",
              "      <th>137</th>\n",
              "      <td>0.017150</td>\n",
              "      <td>0.000294</td>\n",
              "      <td>0.425400</td>\n",
              "    </tr>\n",
              "    <tr>\n",
              "      <th>138</th>\n",
              "      <td>0.480828</td>\n",
              "      <td>0.231195</td>\n",
              "      <td>0.017150</td>\n",
              "    </tr>\n",
              "    <tr>\n",
              "      <th>139</th>\n",
              "      <td>-2.414448</td>\n",
              "      <td>5.829558</td>\n",
              "      <td>0.480828</td>\n",
              "    </tr>\n",
              "  </tbody>\n",
              "</table>\n",
              "</div>\n",
              "      <button class=\"colab-df-convert\" onclick=\"convertToInteractive('df-8217c61e-1c0c-4054-ac10-45a435329baf')\"\n",
              "              title=\"Convert this dataframe to an interactive table.\"\n",
              "              style=\"display:none;\">\n",
              "        \n",
              "  <svg xmlns=\"http://www.w3.org/2000/svg\" height=\"24px\"viewBox=\"0 0 24 24\"\n",
              "       width=\"24px\">\n",
              "    <path d=\"M0 0h24v24H0V0z\" fill=\"none\"/>\n",
              "    <path d=\"M18.56 5.44l.94 2.06.94-2.06 2.06-.94-2.06-.94-.94-2.06-.94 2.06-2.06.94zm-11 1L8.5 8.5l.94-2.06 2.06-.94-2.06-.94L8.5 2.5l-.94 2.06-2.06.94zm10 10l.94 2.06.94-2.06 2.06-.94-2.06-.94-.94-2.06-.94 2.06-2.06.94z\"/><path d=\"M17.41 7.96l-1.37-1.37c-.4-.4-.92-.59-1.43-.59-.52 0-1.04.2-1.43.59L10.3 9.45l-7.72 7.72c-.78.78-.78 2.05 0 2.83L4 21.41c.39.39.9.59 1.41.59.51 0 1.02-.2 1.41-.59l7.78-7.78 2.81-2.81c.8-.78.8-2.07 0-2.86zM5.41 20L4 18.59l7.72-7.72 1.47 1.35L5.41 20z\"/>\n",
              "  </svg>\n",
              "      </button>\n",
              "      \n",
              "  <style>\n",
              "    .colab-df-container {\n",
              "      display:flex;\n",
              "      flex-wrap:wrap;\n",
              "      gap: 12px;\n",
              "    }\n",
              "\n",
              "    .colab-df-convert {\n",
              "      background-color: #E8F0FE;\n",
              "      border: none;\n",
              "      border-radius: 50%;\n",
              "      cursor: pointer;\n",
              "      display: none;\n",
              "      fill: #1967D2;\n",
              "      height: 32px;\n",
              "      padding: 0 0 0 0;\n",
              "      width: 32px;\n",
              "    }\n",
              "\n",
              "    .colab-df-convert:hover {\n",
              "      background-color: #E2EBFA;\n",
              "      box-shadow: 0px 1px 2px rgba(60, 64, 67, 0.3), 0px 1px 3px 1px rgba(60, 64, 67, 0.15);\n",
              "      fill: #174EA6;\n",
              "    }\n",
              "\n",
              "    [theme=dark] .colab-df-convert {\n",
              "      background-color: #3B4455;\n",
              "      fill: #D2E3FC;\n",
              "    }\n",
              "\n",
              "    [theme=dark] .colab-df-convert:hover {\n",
              "      background-color: #434B5C;\n",
              "      box-shadow: 0px 1px 3px 1px rgba(0, 0, 0, 0.15);\n",
              "      filter: drop-shadow(0px 1px 2px rgba(0, 0, 0, 0.3));\n",
              "      fill: #FFFFFF;\n",
              "    }\n",
              "  </style>\n",
              "\n",
              "      <script>\n",
              "        const buttonEl =\n",
              "          document.querySelector('#df-8217c61e-1c0c-4054-ac10-45a435329baf button.colab-df-convert');\n",
              "        buttonEl.style.display =\n",
              "          google.colab.kernel.accessAllowed ? 'block' : 'none';\n",
              "\n",
              "        async function convertToInteractive(key) {\n",
              "          const element = document.querySelector('#df-8217c61e-1c0c-4054-ac10-45a435329baf');\n",
              "          const dataTable =\n",
              "            await google.colab.kernel.invokeFunction('convertToInteractive',\n",
              "                                                     [key], {});\n",
              "          if (!dataTable) return;\n",
              "\n",
              "          const docLinkHtml = 'Like what you see? Visit the ' +\n",
              "            '<a target=\"_blank\" href=https://colab.research.google.com/notebooks/data_table.ipynb>data table notebook</a>'\n",
              "            + ' to learn more about interactive tables.';\n",
              "          element.innerHTML = '';\n",
              "          dataTable['output_type'] = 'display_data';\n",
              "          await google.colab.output.renderOutput(dataTable, element);\n",
              "          const docLink = document.createElement('div');\n",
              "          docLink.innerHTML = docLinkHtml;\n",
              "          element.appendChild(docLink);\n",
              "        }\n",
              "      </script>\n",
              "    </div>\n",
              "  </div>\n",
              "  "
            ]
          },
          "metadata": {},
          "execution_count": 30
        }
      ]
    },
    {
      "cell_type": "code",
      "source": [
        "residual_df.dropna(inplace=True)"
      ],
      "metadata": {
        "id": "EaW3ARbPpzhU"
      },
      "execution_count": null,
      "outputs": []
    },
    {
      "cell_type": "code",
      "source": [
        "residual_df.shape"
      ],
      "metadata": {
        "colab": {
          "base_uri": "https://localhost:8080/"
        },
        "id": "aSNdvmHPp5LC",
        "outputId": "b057126b-ffab-4612-9714-a18f47cb1690"
      },
      "execution_count": null,
      "outputs": [
        {
          "output_type": "execute_result",
          "data": {
            "text/plain": [
              "(139, 3)"
            ]
          },
          "metadata": {},
          "execution_count": 32
        }
      ]
    },
    {
      "cell_type": "code",
      "source": [
        "residual_df['ei_sub_ei_minus_1'] = residual_df['ei'] - residual_df['ei_minus_1'] "
      ],
      "metadata": {
        "id": "qOIkxXhpp9k7"
      },
      "execution_count": null,
      "outputs": []
    },
    {
      "cell_type": "code",
      "source": [
        "residual_df['square_of_ei_sub_ei_minus_1'] = np.square(residual_df['ei_sub_ei_minus_1'])"
      ],
      "metadata": {
        "id": "zdzI4kxdqBdf"
      },
      "execution_count": null,
      "outputs": []
    },
    {
      "cell_type": "code",
      "source": [
        "residual_df.head()"
      ],
      "metadata": {
        "colab": {
          "base_uri": "https://localhost:8080/",
          "height": 206
        },
        "id": "9e9sT7V4qF0a",
        "outputId": "90b92d3d-72dc-4e70-cf8c-d40ea0ad93d7"
      },
      "execution_count": null,
      "outputs": [
        {
          "output_type": "execute_result",
          "data": {
            "text/plain": [
              "         ei  ei_square  ei_minus_1  ei_sub_ei_minus_1  \\\n",
              "1  0.308038   0.094888   -2.391498           2.699536   \n",
              "2  0.483493   0.233765    0.308038           0.175455   \n",
              "3 -2.006105   4.024456    0.483493          -2.489598   \n",
              "4 -3.592562  12.906499   -2.006105          -1.586457   \n",
              "5 -0.305778   0.093500   -3.592562           3.286784   \n",
              "\n",
              "   square_of_ei_sub_ei_minus_1  \n",
              "1                     7.287496  \n",
              "2                     0.030784  \n",
              "3                     6.198097  \n",
              "4                     2.516846  \n",
              "5                    10.802948  "
            ],
            "text/html": [
              "\n",
              "  <div id=\"df-b008bbf2-8a77-459a-a0b3-716732a8fc49\">\n",
              "    <div class=\"colab-df-container\">\n",
              "      <div>\n",
              "<style scoped>\n",
              "    .dataframe tbody tr th:only-of-type {\n",
              "        vertical-align: middle;\n",
              "    }\n",
              "\n",
              "    .dataframe tbody tr th {\n",
              "        vertical-align: top;\n",
              "    }\n",
              "\n",
              "    .dataframe thead th {\n",
              "        text-align: right;\n",
              "    }\n",
              "</style>\n",
              "<table border=\"1\" class=\"dataframe\">\n",
              "  <thead>\n",
              "    <tr style=\"text-align: right;\">\n",
              "      <th></th>\n",
              "      <th>ei</th>\n",
              "      <th>ei_square</th>\n",
              "      <th>ei_minus_1</th>\n",
              "      <th>ei_sub_ei_minus_1</th>\n",
              "      <th>square_of_ei_sub_ei_minus_1</th>\n",
              "    </tr>\n",
              "  </thead>\n",
              "  <tbody>\n",
              "    <tr>\n",
              "      <th>1</th>\n",
              "      <td>0.308038</td>\n",
              "      <td>0.094888</td>\n",
              "      <td>-2.391498</td>\n",
              "      <td>2.699536</td>\n",
              "      <td>7.287496</td>\n",
              "    </tr>\n",
              "    <tr>\n",
              "      <th>2</th>\n",
              "      <td>0.483493</td>\n",
              "      <td>0.233765</td>\n",
              "      <td>0.308038</td>\n",
              "      <td>0.175455</td>\n",
              "      <td>0.030784</td>\n",
              "    </tr>\n",
              "    <tr>\n",
              "      <th>3</th>\n",
              "      <td>-2.006105</td>\n",
              "      <td>4.024456</td>\n",
              "      <td>0.483493</td>\n",
              "      <td>-2.489598</td>\n",
              "      <td>6.198097</td>\n",
              "    </tr>\n",
              "    <tr>\n",
              "      <th>4</th>\n",
              "      <td>-3.592562</td>\n",
              "      <td>12.906499</td>\n",
              "      <td>-2.006105</td>\n",
              "      <td>-1.586457</td>\n",
              "      <td>2.516846</td>\n",
              "    </tr>\n",
              "    <tr>\n",
              "      <th>5</th>\n",
              "      <td>-0.305778</td>\n",
              "      <td>0.093500</td>\n",
              "      <td>-3.592562</td>\n",
              "      <td>3.286784</td>\n",
              "      <td>10.802948</td>\n",
              "    </tr>\n",
              "  </tbody>\n",
              "</table>\n",
              "</div>\n",
              "      <button class=\"colab-df-convert\" onclick=\"convertToInteractive('df-b008bbf2-8a77-459a-a0b3-716732a8fc49')\"\n",
              "              title=\"Convert this dataframe to an interactive table.\"\n",
              "              style=\"display:none;\">\n",
              "        \n",
              "  <svg xmlns=\"http://www.w3.org/2000/svg\" height=\"24px\"viewBox=\"0 0 24 24\"\n",
              "       width=\"24px\">\n",
              "    <path d=\"M0 0h24v24H0V0z\" fill=\"none\"/>\n",
              "    <path d=\"M18.56 5.44l.94 2.06.94-2.06 2.06-.94-2.06-.94-.94-2.06-.94 2.06-2.06.94zm-11 1L8.5 8.5l.94-2.06 2.06-.94-2.06-.94L8.5 2.5l-.94 2.06-2.06.94zm10 10l.94 2.06.94-2.06 2.06-.94-2.06-.94-.94-2.06-.94 2.06-2.06.94z\"/><path d=\"M17.41 7.96l-1.37-1.37c-.4-.4-.92-.59-1.43-.59-.52 0-1.04.2-1.43.59L10.3 9.45l-7.72 7.72c-.78.78-.78 2.05 0 2.83L4 21.41c.39.39.9.59 1.41.59.51 0 1.02-.2 1.41-.59l7.78-7.78 2.81-2.81c.8-.78.8-2.07 0-2.86zM5.41 20L4 18.59l7.72-7.72 1.47 1.35L5.41 20z\"/>\n",
              "  </svg>\n",
              "      </button>\n",
              "      \n",
              "  <style>\n",
              "    .colab-df-container {\n",
              "      display:flex;\n",
              "      flex-wrap:wrap;\n",
              "      gap: 12px;\n",
              "    }\n",
              "\n",
              "    .colab-df-convert {\n",
              "      background-color: #E8F0FE;\n",
              "      border: none;\n",
              "      border-radius: 50%;\n",
              "      cursor: pointer;\n",
              "      display: none;\n",
              "      fill: #1967D2;\n",
              "      height: 32px;\n",
              "      padding: 0 0 0 0;\n",
              "      width: 32px;\n",
              "    }\n",
              "\n",
              "    .colab-df-convert:hover {\n",
              "      background-color: #E2EBFA;\n",
              "      box-shadow: 0px 1px 2px rgba(60, 64, 67, 0.3), 0px 1px 3px 1px rgba(60, 64, 67, 0.15);\n",
              "      fill: #174EA6;\n",
              "    }\n",
              "\n",
              "    [theme=dark] .colab-df-convert {\n",
              "      background-color: #3B4455;\n",
              "      fill: #D2E3FC;\n",
              "    }\n",
              "\n",
              "    [theme=dark] .colab-df-convert:hover {\n",
              "      background-color: #434B5C;\n",
              "      box-shadow: 0px 1px 3px 1px rgba(0, 0, 0, 0.15);\n",
              "      filter: drop-shadow(0px 1px 2px rgba(0, 0, 0, 0.3));\n",
              "      fill: #FFFFFF;\n",
              "    }\n",
              "  </style>\n",
              "\n",
              "      <script>\n",
              "        const buttonEl =\n",
              "          document.querySelector('#df-b008bbf2-8a77-459a-a0b3-716732a8fc49 button.colab-df-convert');\n",
              "        buttonEl.style.display =\n",
              "          google.colab.kernel.accessAllowed ? 'block' : 'none';\n",
              "\n",
              "        async function convertToInteractive(key) {\n",
              "          const element = document.querySelector('#df-b008bbf2-8a77-459a-a0b3-716732a8fc49');\n",
              "          const dataTable =\n",
              "            await google.colab.kernel.invokeFunction('convertToInteractive',\n",
              "                                                     [key], {});\n",
              "          if (!dataTable) return;\n",
              "\n",
              "          const docLinkHtml = 'Like what you see? Visit the ' +\n",
              "            '<a target=\"_blank\" href=https://colab.research.google.com/notebooks/data_table.ipynb>data table notebook</a>'\n",
              "            + ' to learn more about interactive tables.';\n",
              "          element.innerHTML = '';\n",
              "          dataTable['output_type'] = 'display_data';\n",
              "          await google.colab.output.renderOutput(dataTable, element);\n",
              "          const docLink = document.createElement('div');\n",
              "          docLink.innerHTML = docLinkHtml;\n",
              "          element.appendChild(docLink);\n",
              "        }\n",
              "      </script>\n",
              "    </div>\n",
              "  </div>\n",
              "  "
            ]
          },
          "metadata": {},
          "execution_count": 35
        }
      ]
    },
    {
      "cell_type": "code",
      "source": [
        "sum_of_squared_of_difference_residuals = residual_df.sum()[\"square_of_ei_sub_ei_minus_1\"]\n",
        "sum_of_squared_of_difference_residuals"
      ],
      "metadata": {
        "colab": {
          "base_uri": "https://localhost:8080/"
        },
        "id": "bFsCKJv3qNlj",
        "outputId": "53b0ee4a-81bd-4598-8791-10e5a4572519"
      },
      "execution_count": null,
      "outputs": [
        {
          "output_type": "execute_result",
          "data": {
            "text/plain": [
              "793.3116126261241"
            ]
          },
          "metadata": {},
          "execution_count": 36
        }
      ]
    },
    {
      "cell_type": "code",
      "source": [
        "dw = sum_of_squared_of_difference_residuals/sum_of_squared_residuals"
      ],
      "metadata": {
        "id": "ym5qwx1HqRZd"
      },
      "execution_count": null,
      "outputs": []
    },
    {
      "cell_type": "code",
      "source": [
        "dw"
      ],
      "metadata": {
        "colab": {
          "base_uri": "https://localhost:8080/"
        },
        "id": "TrscSsTLqXYA",
        "outputId": "9517d800-e5cb-474e-b244-cdaedc4a6315"
      },
      "execution_count": null,
      "outputs": [
        {
          "output_type": "execute_result",
          "data": {
            "text/plain": [
              "2.2854779206175815"
            ]
          },
          "metadata": {},
          "execution_count": 38
        }
      ]
    },
    {
      "cell_type": "markdown",
      "source": [
        "#No autocorrelation of residuals"
      ],
      "metadata": {
        "id": "TAXd7TF4qcLd"
      }
    },
    {
      "cell_type": "code",
      "source": [
        "acf = smt.graphics.plot_acf(residual, lags=10 , alpha=0.05)\n",
        "acf.show()"
      ],
      "metadata": {
        "id": "cPrVo0rxqgNz",
        "outputId": "44d0f25e-ed13-405b-de62-7f682205b907",
        "colab": {
          "base_uri": "https://localhost:8080/",
          "height": 281
        }
      },
      "execution_count": null,
      "outputs": [
        {
          "output_type": "display_data",
          "data": {
            "text/plain": [
              "<Figure size 432x288 with 1 Axes>"
            ],
            "image/png": "[encoded data removed]"
          },
          "metadata": {
            "needs_background": "light"
          }
        }
      ]
    },
    {
      "cell_type": "markdown",
      "source": [
        "#What is Hypothesis testing and how is it related to significance level?\n",
        "\n",
        "\n",
        "Hypothesis testing can be defined as tests performed to evaluate whether a claim or theory about something is true or otherwise.\n",
        "\n",
        "\n",
        " In order to perform hypothesis tests, the following steps need to be taken:\n",
        "\n",
        "Hypothesis formulation: Formulate the null and alternate hypothesis\n",
        "\n",
        "1.Data collection: Gather the sample of data \n",
        "\n",
        "2.Statistical tests: Determine the statistical test and test statistics.\n",
        "\n",
        "3. The statistical tests can be z-test or t-test depending upon the number of data samples and/or whether the population variance is known otherwise.\n",
        "\n",
        "4.Set the level of significance\n",
        "\n",
        "5.Calculate the p-value\n",
        "\n",
        "\n",
        "Draw conclusions: Based on the value of p-value and significance level, reject the null hypothesis or otherwise."
      ],
      "metadata": {
        "id": "08EVMwlo-6vg"
      }
    },
    {
      "cell_type": "markdown",
      "source": [
        "#What is the level of significance?\n",
        "The level of significance is defined as the criteria or threshold value based on which one can reject the null hypothesis or fail to reject the null hypothesis. \n",
        "\n",
        "\n",
        "The level of significance determines whether the outcome of hypothesis testing is statistically significant or otherwise. The significance level is also called as alpha level."
      ],
      "metadata": {
        "id": "scjqanthC4ef"
      }
    },
    {
      "cell_type": "markdown",
      "source": [
        "Null hypothesis: There is no difference between the performance of students even after providing extra coaching of 2 hours after the schools are over.\n",
        "\n",
        "\n",
        "\n",
        "Alternate hypothesis: Students perform better when they get extra coaching of 2 hours after the schools are over. This hypothesis testing example would require a level of significant value at 0.05 or simply put, it would need to be highly precise that there’s actually a difference between the performance of students based on whether they take extra coaching."
      ],
      "metadata": {
        "id": "RaLQPNDFD14E"
      }
    },
    {
      "cell_type": "markdown",
      "source": [
        "Now, let’s say that we conduct this experiment with 100 students and measure their scores in exams. The test statistics is computed to be z=-0.50 (p-value=0.62). \n",
        "\n",
        "Since the p-value is more than 0.05, we fail to reject the null hypothesis. There is not enough evidence to show that there’s a difference in the performance of students based on whether they get extra coaching.\n",
        "\n",
        "While performing hypothesis tests or experiments, it is important to keep the level of significance in mind."
      ],
      "metadata": {
        "id": "yf4DalOgEIm8"
      }
    }
  ]
}