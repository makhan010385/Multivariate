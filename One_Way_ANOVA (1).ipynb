{
  "nbformat": 4,
  "nbformat_minor": 0,
  "metadata": {
    "colab": {
      "provenance": []
    },
    "kernelspec": {
      "name": "python3",
      "display_name": "Python 3"
    },
    "language_info": {
      "name": "python"
    }
  },
  "cells": [
    {
      "cell_type": "markdown",
      "source": [
        "A one-way ANOVA (“analysis of variance”) is used to determine whether or not there is a statistically significant difference between the means of three or more independent groups."
      ],
      "metadata": {
        "id": "rlmp6lBJI7OP"
      }
    },
    {
      "cell_type": "markdown",
      "source": [
        "Example: One-Way ANOVA in Python\n",
        "A researcher recruits 30 students to participate in a study.\n",
        "\n",
        " The students are randomly assigned to use one of three studying techniques for the next three weeks to prepare for an exam. At the end of the three weeks, all of the students take the same test. \n",
        "\n",
        "Use the following steps to perform a one-way ANOVA to determine if the average scores are the same across all three groups."
      ],
      "metadata": {
        "id": "34SEpa2mJF64"
      }
    },
    {
      "cell_type": "markdown",
      "source": [
        "Step 1: Enter the data.\n",
        "\n",
        "First, we’ll enter the exam scores for each group into three separate arrays:\n",
        "\n",
        "\n",
        "#enter exam scores for each group\n",
        "\n",
        "group1 = [85, 86, 88, 75, 78, 94, 98, 79, 71, 80]\n",
        "\n",
        "\n",
        "group2 = [91, 92, 93, 85, 87, 84, 82, 88, 95, 96]\n",
        "\n",
        "\n",
        "group3 = [79, 78, 88, 94, 92, 85, 83, 85, 82, 81]\n"
      ],
      "metadata": {
        "id": "BABS9kAmJUfM"
      }
    },
    {
      "cell_type": "code",
      "source": [
        "group1 = [85, 86, 88, 75, 78, 94, 98, 79, 71, 80]\n",
        "\n",
        "group2 = [91, 92, 93, 85, 87, 84, 82, 88, 95, 96]\n",
        "\n",
        "group3 = [79, 78, 88, 94, 92, 85, 83, 85, 82, 81]"
      ],
      "metadata": {
        "id": "L-N6ILuNJ9ld"
      },
      "execution_count": null,
      "outputs": []
    },
    {
      "cell_type": "markdown",
      "source": [
        "#Step 2: Perform the one-way ANOVA.\n",
        "\n",
        "Next, we’ll use the f_oneway() function from the SciPy library to perform the one-way ANOVA:"
      ],
      "metadata": {
        "id": "kp-UUwEZJkC5"
      }
    },
    {
      "cell_type": "code",
      "source": [
        "from scipy.stats import f_oneway\n",
        "\n",
        "#perform one-way ANOVA\n",
        "f_oneway(group1, group2, group3)\n",
        "\n",
        "#(statistic=2.3575, pvalue=0.1138)"
      ],
      "metadata": {
        "colab": {
          "base_uri": "https://localhost:8080/"
        },
        "id": "TOcXkdaeJy8e",
        "outputId": "89b824fe-e8ab-46d6-f2cb-610efdb70f64"
      },
      "execution_count": null,
      "outputs": [
        {
          "output_type": "execute_result",
          "data": {
            "text/plain": [
              "F_onewayResult(statistic=2.3575322551335636, pvalue=0.11384795345837218)"
            ]
          },
          "metadata": {},
          "execution_count": 4
        }
      ]
    },
    {
      "cell_type": "code",
      "source": [],
      "metadata": {
        "id": "FvI8_NFLKnDz"
      },
      "execution_count": null,
      "outputs": []
    },
    {
      "cell_type": "markdown",
      "source": [
        "#Step 3: Interpret the results.\n",
        "\n",
        "A one-way ANOVA uses the following null and alternative hypotheses:\n",
        "\n",
        "H0 (null hypothesis): μ1 = μ2 = μ3 = … = μk (all the population means are equal)\n",
        "\n",
        "\n",
        "H1 (null hypothesis): at least one population mean is different from the rest"
      ],
      "metadata": {
        "id": "n-p3ttdrKMip"
      }
    },
    {
      "cell_type": "markdown",
      "source": [
        "The F test statistic is 2.3575 and the corresponding p-value is 0.1138. \n",
        "\n",
        "\n",
        "Since the p-value is not less than .05, we fail to reject the null hypothesis.\n",
        "\n",
        "This means we do not have sufficient evidence to say that there is a difference in exam scores among the three studying techniques."
      ],
      "metadata": {
        "id": "UZVMrv9CKj9O"
      }
    }
  ]
}